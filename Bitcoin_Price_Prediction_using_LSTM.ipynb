{
  "nbformat": 4,
  "nbformat_minor": 0,
  "metadata": {
    "colab": {
      "name": "Bitcoin_Price_Prediction_using_LSTM.ipynb",
      "provenance": [],
      "authorship_tag": "ABX9TyNig4pJpgonRo4GxuB0QUKt",
      "include_colab_link": true
    },
    "kernelspec": {
      "name": "python3",
      "display_name": "Python 3"
    },
    "language_info": {
      "name": "python"
    }
  },
  "cells": [
    {
      "cell_type": "markdown",
      "metadata": {
        "id": "view-in-github",
        "colab_type": "text"
      },
      "source": [
        "<a href=\"https://colab.research.google.com/github/FaizanHameed1/Bitcoin-Price-Prediction-using-LSTM/blob/main/Bitcoin_Price_Prediction_using_LSTM.ipynb\" target=\"_parent\"><img src=\"https://colab.research.google.com/assets/colab-badge.svg\" alt=\"Open In Colab\"/></a>"
      ]
    },
    {
      "cell_type": "markdown",
      "metadata": {
        "id": "evxj30vm1ulu"
      },
      "source": [
        "# Predicting Bitcoin Price Using LSTM"
      ]
    },
    {
      "cell_type": "markdown",
      "metadata": {
        "id": "3_Tzm6bs2E0q"
      },
      "source": [
        "## Faizan Hameed"
      ]
    },
    {
      "cell_type": "markdown",
      "metadata": {
        "id": "T-t3yCmw2S0b"
      },
      "source": [
        "### 1-Downloading Dataset in Google Drive"
      ]
    },
    {
      "cell_type": "code",
      "metadata": {
        "colab": {
          "base_uri": "https://localhost:8080/"
        },
        "id": "LgnkxQaepaLI",
        "outputId": "737dccaa-ddfc-451d-a22a-04b4364e25d1"
      },
      "source": [
        "from google.colab import drive\n",
        "drive.mount('/content/gdrive')"
      ],
      "execution_count": 171,
      "outputs": [
        {
          "output_type": "stream",
          "text": [
            "Drive already mounted at /content/gdrive; to attempt to forcibly remount, call drive.mount(\"/content/gdrive\", force_remount=True).\n"
          ],
          "name": "stdout"
        }
      ]
    },
    {
      "cell_type": "code",
      "metadata": {
        "id": "W_abLteJs3uk"
      },
      "source": [
        "#Run only 1st time\n",
        "#import os\n",
        "#os.environ['KAGGLE_CONFIG_DIR'] = \"/content/gdrive/My Drive/Kaggle\""
      ],
      "execution_count": 172,
      "outputs": []
    },
    {
      "cell_type": "code",
      "metadata": {
        "colab": {
          "base_uri": "https://localhost:8080/"
        },
        "id": "CjeQ7vhOtGcp",
        "outputId": "4c800de1-8d26-48a4-aaee-8662ea8c53c8"
      },
      "source": [
        "#changing the working directory\n",
        "%cd /content/gdrive/My Drive/Kaggle"
      ],
      "execution_count": 173,
      "outputs": [
        {
          "output_type": "stream",
          "text": [
            "/content/gdrive/My Drive/Kaggle\n"
          ],
          "name": "stdout"
        }
      ]
    },
    {
      "cell_type": "code",
      "metadata": {
        "id": "drwACzjytSWx",
        "colab": {
          "base_uri": "https://localhost:8080/",
          "height": 35
        },
        "outputId": "5607a93a-d2a3-4f38-dda6-30b1e49dd9bf"
      },
      "source": [
        "#Check the present working directory\n",
        "import os\n",
        "os.getcwd() \n"
      ],
      "execution_count": 174,
      "outputs": [
        {
          "output_type": "execute_result",
          "data": {
            "application/vnd.google.colaboratory.intrinsic+json": {
              "type": "string"
            },
            "text/plain": [
              "'/content/gdrive/My Drive/Kaggle'"
            ]
          },
          "metadata": {
            "tags": []
          },
          "execution_count": 174
        }
      ]
    },
    {
      "cell_type": "code",
      "metadata": {
        "id": "FPuQbIjwtqAq"
      },
      "source": [
        "#Run this cell only 1st time to download the dataset in spacified directory \n",
        "# Copy the API command from Kaggle Dataset and paste(using !) to download the data\n",
        "#!kaggle datasets download -d mczielinski/bitcoin-historical-data"
      ],
      "execution_count": 175,
      "outputs": []
    },
    {
      "cell_type": "code",
      "metadata": {
        "colab": {
          "base_uri": "https://localhost:8080/"
        },
        "id": "IELJ7uJLzmYT",
        "outputId": "6af8bd63-a347-4bd3-b350-4c5d805df546"
      },
      "source": [
        "#check the content in our directory\n",
        "!ls"
      ],
      "execution_count": 176,
      "outputs": [
        {
          "output_type": "stream",
          "text": [
            "BC_Data.csv  coin_Bitcoin.csv  kaggle.json\n"
          ],
          "name": "stdout"
        }
      ]
    },
    {
      "cell_type": "code",
      "metadata": {
        "id": "x9FYs9Sfz7e8"
      },
      "source": [
        "#Run only once to unzip the Dataset\n",
        "#unzipping the zip files and deleting the zip files\n",
        "#!unzip \\*.zip  && rm *.zip"
      ],
      "execution_count": 177,
      "outputs": []
    },
    {
      "cell_type": "markdown",
      "metadata": {
        "id": "AEygCGE_3OLt"
      },
      "source": [
        "### 2-Importing Libraries "
      ]
    },
    {
      "cell_type": "code",
      "metadata": {
        "id": "fGl-nlU803Fe"
      },
      "source": [
        "import pandas as pd\n",
        "import numpy as np\n",
        "from scipy import stats\n",
        "import matplotlib.pyplot as plt\n",
        "import seaborn as sns\n",
        "from sklearn.preprocessing import MinMaxScaler,StandardScaler\n",
        "from sklearn.model_selection import train_test_split\n",
        "import tensorflow as tf\n",
        "from keras.models import Sequential\n",
        "from keras.layers import LSTM, Dropout, LeakyReLU,Dense\n",
        "from keras.preprocessing.sequence import TimeseriesGenerator\n",
        "from keras.callbacks import EarlyStopping\n",
        "from keras.losses import MeanSquaredError\n",
        "from keras.optimizers import Adam\n",
        "from keras.losses import MeanAbsoluteError\n",
        "from keras.models import model_from_json\n",
        "%matplotlib inline"
      ],
      "execution_count": 180,
      "outputs": []
    },
    {
      "cell_type": "code",
      "metadata": {
        "colab": {
          "base_uri": "https://localhost:8080/",
          "height": 221
        },
        "id": "MSk3T--KtDu5",
        "outputId": "1717b641-edd2-4aed-8466-ecce31110a83"
      },
      "source": [
        "d_frame=pd.read_csv('BC_Data.csv')\n",
        "print('1st 5 rows')\n",
        "d_frame.head(5)"
      ],
      "execution_count": 181,
      "outputs": [
        {
          "output_type": "stream",
          "text": [
            "1st 5 rows\n"
          ],
          "name": "stdout"
        },
        {
          "output_type": "execute_result",
          "data": {
            "text/html": [
              "<div>\n",
              "<style scoped>\n",
              "    .dataframe tbody tr th:only-of-type {\n",
              "        vertical-align: middle;\n",
              "    }\n",
              "\n",
              "    .dataframe tbody tr th {\n",
              "        vertical-align: top;\n",
              "    }\n",
              "\n",
              "    .dataframe thead th {\n",
              "        text-align: right;\n",
              "    }\n",
              "</style>\n",
              "<table border=\"1\" class=\"dataframe\">\n",
              "  <thead>\n",
              "    <tr style=\"text-align: right;\">\n",
              "      <th></th>\n",
              "      <th>Timestamp</th>\n",
              "      <th>Open</th>\n",
              "      <th>High</th>\n",
              "      <th>Low</th>\n",
              "      <th>Close</th>\n",
              "      <th>Volume_(BTC)</th>\n",
              "      <th>Volume_(Currency)</th>\n",
              "      <th>Weighted_Price</th>\n",
              "    </tr>\n",
              "  </thead>\n",
              "  <tbody>\n",
              "    <tr>\n",
              "      <th>0</th>\n",
              "      <td>1325317920</td>\n",
              "      <td>4.39</td>\n",
              "      <td>4.39</td>\n",
              "      <td>4.39</td>\n",
              "      <td>4.39</td>\n",
              "      <td>0.455581</td>\n",
              "      <td>2.0</td>\n",
              "      <td>4.39</td>\n",
              "    </tr>\n",
              "    <tr>\n",
              "      <th>1</th>\n",
              "      <td>1325317980</td>\n",
              "      <td>NaN</td>\n",
              "      <td>NaN</td>\n",
              "      <td>NaN</td>\n",
              "      <td>NaN</td>\n",
              "      <td>NaN</td>\n",
              "      <td>NaN</td>\n",
              "      <td>NaN</td>\n",
              "    </tr>\n",
              "    <tr>\n",
              "      <th>2</th>\n",
              "      <td>1325318040</td>\n",
              "      <td>NaN</td>\n",
              "      <td>NaN</td>\n",
              "      <td>NaN</td>\n",
              "      <td>NaN</td>\n",
              "      <td>NaN</td>\n",
              "      <td>NaN</td>\n",
              "      <td>NaN</td>\n",
              "    </tr>\n",
              "    <tr>\n",
              "      <th>3</th>\n",
              "      <td>1325318100</td>\n",
              "      <td>NaN</td>\n",
              "      <td>NaN</td>\n",
              "      <td>NaN</td>\n",
              "      <td>NaN</td>\n",
              "      <td>NaN</td>\n",
              "      <td>NaN</td>\n",
              "      <td>NaN</td>\n",
              "    </tr>\n",
              "    <tr>\n",
              "      <th>4</th>\n",
              "      <td>1325318160</td>\n",
              "      <td>NaN</td>\n",
              "      <td>NaN</td>\n",
              "      <td>NaN</td>\n",
              "      <td>NaN</td>\n",
              "      <td>NaN</td>\n",
              "      <td>NaN</td>\n",
              "      <td>NaN</td>\n",
              "    </tr>\n",
              "  </tbody>\n",
              "</table>\n",
              "</div>"
            ],
            "text/plain": [
              "    Timestamp  Open  High  ...  Volume_(BTC)  Volume_(Currency)  Weighted_Price\n",
              "0  1325317920  4.39  4.39  ...      0.455581                2.0            4.39\n",
              "1  1325317980   NaN   NaN  ...           NaN                NaN             NaN\n",
              "2  1325318040   NaN   NaN  ...           NaN                NaN             NaN\n",
              "3  1325318100   NaN   NaN  ...           NaN                NaN             NaN\n",
              "4  1325318160   NaN   NaN  ...           NaN                NaN             NaN\n",
              "\n",
              "[5 rows x 8 columns]"
            ]
          },
          "metadata": {
            "tags": []
          },
          "execution_count": 181
        }
      ]
    },
    {
      "cell_type": "code",
      "metadata": {
        "id": "sSwjc7t6oDnU"
      },
      "source": [
        "#d_frame.info()# Here datatype of Timestamp is \"int64\"."
      ],
      "execution_count": 182,
      "outputs": []
    },
    {
      "cell_type": "code",
      "metadata": {
        "id": "WGZWJN0smiu3"
      },
      "source": [
        "#d_frame[\"Timestamp\"]=pd.to_datetime(d_frame['Timestamp'],infer_datetime_format=True) #We converted in \"Timestamp\" format. Now datatype of \"Timestamp\" is object but we used\"infer_datetime_format=True\" that converts \"Timestamp\" format from \"object\" to \"datetime64\" format)\n",
        "#d_frame.head()"
      ],
      "execution_count": 183,
      "outputs": []
    },
    {
      "cell_type": "code",
      "metadata": {
        "id": "3TxWou83nXlX"
      },
      "source": [
        "#d_frame.info()"
      ],
      "execution_count": 184,
      "outputs": []
    },
    {
      "cell_type": "code",
      "metadata": {
        "colab": {
          "base_uri": "https://localhost:8080/"
        },
        "id": "h9Gqaor3ujq5",
        "outputId": "e9549ba2-fe4a-4dd5-eeca-034cca129aac"
      },
      "source": [
        "d_frame.shape # No of rows and columns in this dataframe "
      ],
      "execution_count": 185,
      "outputs": [
        {
          "output_type": "execute_result",
          "data": {
            "text/plain": [
              "(4857377, 8)"
            ]
          },
          "metadata": {
            "tags": []
          },
          "execution_count": 185
        }
      ]
    },
    {
      "cell_type": "code",
      "metadata": {
        "colab": {
          "base_uri": "https://localhost:8080/",
          "height": 359
        },
        "id": "1zmwxsbO4xFk",
        "outputId": "740d95e6-d3f6-4e2d-e592-391f4dadfbe6"
      },
      "source": [
        "# We want to replace missing values i.e \"?\" to Python's default missing value marker \"NaN\"\n",
        "d_frame.replace(\"?\", np.nan, inplace = True)\n",
        "d_frame.head(10)"
      ],
      "execution_count": 186,
      "outputs": [
        {
          "output_type": "execute_result",
          "data": {
            "text/html": [
              "<div>\n",
              "<style scoped>\n",
              "    .dataframe tbody tr th:only-of-type {\n",
              "        vertical-align: middle;\n",
              "    }\n",
              "\n",
              "    .dataframe tbody tr th {\n",
              "        vertical-align: top;\n",
              "    }\n",
              "\n",
              "    .dataframe thead th {\n",
              "        text-align: right;\n",
              "    }\n",
              "</style>\n",
              "<table border=\"1\" class=\"dataframe\">\n",
              "  <thead>\n",
              "    <tr style=\"text-align: right;\">\n",
              "      <th></th>\n",
              "      <th>Timestamp</th>\n",
              "      <th>Open</th>\n",
              "      <th>High</th>\n",
              "      <th>Low</th>\n",
              "      <th>Close</th>\n",
              "      <th>Volume_(BTC)</th>\n",
              "      <th>Volume_(Currency)</th>\n",
              "      <th>Weighted_Price</th>\n",
              "    </tr>\n",
              "  </thead>\n",
              "  <tbody>\n",
              "    <tr>\n",
              "      <th>0</th>\n",
              "      <td>1325317920</td>\n",
              "      <td>4.39</td>\n",
              "      <td>4.39</td>\n",
              "      <td>4.39</td>\n",
              "      <td>4.39</td>\n",
              "      <td>0.455581</td>\n",
              "      <td>2.0</td>\n",
              "      <td>4.39</td>\n",
              "    </tr>\n",
              "    <tr>\n",
              "      <th>1</th>\n",
              "      <td>1325317980</td>\n",
              "      <td>NaN</td>\n",
              "      <td>NaN</td>\n",
              "      <td>NaN</td>\n",
              "      <td>NaN</td>\n",
              "      <td>NaN</td>\n",
              "      <td>NaN</td>\n",
              "      <td>NaN</td>\n",
              "    </tr>\n",
              "    <tr>\n",
              "      <th>2</th>\n",
              "      <td>1325318040</td>\n",
              "      <td>NaN</td>\n",
              "      <td>NaN</td>\n",
              "      <td>NaN</td>\n",
              "      <td>NaN</td>\n",
              "      <td>NaN</td>\n",
              "      <td>NaN</td>\n",
              "      <td>NaN</td>\n",
              "    </tr>\n",
              "    <tr>\n",
              "      <th>3</th>\n",
              "      <td>1325318100</td>\n",
              "      <td>NaN</td>\n",
              "      <td>NaN</td>\n",
              "      <td>NaN</td>\n",
              "      <td>NaN</td>\n",
              "      <td>NaN</td>\n",
              "      <td>NaN</td>\n",
              "      <td>NaN</td>\n",
              "    </tr>\n",
              "    <tr>\n",
              "      <th>4</th>\n",
              "      <td>1325318160</td>\n",
              "      <td>NaN</td>\n",
              "      <td>NaN</td>\n",
              "      <td>NaN</td>\n",
              "      <td>NaN</td>\n",
              "      <td>NaN</td>\n",
              "      <td>NaN</td>\n",
              "      <td>NaN</td>\n",
              "    </tr>\n",
              "    <tr>\n",
              "      <th>5</th>\n",
              "      <td>1325318220</td>\n",
              "      <td>NaN</td>\n",
              "      <td>NaN</td>\n",
              "      <td>NaN</td>\n",
              "      <td>NaN</td>\n",
              "      <td>NaN</td>\n",
              "      <td>NaN</td>\n",
              "      <td>NaN</td>\n",
              "    </tr>\n",
              "    <tr>\n",
              "      <th>6</th>\n",
              "      <td>1325318280</td>\n",
              "      <td>NaN</td>\n",
              "      <td>NaN</td>\n",
              "      <td>NaN</td>\n",
              "      <td>NaN</td>\n",
              "      <td>NaN</td>\n",
              "      <td>NaN</td>\n",
              "      <td>NaN</td>\n",
              "    </tr>\n",
              "    <tr>\n",
              "      <th>7</th>\n",
              "      <td>1325318340</td>\n",
              "      <td>NaN</td>\n",
              "      <td>NaN</td>\n",
              "      <td>NaN</td>\n",
              "      <td>NaN</td>\n",
              "      <td>NaN</td>\n",
              "      <td>NaN</td>\n",
              "      <td>NaN</td>\n",
              "    </tr>\n",
              "    <tr>\n",
              "      <th>8</th>\n",
              "      <td>1325318400</td>\n",
              "      <td>NaN</td>\n",
              "      <td>NaN</td>\n",
              "      <td>NaN</td>\n",
              "      <td>NaN</td>\n",
              "      <td>NaN</td>\n",
              "      <td>NaN</td>\n",
              "      <td>NaN</td>\n",
              "    </tr>\n",
              "    <tr>\n",
              "      <th>9</th>\n",
              "      <td>1325318460</td>\n",
              "      <td>NaN</td>\n",
              "      <td>NaN</td>\n",
              "      <td>NaN</td>\n",
              "      <td>NaN</td>\n",
              "      <td>NaN</td>\n",
              "      <td>NaN</td>\n",
              "      <td>NaN</td>\n",
              "    </tr>\n",
              "  </tbody>\n",
              "</table>\n",
              "</div>"
            ],
            "text/plain": [
              "    Timestamp  Open  High  ...  Volume_(BTC)  Volume_(Currency)  Weighted_Price\n",
              "0  1325317920  4.39  4.39  ...      0.455581                2.0            4.39\n",
              "1  1325317980   NaN   NaN  ...           NaN                NaN             NaN\n",
              "2  1325318040   NaN   NaN  ...           NaN                NaN             NaN\n",
              "3  1325318100   NaN   NaN  ...           NaN                NaN             NaN\n",
              "4  1325318160   NaN   NaN  ...           NaN                NaN             NaN\n",
              "5  1325318220   NaN   NaN  ...           NaN                NaN             NaN\n",
              "6  1325318280   NaN   NaN  ...           NaN                NaN             NaN\n",
              "7  1325318340   NaN   NaN  ...           NaN                NaN             NaN\n",
              "8  1325318400   NaN   NaN  ...           NaN                NaN             NaN\n",
              "9  1325318460   NaN   NaN  ...           NaN                NaN             NaN\n",
              "\n",
              "[10 rows x 8 columns]"
            ]
          },
          "metadata": {
            "tags": []
          },
          "execution_count": 186
        }
      ]
    },
    {
      "cell_type": "code",
      "metadata": {
        "colab": {
          "base_uri": "https://localhost:8080/",
          "height": 359
        },
        "id": "d6TzQvHt8bkh",
        "outputId": "665366e6-1a89-4f25-fc47-874fd9b42988"
      },
      "source": [
        "#After converting to default now detecting missing data(we can use .isnull()\n",
        "#or .notnull() method)\n",
        "#True\" stands for missing value, while \"False\" stands for not missing value.\n",
        "missing_values = d_frame.isnull()\n",
        "missing_values.head(10)"
      ],
      "execution_count": 187,
      "outputs": [
        {
          "output_type": "execute_result",
          "data": {
            "text/html": [
              "<div>\n",
              "<style scoped>\n",
              "    .dataframe tbody tr th:only-of-type {\n",
              "        vertical-align: middle;\n",
              "    }\n",
              "\n",
              "    .dataframe tbody tr th {\n",
              "        vertical-align: top;\n",
              "    }\n",
              "\n",
              "    .dataframe thead th {\n",
              "        text-align: right;\n",
              "    }\n",
              "</style>\n",
              "<table border=\"1\" class=\"dataframe\">\n",
              "  <thead>\n",
              "    <tr style=\"text-align: right;\">\n",
              "      <th></th>\n",
              "      <th>Timestamp</th>\n",
              "      <th>Open</th>\n",
              "      <th>High</th>\n",
              "      <th>Low</th>\n",
              "      <th>Close</th>\n",
              "      <th>Volume_(BTC)</th>\n",
              "      <th>Volume_(Currency)</th>\n",
              "      <th>Weighted_Price</th>\n",
              "    </tr>\n",
              "  </thead>\n",
              "  <tbody>\n",
              "    <tr>\n",
              "      <th>0</th>\n",
              "      <td>False</td>\n",
              "      <td>False</td>\n",
              "      <td>False</td>\n",
              "      <td>False</td>\n",
              "      <td>False</td>\n",
              "      <td>False</td>\n",
              "      <td>False</td>\n",
              "      <td>False</td>\n",
              "    </tr>\n",
              "    <tr>\n",
              "      <th>1</th>\n",
              "      <td>False</td>\n",
              "      <td>True</td>\n",
              "      <td>True</td>\n",
              "      <td>True</td>\n",
              "      <td>True</td>\n",
              "      <td>True</td>\n",
              "      <td>True</td>\n",
              "      <td>True</td>\n",
              "    </tr>\n",
              "    <tr>\n",
              "      <th>2</th>\n",
              "      <td>False</td>\n",
              "      <td>True</td>\n",
              "      <td>True</td>\n",
              "      <td>True</td>\n",
              "      <td>True</td>\n",
              "      <td>True</td>\n",
              "      <td>True</td>\n",
              "      <td>True</td>\n",
              "    </tr>\n",
              "    <tr>\n",
              "      <th>3</th>\n",
              "      <td>False</td>\n",
              "      <td>True</td>\n",
              "      <td>True</td>\n",
              "      <td>True</td>\n",
              "      <td>True</td>\n",
              "      <td>True</td>\n",
              "      <td>True</td>\n",
              "      <td>True</td>\n",
              "    </tr>\n",
              "    <tr>\n",
              "      <th>4</th>\n",
              "      <td>False</td>\n",
              "      <td>True</td>\n",
              "      <td>True</td>\n",
              "      <td>True</td>\n",
              "      <td>True</td>\n",
              "      <td>True</td>\n",
              "      <td>True</td>\n",
              "      <td>True</td>\n",
              "    </tr>\n",
              "    <tr>\n",
              "      <th>5</th>\n",
              "      <td>False</td>\n",
              "      <td>True</td>\n",
              "      <td>True</td>\n",
              "      <td>True</td>\n",
              "      <td>True</td>\n",
              "      <td>True</td>\n",
              "      <td>True</td>\n",
              "      <td>True</td>\n",
              "    </tr>\n",
              "    <tr>\n",
              "      <th>6</th>\n",
              "      <td>False</td>\n",
              "      <td>True</td>\n",
              "      <td>True</td>\n",
              "      <td>True</td>\n",
              "      <td>True</td>\n",
              "      <td>True</td>\n",
              "      <td>True</td>\n",
              "      <td>True</td>\n",
              "    </tr>\n",
              "    <tr>\n",
              "      <th>7</th>\n",
              "      <td>False</td>\n",
              "      <td>True</td>\n",
              "      <td>True</td>\n",
              "      <td>True</td>\n",
              "      <td>True</td>\n",
              "      <td>True</td>\n",
              "      <td>True</td>\n",
              "      <td>True</td>\n",
              "    </tr>\n",
              "    <tr>\n",
              "      <th>8</th>\n",
              "      <td>False</td>\n",
              "      <td>True</td>\n",
              "      <td>True</td>\n",
              "      <td>True</td>\n",
              "      <td>True</td>\n",
              "      <td>True</td>\n",
              "      <td>True</td>\n",
              "      <td>True</td>\n",
              "    </tr>\n",
              "    <tr>\n",
              "      <th>9</th>\n",
              "      <td>False</td>\n",
              "      <td>True</td>\n",
              "      <td>True</td>\n",
              "      <td>True</td>\n",
              "      <td>True</td>\n",
              "      <td>True</td>\n",
              "      <td>True</td>\n",
              "      <td>True</td>\n",
              "    </tr>\n",
              "  </tbody>\n",
              "</table>\n",
              "</div>"
            ],
            "text/plain": [
              "   Timestamp   Open   High  ...  Volume_(BTC)  Volume_(Currency)  Weighted_Price\n",
              "0      False  False  False  ...         False              False           False\n",
              "1      False   True   True  ...          True               True            True\n",
              "2      False   True   True  ...          True               True            True\n",
              "3      False   True   True  ...          True               True            True\n",
              "4      False   True   True  ...          True               True            True\n",
              "5      False   True   True  ...          True               True            True\n",
              "6      False   True   True  ...          True               True            True\n",
              "7      False   True   True  ...          True               True            True\n",
              "8      False   True   True  ...          True               True            True\n",
              "9      False   True   True  ...          True               True            True\n",
              "\n",
              "[10 rows x 8 columns]"
            ]
          },
          "metadata": {
            "tags": []
          },
          "execution_count": 187
        }
      ]
    },
    {
      "cell_type": "code",
      "metadata": {
        "colab": {
          "base_uri": "https://localhost:8080/"
        },
        "id": "GoAIaX7PONlw",
        "outputId": "73b0ed95-751b-4cff-b686-9838e553b22e"
      },
      "source": [
        "# Checking the missing values in each column\n",
        "for column in missing_values.columns.values.tolist():\n",
        "    print(column)\n",
        "    print (missing_values[column].value_counts())\n",
        "    print(\"\") "
      ],
      "execution_count": 188,
      "outputs": [
        {
          "output_type": "stream",
          "text": [
            "Timestamp\n",
            "False    4857377\n",
            "Name: Timestamp, dtype: int64\n",
            "\n",
            "Open\n",
            "False    3613769\n",
            "True     1243608\n",
            "Name: Open, dtype: int64\n",
            "\n",
            "High\n",
            "False    3613769\n",
            "True     1243608\n",
            "Name: High, dtype: int64\n",
            "\n",
            "Low\n",
            "False    3613769\n",
            "True     1243608\n",
            "Name: Low, dtype: int64\n",
            "\n",
            "Close\n",
            "False    3613769\n",
            "True     1243608\n",
            "Name: Close, dtype: int64\n",
            "\n",
            "Volume_(BTC)\n",
            "False    3613769\n",
            "True     1243608\n",
            "Name: Volume_(BTC), dtype: int64\n",
            "\n",
            "Volume_(Currency)\n",
            "False    3613769\n",
            "True     1243608\n",
            "Name: Volume_(Currency), dtype: int64\n",
            "\n",
            "Weighted_Price\n",
            "False    3613769\n",
            "True     1243608\n",
            "Name: Weighted_Price, dtype: int64\n",
            "\n"
          ],
          "name": "stdout"
        }
      ]
    },
    {
      "cell_type": "markdown",
      "metadata": {
        "id": "vW4nq5dPOzhc"
      },
      "source": [
        "We can see from data that there are whole rows of missing values which we can't handle. Only we can do is to remove them. To remove the whole rows first of all we will remove those rows that have not \"Weighted_Price\" values because , we are going to predict the \"Weighted_Price\" so without it all other row data is useless."
      ]
    },
    {
      "cell_type": "code",
      "metadata": {
        "colab": {
          "base_uri": "https://localhost:8080/",
          "height": 359
        },
        "id": "OQdbuc4EPJ09",
        "outputId": "42069d7b-5b31-4914-ce98-035d2876aecd"
      },
      "source": [
        "# simply drop whole rows with NaN in \"Weighted_Price\" column\n",
        "d_frame.dropna(subset=[\"Weighted_Price\"], axis=0, inplace=True)\n",
        "\n",
        "# reset index, because we droped many rows\n",
        "d_frame.reset_index(drop=True, inplace=True)\n",
        "d_frame.head(10)"
      ],
      "execution_count": 189,
      "outputs": [
        {
          "output_type": "execute_result",
          "data": {
            "text/html": [
              "<div>\n",
              "<style scoped>\n",
              "    .dataframe tbody tr th:only-of-type {\n",
              "        vertical-align: middle;\n",
              "    }\n",
              "\n",
              "    .dataframe tbody tr th {\n",
              "        vertical-align: top;\n",
              "    }\n",
              "\n",
              "    .dataframe thead th {\n",
              "        text-align: right;\n",
              "    }\n",
              "</style>\n",
              "<table border=\"1\" class=\"dataframe\">\n",
              "  <thead>\n",
              "    <tr style=\"text-align: right;\">\n",
              "      <th></th>\n",
              "      <th>Timestamp</th>\n",
              "      <th>Open</th>\n",
              "      <th>High</th>\n",
              "      <th>Low</th>\n",
              "      <th>Close</th>\n",
              "      <th>Volume_(BTC)</th>\n",
              "      <th>Volume_(Currency)</th>\n",
              "      <th>Weighted_Price</th>\n",
              "    </tr>\n",
              "  </thead>\n",
              "  <tbody>\n",
              "    <tr>\n",
              "      <th>0</th>\n",
              "      <td>1325317920</td>\n",
              "      <td>4.39</td>\n",
              "      <td>4.39</td>\n",
              "      <td>4.39</td>\n",
              "      <td>4.39</td>\n",
              "      <td>0.455581</td>\n",
              "      <td>2.000000</td>\n",
              "      <td>4.390000</td>\n",
              "    </tr>\n",
              "    <tr>\n",
              "      <th>1</th>\n",
              "      <td>1325346600</td>\n",
              "      <td>4.39</td>\n",
              "      <td>4.39</td>\n",
              "      <td>4.39</td>\n",
              "      <td>4.39</td>\n",
              "      <td>48.000000</td>\n",
              "      <td>210.720000</td>\n",
              "      <td>4.390000</td>\n",
              "    </tr>\n",
              "    <tr>\n",
              "      <th>2</th>\n",
              "      <td>1325350740</td>\n",
              "      <td>4.50</td>\n",
              "      <td>4.57</td>\n",
              "      <td>4.50</td>\n",
              "      <td>4.57</td>\n",
              "      <td>37.862297</td>\n",
              "      <td>171.380338</td>\n",
              "      <td>4.526411</td>\n",
              "    </tr>\n",
              "    <tr>\n",
              "      <th>3</th>\n",
              "      <td>1325350800</td>\n",
              "      <td>4.58</td>\n",
              "      <td>4.58</td>\n",
              "      <td>4.58</td>\n",
              "      <td>4.58</td>\n",
              "      <td>9.000000</td>\n",
              "      <td>41.220000</td>\n",
              "      <td>4.580000</td>\n",
              "    </tr>\n",
              "    <tr>\n",
              "      <th>4</th>\n",
              "      <td>1325391360</td>\n",
              "      <td>4.58</td>\n",
              "      <td>4.58</td>\n",
              "      <td>4.58</td>\n",
              "      <td>4.58</td>\n",
              "      <td>1.502000</td>\n",
              "      <td>6.879160</td>\n",
              "      <td>4.580000</td>\n",
              "    </tr>\n",
              "    <tr>\n",
              "      <th>5</th>\n",
              "      <td>1325431680</td>\n",
              "      <td>4.84</td>\n",
              "      <td>4.84</td>\n",
              "      <td>4.84</td>\n",
              "      <td>4.84</td>\n",
              "      <td>10.000000</td>\n",
              "      <td>48.400000</td>\n",
              "      <td>4.840000</td>\n",
              "    </tr>\n",
              "    <tr>\n",
              "      <th>6</th>\n",
              "      <td>1325457900</td>\n",
              "      <td>5.00</td>\n",
              "      <td>5.00</td>\n",
              "      <td>5.00</td>\n",
              "      <td>5.00</td>\n",
              "      <td>10.100000</td>\n",
              "      <td>50.500000</td>\n",
              "      <td>5.000000</td>\n",
              "    </tr>\n",
              "    <tr>\n",
              "      <th>7</th>\n",
              "      <td>1325534640</td>\n",
              "      <td>5.00</td>\n",
              "      <td>5.00</td>\n",
              "      <td>5.00</td>\n",
              "      <td>5.00</td>\n",
              "      <td>19.048000</td>\n",
              "      <td>95.240000</td>\n",
              "      <td>5.000000</td>\n",
              "    </tr>\n",
              "    <tr>\n",
              "      <th>8</th>\n",
              "      <td>1325591100</td>\n",
              "      <td>5.32</td>\n",
              "      <td>5.32</td>\n",
              "      <td>5.32</td>\n",
              "      <td>5.32</td>\n",
              "      <td>2.419173</td>\n",
              "      <td>12.870000</td>\n",
              "      <td>5.320000</td>\n",
              "    </tr>\n",
              "    <tr>\n",
              "      <th>9</th>\n",
              "      <td>1325600520</td>\n",
              "      <td>5.14</td>\n",
              "      <td>5.14</td>\n",
              "      <td>5.14</td>\n",
              "      <td>5.14</td>\n",
              "      <td>0.680000</td>\n",
              "      <td>3.495200</td>\n",
              "      <td>5.140000</td>\n",
              "    </tr>\n",
              "  </tbody>\n",
              "</table>\n",
              "</div>"
            ],
            "text/plain": [
              "    Timestamp  Open  High  ...  Volume_(BTC)  Volume_(Currency)  Weighted_Price\n",
              "0  1325317920  4.39  4.39  ...      0.455581           2.000000        4.390000\n",
              "1  1325346600  4.39  4.39  ...     48.000000         210.720000        4.390000\n",
              "2  1325350740  4.50  4.57  ...     37.862297         171.380338        4.526411\n",
              "3  1325350800  4.58  4.58  ...      9.000000          41.220000        4.580000\n",
              "4  1325391360  4.58  4.58  ...      1.502000           6.879160        4.580000\n",
              "5  1325431680  4.84  4.84  ...     10.000000          48.400000        4.840000\n",
              "6  1325457900  5.00  5.00  ...     10.100000          50.500000        5.000000\n",
              "7  1325534640  5.00  5.00  ...     19.048000          95.240000        5.000000\n",
              "8  1325591100  5.32  5.32  ...      2.419173          12.870000        5.320000\n",
              "9  1325600520  5.14  5.14  ...      0.680000           3.495200        5.140000\n",
              "\n",
              "[10 rows x 8 columns]"
            ]
          },
          "metadata": {
            "tags": []
          },
          "execution_count": 189
        }
      ]
    },
    {
      "cell_type": "code",
      "metadata": {
        "colab": {
          "base_uri": "https://localhost:8080/"
        },
        "id": "PNU-96cGRXpD",
        "outputId": "8fbb17ad-6ca9-42db-daf0-a90075eebee8"
      },
      "source": [
        "#checking that if there is any missing value. \n",
        "d_frame.isnull().values.any()"
      ],
      "execution_count": 190,
      "outputs": [
        {
          "output_type": "execute_result",
          "data": {
            "text/plain": [
              "False"
            ]
          },
          "metadata": {
            "tags": []
          },
          "execution_count": 190
        }
      ]
    },
    {
      "cell_type": "markdown",
      "metadata": {
        "id": "3phheFC4Sy_1"
      },
      "source": [
        "\"False\" mean that there is no missing value in our dataframe."
      ]
    },
    {
      "cell_type": "markdown",
      "metadata": {
        "id": "j5p2dvINrh0e"
      },
      "source": [
        "Now we are going to convert time stemp to date."
      ]
    },
    {
      "cell_type": "code",
      "metadata": {
        "colab": {
          "base_uri": "https://localhost:8080/",
          "height": 359
        },
        "id": "42wL8INou3L3",
        "outputId": "4b1d1aa7-1b9e-4fb0-ab4c-c787a522628f"
      },
      "source": [
        "d_frame[\"Timestamp\"]=pd.to_datetime(d_frame['Timestamp'],unit='s').dt.date #We converted in time stamp format\n",
        "#d_frame = d_frame.set_index(['Timestamp']) #If we want to set \"Timestamp\" as index.\n",
        "d_frame.head(10)"
      ],
      "execution_count": 191,
      "outputs": [
        {
          "output_type": "execute_result",
          "data": {
            "text/html": [
              "<div>\n",
              "<style scoped>\n",
              "    .dataframe tbody tr th:only-of-type {\n",
              "        vertical-align: middle;\n",
              "    }\n",
              "\n",
              "    .dataframe tbody tr th {\n",
              "        vertical-align: top;\n",
              "    }\n",
              "\n",
              "    .dataframe thead th {\n",
              "        text-align: right;\n",
              "    }\n",
              "</style>\n",
              "<table border=\"1\" class=\"dataframe\">\n",
              "  <thead>\n",
              "    <tr style=\"text-align: right;\">\n",
              "      <th></th>\n",
              "      <th>Timestamp</th>\n",
              "      <th>Open</th>\n",
              "      <th>High</th>\n",
              "      <th>Low</th>\n",
              "      <th>Close</th>\n",
              "      <th>Volume_(BTC)</th>\n",
              "      <th>Volume_(Currency)</th>\n",
              "      <th>Weighted_Price</th>\n",
              "    </tr>\n",
              "  </thead>\n",
              "  <tbody>\n",
              "    <tr>\n",
              "      <th>0</th>\n",
              "      <td>2011-12-31</td>\n",
              "      <td>4.39</td>\n",
              "      <td>4.39</td>\n",
              "      <td>4.39</td>\n",
              "      <td>4.39</td>\n",
              "      <td>0.455581</td>\n",
              "      <td>2.000000</td>\n",
              "      <td>4.390000</td>\n",
              "    </tr>\n",
              "    <tr>\n",
              "      <th>1</th>\n",
              "      <td>2011-12-31</td>\n",
              "      <td>4.39</td>\n",
              "      <td>4.39</td>\n",
              "      <td>4.39</td>\n",
              "      <td>4.39</td>\n",
              "      <td>48.000000</td>\n",
              "      <td>210.720000</td>\n",
              "      <td>4.390000</td>\n",
              "    </tr>\n",
              "    <tr>\n",
              "      <th>2</th>\n",
              "      <td>2011-12-31</td>\n",
              "      <td>4.50</td>\n",
              "      <td>4.57</td>\n",
              "      <td>4.50</td>\n",
              "      <td>4.57</td>\n",
              "      <td>37.862297</td>\n",
              "      <td>171.380338</td>\n",
              "      <td>4.526411</td>\n",
              "    </tr>\n",
              "    <tr>\n",
              "      <th>3</th>\n",
              "      <td>2011-12-31</td>\n",
              "      <td>4.58</td>\n",
              "      <td>4.58</td>\n",
              "      <td>4.58</td>\n",
              "      <td>4.58</td>\n",
              "      <td>9.000000</td>\n",
              "      <td>41.220000</td>\n",
              "      <td>4.580000</td>\n",
              "    </tr>\n",
              "    <tr>\n",
              "      <th>4</th>\n",
              "      <td>2012-01-01</td>\n",
              "      <td>4.58</td>\n",
              "      <td>4.58</td>\n",
              "      <td>4.58</td>\n",
              "      <td>4.58</td>\n",
              "      <td>1.502000</td>\n",
              "      <td>6.879160</td>\n",
              "      <td>4.580000</td>\n",
              "    </tr>\n",
              "    <tr>\n",
              "      <th>5</th>\n",
              "      <td>2012-01-01</td>\n",
              "      <td>4.84</td>\n",
              "      <td>4.84</td>\n",
              "      <td>4.84</td>\n",
              "      <td>4.84</td>\n",
              "      <td>10.000000</td>\n",
              "      <td>48.400000</td>\n",
              "      <td>4.840000</td>\n",
              "    </tr>\n",
              "    <tr>\n",
              "      <th>6</th>\n",
              "      <td>2012-01-01</td>\n",
              "      <td>5.00</td>\n",
              "      <td>5.00</td>\n",
              "      <td>5.00</td>\n",
              "      <td>5.00</td>\n",
              "      <td>10.100000</td>\n",
              "      <td>50.500000</td>\n",
              "      <td>5.000000</td>\n",
              "    </tr>\n",
              "    <tr>\n",
              "      <th>7</th>\n",
              "      <td>2012-01-02</td>\n",
              "      <td>5.00</td>\n",
              "      <td>5.00</td>\n",
              "      <td>5.00</td>\n",
              "      <td>5.00</td>\n",
              "      <td>19.048000</td>\n",
              "      <td>95.240000</td>\n",
              "      <td>5.000000</td>\n",
              "    </tr>\n",
              "    <tr>\n",
              "      <th>8</th>\n",
              "      <td>2012-01-03</td>\n",
              "      <td>5.32</td>\n",
              "      <td>5.32</td>\n",
              "      <td>5.32</td>\n",
              "      <td>5.32</td>\n",
              "      <td>2.419173</td>\n",
              "      <td>12.870000</td>\n",
              "      <td>5.320000</td>\n",
              "    </tr>\n",
              "    <tr>\n",
              "      <th>9</th>\n",
              "      <td>2012-01-03</td>\n",
              "      <td>5.14</td>\n",
              "      <td>5.14</td>\n",
              "      <td>5.14</td>\n",
              "      <td>5.14</td>\n",
              "      <td>0.680000</td>\n",
              "      <td>3.495200</td>\n",
              "      <td>5.140000</td>\n",
              "    </tr>\n",
              "  </tbody>\n",
              "</table>\n",
              "</div>"
            ],
            "text/plain": [
              "    Timestamp  Open  High  ...  Volume_(BTC)  Volume_(Currency)  Weighted_Price\n",
              "0  2011-12-31  4.39  4.39  ...      0.455581           2.000000        4.390000\n",
              "1  2011-12-31  4.39  4.39  ...     48.000000         210.720000        4.390000\n",
              "2  2011-12-31  4.50  4.57  ...     37.862297         171.380338        4.526411\n",
              "3  2011-12-31  4.58  4.58  ...      9.000000          41.220000        4.580000\n",
              "4  2012-01-01  4.58  4.58  ...      1.502000           6.879160        4.580000\n",
              "5  2012-01-01  4.84  4.84  ...     10.000000          48.400000        4.840000\n",
              "6  2012-01-01  5.00  5.00  ...     10.100000          50.500000        5.000000\n",
              "7  2012-01-02  5.00  5.00  ...     19.048000          95.240000        5.000000\n",
              "8  2012-01-03  5.32  5.32  ...      2.419173          12.870000        5.320000\n",
              "9  2012-01-03  5.14  5.14  ...      0.680000           3.495200        5.140000\n",
              "\n",
              "[10 rows x 8 columns]"
            ]
          },
          "metadata": {
            "tags": []
          },
          "execution_count": 191
        }
      ]
    },
    {
      "cell_type": "code",
      "metadata": {
        "id": "49kCmp_-p1KQ"
      },
      "source": [
        "#d_frame[\"Timestamp\"]=pd.to_datetime(d_frame['Timestamp'],infer_datetime_format=True) #We converted in \"Timestamp\" format. Now datatype of \"Timestamp\" is object but we used\"infer_datetime_format=True\" that converts \"Timestamp\" format from \"object\" to \"datetime64\" format)\n",
        "#d_frame.head()"
      ],
      "execution_count": 192,
      "outputs": []
    },
    {
      "cell_type": "code",
      "metadata": {
        "colab": {
          "base_uri": "https://localhost:8080/",
          "height": 221
        },
        "id": "VmEM4fHztAsb",
        "outputId": "6a591689-08c7-4b4b-b30a-cecefbe2c817"
      },
      "source": [
        "print('last 5 rows')\n",
        "d_frame.tail(5)"
      ],
      "execution_count": 193,
      "outputs": [
        {
          "output_type": "stream",
          "text": [
            "last 5 rows\n"
          ],
          "name": "stdout"
        },
        {
          "output_type": "execute_result",
          "data": {
            "text/html": [
              "<div>\n",
              "<style scoped>\n",
              "    .dataframe tbody tr th:only-of-type {\n",
              "        vertical-align: middle;\n",
              "    }\n",
              "\n",
              "    .dataframe tbody tr th {\n",
              "        vertical-align: top;\n",
              "    }\n",
              "\n",
              "    .dataframe thead th {\n",
              "        text-align: right;\n",
              "    }\n",
              "</style>\n",
              "<table border=\"1\" class=\"dataframe\">\n",
              "  <thead>\n",
              "    <tr style=\"text-align: right;\">\n",
              "      <th></th>\n",
              "      <th>Timestamp</th>\n",
              "      <th>Open</th>\n",
              "      <th>High</th>\n",
              "      <th>Low</th>\n",
              "      <th>Close</th>\n",
              "      <th>Volume_(BTC)</th>\n",
              "      <th>Volume_(Currency)</th>\n",
              "      <th>Weighted_Price</th>\n",
              "    </tr>\n",
              "  </thead>\n",
              "  <tbody>\n",
              "    <tr>\n",
              "      <th>3613764</th>\n",
              "      <td>2021-03-30</td>\n",
              "      <td>58714.31</td>\n",
              "      <td>58714.31</td>\n",
              "      <td>58686.00</td>\n",
              "      <td>58686.00</td>\n",
              "      <td>1.384487</td>\n",
              "      <td>81259.372187</td>\n",
              "      <td>58692.753339</td>\n",
              "    </tr>\n",
              "    <tr>\n",
              "      <th>3613765</th>\n",
              "      <td>2021-03-30</td>\n",
              "      <td>58683.97</td>\n",
              "      <td>58693.43</td>\n",
              "      <td>58683.97</td>\n",
              "      <td>58685.81</td>\n",
              "      <td>7.294848</td>\n",
              "      <td>428158.146640</td>\n",
              "      <td>58693.226508</td>\n",
              "    </tr>\n",
              "    <tr>\n",
              "      <th>3613766</th>\n",
              "      <td>2021-03-30</td>\n",
              "      <td>58693.43</td>\n",
              "      <td>58723.84</td>\n",
              "      <td>58693.43</td>\n",
              "      <td>58723.84</td>\n",
              "      <td>1.705682</td>\n",
              "      <td>100117.070370</td>\n",
              "      <td>58696.198496</td>\n",
              "    </tr>\n",
              "    <tr>\n",
              "      <th>3613767</th>\n",
              "      <td>2021-03-30</td>\n",
              "      <td>58742.18</td>\n",
              "      <td>58770.38</td>\n",
              "      <td>58742.18</td>\n",
              "      <td>58760.59</td>\n",
              "      <td>0.720415</td>\n",
              "      <td>42332.958633</td>\n",
              "      <td>58761.866202</td>\n",
              "    </tr>\n",
              "    <tr>\n",
              "      <th>3613768</th>\n",
              "      <td>2021-03-31</td>\n",
              "      <td>58767.75</td>\n",
              "      <td>58778.18</td>\n",
              "      <td>58755.97</td>\n",
              "      <td>58778.18</td>\n",
              "      <td>2.712831</td>\n",
              "      <td>159417.751000</td>\n",
              "      <td>58764.349363</td>\n",
              "    </tr>\n",
              "  </tbody>\n",
              "</table>\n",
              "</div>"
            ],
            "text/plain": [
              "          Timestamp      Open  ...  Volume_(Currency)  Weighted_Price\n",
              "3613764  2021-03-30  58714.31  ...       81259.372187    58692.753339\n",
              "3613765  2021-03-30  58683.97  ...      428158.146640    58693.226508\n",
              "3613766  2021-03-30  58693.43  ...      100117.070370    58696.198496\n",
              "3613767  2021-03-30  58742.18  ...       42332.958633    58761.866202\n",
              "3613768  2021-03-31  58767.75  ...      159417.751000    58764.349363\n",
              "\n",
              "[5 rows x 8 columns]"
            ]
          },
          "metadata": {
            "tags": []
          },
          "execution_count": 193
        }
      ]
    },
    {
      "cell_type": "markdown",
      "metadata": {
        "id": "5SSTzNmjuRcL"
      },
      "source": [
        "We can see that our data is upto date. Starting from Dec 2011 to March 2021"
      ]
    },
    {
      "cell_type": "code",
      "metadata": {
        "colab": {
          "base_uri": "https://localhost:8080/"
        },
        "id": "69IKt4kTUvGz",
        "outputId": "44f88105-d691-4cb5-d193-228c540e0051"
      },
      "source": [
        "d_frame.shape # No of rows and columns in this dataframe "
      ],
      "execution_count": 194,
      "outputs": [
        {
          "output_type": "execute_result",
          "data": {
            "text/plain": [
              "(3613769, 8)"
            ]
          },
          "metadata": {
            "tags": []
          },
          "execution_count": 194
        }
      ]
    },
    {
      "cell_type": "markdown",
      "metadata": {
        "id": "9FD_lO-a4Ujw"
      },
      "source": [
        "There are multiple readings at every day in dataframe so  grouping data w.r.t \"Timestamp\" and taking the mean so that we can convert in single reding per day by taking the mean across the column."
      ]
    },
    {
      "cell_type": "code",
      "metadata": {
        "id": "o6vH2BEt4hxW",
        "colab": {
          "base_uri": "https://localhost:8080/",
          "height": 504
        },
        "outputId": "dd973011-0586-4eb0-8945-2cf85ce833fb"
      },
      "source": [
        "grouping=d_frame.groupby('Timestamp')\n",
        "df=grouping['Open', 'High', 'Low', 'Close', 'Volume_(BTC)','Volume_(Currency)', 'Weighted_Price'].mean()\n",
        "df"
      ],
      "execution_count": 195,
      "outputs": [
        {
          "output_type": "stream",
          "text": [
            "/usr/local/lib/python3.7/dist-packages/ipykernel_launcher.py:2: FutureWarning: Indexing with multiple keys (implicitly converted to a tuple of keys) will be deprecated, use a list instead.\n",
            "  \n"
          ],
          "name": "stderr"
        },
        {
          "output_type": "execute_result",
          "data": {
            "text/html": [
              "<div>\n",
              "<style scoped>\n",
              "    .dataframe tbody tr th:only-of-type {\n",
              "        vertical-align: middle;\n",
              "    }\n",
              "\n",
              "    .dataframe tbody tr th {\n",
              "        vertical-align: top;\n",
              "    }\n",
              "\n",
              "    .dataframe thead th {\n",
              "        text-align: right;\n",
              "    }\n",
              "</style>\n",
              "<table border=\"1\" class=\"dataframe\">\n",
              "  <thead>\n",
              "    <tr style=\"text-align: right;\">\n",
              "      <th></th>\n",
              "      <th>Open</th>\n",
              "      <th>High</th>\n",
              "      <th>Low</th>\n",
              "      <th>Close</th>\n",
              "      <th>Volume_(BTC)</th>\n",
              "      <th>Volume_(Currency)</th>\n",
              "      <th>Weighted_Price</th>\n",
              "    </tr>\n",
              "    <tr>\n",
              "      <th>Timestamp</th>\n",
              "      <th></th>\n",
              "      <th></th>\n",
              "      <th></th>\n",
              "      <th></th>\n",
              "      <th></th>\n",
              "      <th></th>\n",
              "      <th></th>\n",
              "    </tr>\n",
              "  </thead>\n",
              "  <tbody>\n",
              "    <tr>\n",
              "      <th>2011-12-31</th>\n",
              "      <td>4.465000</td>\n",
              "      <td>4.482500</td>\n",
              "      <td>4.465000</td>\n",
              "      <td>4.482500</td>\n",
              "      <td>23.829470</td>\n",
              "      <td>106.330084</td>\n",
              "      <td>4.471603</td>\n",
              "    </tr>\n",
              "    <tr>\n",
              "      <th>2012-01-01</th>\n",
              "      <td>4.806667</td>\n",
              "      <td>4.806667</td>\n",
              "      <td>4.806667</td>\n",
              "      <td>4.806667</td>\n",
              "      <td>7.200667</td>\n",
              "      <td>35.259720</td>\n",
              "      <td>4.806667</td>\n",
              "    </tr>\n",
              "    <tr>\n",
              "      <th>2012-01-02</th>\n",
              "      <td>5.000000</td>\n",
              "      <td>5.000000</td>\n",
              "      <td>5.000000</td>\n",
              "      <td>5.000000</td>\n",
              "      <td>19.048000</td>\n",
              "      <td>95.240000</td>\n",
              "      <td>5.000000</td>\n",
              "    </tr>\n",
              "    <tr>\n",
              "      <th>2012-01-03</th>\n",
              "      <td>5.252500</td>\n",
              "      <td>5.252500</td>\n",
              "      <td>5.252500</td>\n",
              "      <td>5.252500</td>\n",
              "      <td>11.004660</td>\n",
              "      <td>58.100651</td>\n",
              "      <td>5.252500</td>\n",
              "    </tr>\n",
              "    <tr>\n",
              "      <th>2012-01-04</th>\n",
              "      <td>5.200000</td>\n",
              "      <td>5.223333</td>\n",
              "      <td>5.200000</td>\n",
              "      <td>5.223333</td>\n",
              "      <td>11.914807</td>\n",
              "      <td>63.119577</td>\n",
              "      <td>5.208159</td>\n",
              "    </tr>\n",
              "    <tr>\n",
              "      <th>...</th>\n",
              "      <td>...</td>\n",
              "      <td>...</td>\n",
              "      <td>...</td>\n",
              "      <td>...</td>\n",
              "      <td>...</td>\n",
              "      <td>...</td>\n",
              "      <td>...</td>\n",
              "    </tr>\n",
              "    <tr>\n",
              "      <th>2021-03-27</th>\n",
              "      <td>55193.240643</td>\n",
              "      <td>55219.665031</td>\n",
              "      <td>55168.757372</td>\n",
              "      <td>55195.415367</td>\n",
              "      <td>1.823877</td>\n",
              "      <td>100884.732367</td>\n",
              "      <td>55193.357260</td>\n",
              "    </tr>\n",
              "    <tr>\n",
              "      <th>2021-03-28</th>\n",
              "      <td>55833.608471</td>\n",
              "      <td>55857.735342</td>\n",
              "      <td>55810.425126</td>\n",
              "      <td>55835.012863</td>\n",
              "      <td>1.447939</td>\n",
              "      <td>80632.115263</td>\n",
              "      <td>55832.958824</td>\n",
              "    </tr>\n",
              "    <tr>\n",
              "      <th>2021-03-29</th>\n",
              "      <td>56914.886595</td>\n",
              "      <td>56946.213593</td>\n",
              "      <td>56885.242967</td>\n",
              "      <td>56915.629993</td>\n",
              "      <td>3.732887</td>\n",
              "      <td>213754.555988</td>\n",
              "      <td>56913.993819</td>\n",
              "    </tr>\n",
              "    <tr>\n",
              "      <th>2021-03-30</th>\n",
              "      <td>58347.805624</td>\n",
              "      <td>58371.955310</td>\n",
              "      <td>58323.956690</td>\n",
              "      <td>58349.357087</td>\n",
              "      <td>2.363999</td>\n",
              "      <td>138231.241926</td>\n",
              "      <td>58346.912268</td>\n",
              "    </tr>\n",
              "    <tr>\n",
              "      <th>2021-03-31</th>\n",
              "      <td>58767.750000</td>\n",
              "      <td>58778.180000</td>\n",
              "      <td>58755.970000</td>\n",
              "      <td>58778.180000</td>\n",
              "      <td>2.712831</td>\n",
              "      <td>159417.751000</td>\n",
              "      <td>58764.349363</td>\n",
              "    </tr>\n",
              "  </tbody>\n",
              "</table>\n",
              "<p>3376 rows × 7 columns</p>\n",
              "</div>"
            ],
            "text/plain": [
              "                    Open          High  ...  Volume_(Currency)  Weighted_Price\n",
              "Timestamp                               ...                                   \n",
              "2011-12-31      4.465000      4.482500  ...         106.330084        4.471603\n",
              "2012-01-01      4.806667      4.806667  ...          35.259720        4.806667\n",
              "2012-01-02      5.000000      5.000000  ...          95.240000        5.000000\n",
              "2012-01-03      5.252500      5.252500  ...          58.100651        5.252500\n",
              "2012-01-04      5.200000      5.223333  ...          63.119577        5.208159\n",
              "...                  ...           ...  ...                ...             ...\n",
              "2021-03-27  55193.240643  55219.665031  ...      100884.732367    55193.357260\n",
              "2021-03-28  55833.608471  55857.735342  ...       80632.115263    55832.958824\n",
              "2021-03-29  56914.886595  56946.213593  ...      213754.555988    56913.993819\n",
              "2021-03-30  58347.805624  58371.955310  ...      138231.241926    58346.912268\n",
              "2021-03-31  58767.750000  58778.180000  ...      159417.751000    58764.349363\n",
              "\n",
              "[3376 rows x 7 columns]"
            ]
          },
          "metadata": {
            "tags": []
          },
          "execution_count": 195
        }
      ]
    },
    {
      "cell_type": "code",
      "metadata": {
        "colab": {
          "base_uri": "https://localhost:8080/"
        },
        "id": "vws7336OVJno",
        "outputId": "419f50ea-9b89-49b1-c2d4-8eb6dd50485e"
      },
      "source": [
        "df.info()"
      ],
      "execution_count": 196,
      "outputs": [
        {
          "output_type": "stream",
          "text": [
            "<class 'pandas.core.frame.DataFrame'>\n",
            "Index: 3376 entries, 2011-12-31 to 2021-03-31\n",
            "Data columns (total 7 columns):\n",
            " #   Column             Non-Null Count  Dtype  \n",
            "---  ------             --------------  -----  \n",
            " 0   Open               3376 non-null   float64\n",
            " 1   High               3376 non-null   float64\n",
            " 2   Low                3376 non-null   float64\n",
            " 3   Close              3376 non-null   float64\n",
            " 4   Volume_(BTC)       3376 non-null   float64\n",
            " 5   Volume_(Currency)  3376 non-null   float64\n",
            " 6   Weighted_Price     3376 non-null   float64\n",
            "dtypes: float64(7)\n",
            "memory usage: 211.0+ KB\n"
          ],
          "name": "stdout"
        }
      ]
    },
    {
      "cell_type": "code",
      "metadata": {
        "colab": {
          "base_uri": "https://localhost:8080/"
        },
        "id": "f5-VfWM4U-LE",
        "outputId": "756131cc-e31b-4634-a896-461de76273e1"
      },
      "source": [
        "print(df.dtypes)"
      ],
      "execution_count": 197,
      "outputs": [
        {
          "output_type": "stream",
          "text": [
            "Open                 float64\n",
            "High                 float64\n",
            "Low                  float64\n",
            "Close                float64\n",
            "Volume_(BTC)         float64\n",
            "Volume_(Currency)    float64\n",
            "Weighted_Price       float64\n",
            "dtype: object\n"
          ],
          "name": "stdout"
        }
      ]
    },
    {
      "cell_type": "code",
      "metadata": {
        "colab": {
          "base_uri": "https://localhost:8080/",
          "height": 266
        },
        "id": "J-8SRQHZWY8q",
        "outputId": "0fd80c7d-da8c-4e60-bfa2-5a10779f8f9b"
      },
      "source": [
        "df.corr()"
      ],
      "execution_count": 198,
      "outputs": [
        {
          "output_type": "execute_result",
          "data": {
            "text/html": [
              "<div>\n",
              "<style scoped>\n",
              "    .dataframe tbody tr th:only-of-type {\n",
              "        vertical-align: middle;\n",
              "    }\n",
              "\n",
              "    .dataframe tbody tr th {\n",
              "        vertical-align: top;\n",
              "    }\n",
              "\n",
              "    .dataframe thead th {\n",
              "        text-align: right;\n",
              "    }\n",
              "</style>\n",
              "<table border=\"1\" class=\"dataframe\">\n",
              "  <thead>\n",
              "    <tr style=\"text-align: right;\">\n",
              "      <th></th>\n",
              "      <th>Open</th>\n",
              "      <th>High</th>\n",
              "      <th>Low</th>\n",
              "      <th>Close</th>\n",
              "      <th>Volume_(BTC)</th>\n",
              "      <th>Volume_(Currency)</th>\n",
              "      <th>Weighted_Price</th>\n",
              "    </tr>\n",
              "  </thead>\n",
              "  <tbody>\n",
              "    <tr>\n",
              "      <th>Open</th>\n",
              "      <td>1.000000</td>\n",
              "      <td>1.000000</td>\n",
              "      <td>1.000000</td>\n",
              "      <td>1.000000</td>\n",
              "      <td>-0.216872</td>\n",
              "      <td>0.766819</td>\n",
              "      <td>1.000000</td>\n",
              "    </tr>\n",
              "    <tr>\n",
              "      <th>High</th>\n",
              "      <td>1.000000</td>\n",
              "      <td>1.000000</td>\n",
              "      <td>1.000000</td>\n",
              "      <td>1.000000</td>\n",
              "      <td>-0.216749</td>\n",
              "      <td>0.767050</td>\n",
              "      <td>1.000000</td>\n",
              "    </tr>\n",
              "    <tr>\n",
              "      <th>Low</th>\n",
              "      <td>1.000000</td>\n",
              "      <td>1.000000</td>\n",
              "      <td>1.000000</td>\n",
              "      <td>1.000000</td>\n",
              "      <td>-0.217006</td>\n",
              "      <td>0.766560</td>\n",
              "      <td>1.000000</td>\n",
              "    </tr>\n",
              "    <tr>\n",
              "      <th>Close</th>\n",
              "      <td>1.000000</td>\n",
              "      <td>1.000000</td>\n",
              "      <td>1.000000</td>\n",
              "      <td>1.000000</td>\n",
              "      <td>-0.216871</td>\n",
              "      <td>0.766813</td>\n",
              "      <td>1.000000</td>\n",
              "    </tr>\n",
              "    <tr>\n",
              "      <th>Volume_(BTC)</th>\n",
              "      <td>-0.216872</td>\n",
              "      <td>-0.216749</td>\n",
              "      <td>-0.217006</td>\n",
              "      <td>-0.216871</td>\n",
              "      <td>1.000000</td>\n",
              "      <td>0.016652</td>\n",
              "      <td>-0.216884</td>\n",
              "    </tr>\n",
              "    <tr>\n",
              "      <th>Volume_(Currency)</th>\n",
              "      <td>0.766819</td>\n",
              "      <td>0.767050</td>\n",
              "      <td>0.766560</td>\n",
              "      <td>0.766813</td>\n",
              "      <td>0.016652</td>\n",
              "      <td>1.000000</td>\n",
              "      <td>0.766804</td>\n",
              "    </tr>\n",
              "    <tr>\n",
              "      <th>Weighted_Price</th>\n",
              "      <td>1.000000</td>\n",
              "      <td>1.000000</td>\n",
              "      <td>1.000000</td>\n",
              "      <td>1.000000</td>\n",
              "      <td>-0.216884</td>\n",
              "      <td>0.766804</td>\n",
              "      <td>1.000000</td>\n",
              "    </tr>\n",
              "  </tbody>\n",
              "</table>\n",
              "</div>"
            ],
            "text/plain": [
              "                       Open      High  ...  Volume_(Currency)  Weighted_Price\n",
              "Open               1.000000  1.000000  ...           0.766819        1.000000\n",
              "High               1.000000  1.000000  ...           0.767050        1.000000\n",
              "Low                1.000000  1.000000  ...           0.766560        1.000000\n",
              "Close              1.000000  1.000000  ...           0.766813        1.000000\n",
              "Volume_(BTC)      -0.216872 -0.216749  ...           0.016652       -0.216884\n",
              "Volume_(Currency)  0.766819  0.767050  ...           1.000000        0.766804\n",
              "Weighted_Price     1.000000  1.000000  ...           0.766804        1.000000\n",
              "\n",
              "[7 rows x 7 columns]"
            ]
          },
          "metadata": {
            "tags": []
          },
          "execution_count": 198
        }
      ]
    },
    {
      "cell_type": "code",
      "metadata": {
        "colab": {
          "base_uri": "https://localhost:8080/"
        },
        "id": "MHZeuCaMSRo3",
        "outputId": "b8f64ed4-fc3b-4354-b960-8a9939ddf8ad"
      },
      "source": [
        "df.columns"
      ],
      "execution_count": 199,
      "outputs": [
        {
          "output_type": "execute_result",
          "data": {
            "text/plain": [
              "Index(['Open', 'High', 'Low', 'Close', 'Volume_(BTC)', 'Volume_(Currency)',\n",
              "       'Weighted_Price'],\n",
              "      dtype='object')"
            ]
          },
          "metadata": {
            "tags": []
          },
          "execution_count": 199
        }
      ]
    },
    {
      "cell_type": "code",
      "metadata": {
        "colab": {
          "base_uri": "https://localhost:8080/",
          "height": 405
        },
        "id": "9oLRjHGLUKm5",
        "outputId": "b3b6a5da-22ae-4532-d82b-ba8adb0df103"
      },
      "source": [
        "df['Timestamp'] = df.index #reseting \"Timestamp\" from index to column, only to plot the data w.r.t Timestamp \n",
        "df.set_index('Timestamp')[['Open', 'High', 'Low', 'Close', 'Volume_(BTC)',\n",
        "       'Volume_(Currency)', 'Weighted_Price']].plot(subplots=True) #Before this command it is important to convert into timestamp format because it plot the data w.r.t timestamp. This command is some of the commands that are used to plot time series data.We set the Timestamp as index by using 'Volume_(BTC)' command."
      ],
      "execution_count": 200,
      "outputs": [
        {
          "output_type": "execute_result",
          "data": {
            "text/plain": [
              "array([<matplotlib.axes._subplots.AxesSubplot object at 0x7efc1c170f10>,\n",
              "       <matplotlib.axes._subplots.AxesSubplot object at 0x7efc1c21b0d0>,\n",
              "       <matplotlib.axes._subplots.AxesSubplot object at 0x7efc1c18ce10>,\n",
              "       <matplotlib.axes._subplots.AxesSubplot object at 0x7efc150b3990>,\n",
              "       <matplotlib.axes._subplots.AxesSubplot object at 0x7efc15066d90>,\n",
              "       <matplotlib.axes._subplots.AxesSubplot object at 0x7efc1502a1d0>,\n",
              "       <matplotlib.axes._subplots.AxesSubplot object at 0x7efc14fdf650>],\n",
              "      dtype=object)"
            ]
          },
          "metadata": {
            "tags": []
          },
          "execution_count": 200
        },
        {
          "output_type": "display_data",
          "data": {
            "image/png": "[encoded data removed]",
            "text/plain": [
              "<Figure size 432x288 with 7 Axes>"
            ]
          },
          "metadata": {
            "tags": [],
            "needs_background": "light"
          }
        }
      ]
    },
    {
      "cell_type": "code",
      "metadata": {
        "colab": {
          "base_uri": "https://localhost:8080/"
        },
        "id": "PFGXXWfvxaFk",
        "outputId": "3bd83a9a-4c21-4841-9634-9ff04284a952"
      },
      "source": [
        "df.columns"
      ],
      "execution_count": 201,
      "outputs": [
        {
          "output_type": "execute_result",
          "data": {
            "text/plain": [
              "Index(['Open', 'High', 'Low', 'Close', 'Volume_(BTC)', 'Volume_(Currency)',\n",
              "       'Weighted_Price', 'Timestamp'],\n",
              "      dtype='object')"
            ]
          },
          "metadata": {
            "tags": []
          },
          "execution_count": 201
        }
      ]
    },
    {
      "cell_type": "markdown",
      "metadata": {
        "id": "SusryCXOlM6z"
      },
      "source": [
        "It look like that the data is non-stationary. The stationary data have constant mean, variance and covariance."
      ]
    },
    {
      "cell_type": "code",
      "metadata": {
        "colab": {
          "base_uri": "https://localhost:8080/",
          "height": 297
        },
        "id": "lD21Sep4VPDe",
        "outputId": "f8bdd7ed-2cdf-4963-be3d-ffb40c42c261"
      },
      "source": [
        "df.describe()"
      ],
      "execution_count": 202,
      "outputs": [
        {
          "output_type": "execute_result",
          "data": {
            "text/html": [
              "<div>\n",
              "<style scoped>\n",
              "    .dataframe tbody tr th:only-of-type {\n",
              "        vertical-align: middle;\n",
              "    }\n",
              "\n",
              "    .dataframe tbody tr th {\n",
              "        vertical-align: top;\n",
              "    }\n",
              "\n",
              "    .dataframe thead th {\n",
              "        text-align: right;\n",
              "    }\n",
              "</style>\n",
              "<table border=\"1\" class=\"dataframe\">\n",
              "  <thead>\n",
              "    <tr style=\"text-align: right;\">\n",
              "      <th></th>\n",
              "      <th>Open</th>\n",
              "      <th>High</th>\n",
              "      <th>Low</th>\n",
              "      <th>Close</th>\n",
              "      <th>Volume_(BTC)</th>\n",
              "      <th>Volume_(Currency)</th>\n",
              "      <th>Weighted_Price</th>\n",
              "    </tr>\n",
              "  </thead>\n",
              "  <tbody>\n",
              "    <tr>\n",
              "      <th>count</th>\n",
              "      <td>3376.000000</td>\n",
              "      <td>3376.000000</td>\n",
              "      <td>3376.000000</td>\n",
              "      <td>3376.000000</td>\n",
              "      <td>3376.000000</td>\n",
              "      <td>3376.000000</td>\n",
              "      <td>3376.000000</td>\n",
              "    </tr>\n",
              "    <tr>\n",
              "      <th>mean</th>\n",
              "      <td>4605.644798</td>\n",
              "      <td>4608.916329</td>\n",
              "      <td>4602.220278</td>\n",
              "      <td>4605.640430</td>\n",
              "      <td>10.355675</td>\n",
              "      <td>31790.810259</td>\n",
              "      <td>4605.576442</td>\n",
              "    </tr>\n",
              "    <tr>\n",
              "      <th>std</th>\n",
              "      <td>8207.258774</td>\n",
              "      <td>8213.768034</td>\n",
              "      <td>8200.562238</td>\n",
              "      <td>8207.368264</td>\n",
              "      <td>8.897358</td>\n",
              "      <td>62753.976425</td>\n",
              "      <td>8207.031620</td>\n",
              "    </tr>\n",
              "    <tr>\n",
              "      <th>min</th>\n",
              "      <td>4.331667</td>\n",
              "      <td>4.331667</td>\n",
              "      <td>4.331667</td>\n",
              "      <td>4.331667</td>\n",
              "      <td>0.250000</td>\n",
              "      <td>1.227500</td>\n",
              "      <td>4.331667</td>\n",
              "    </tr>\n",
              "    <tr>\n",
              "      <th>25%</th>\n",
              "      <td>244.954735</td>\n",
              "      <td>245.046306</td>\n",
              "      <td>244.869102</td>\n",
              "      <td>244.959590</td>\n",
              "      <td>4.671673</td>\n",
              "      <td>1916.186042</td>\n",
              "      <td>244.952580</td>\n",
              "    </tr>\n",
              "    <tr>\n",
              "      <th>50%</th>\n",
              "      <td>697.954849</td>\n",
              "      <td>698.221190</td>\n",
              "      <td>697.654114</td>\n",
              "      <td>697.921509</td>\n",
              "      <td>7.622244</td>\n",
              "      <td>6832.004108</td>\n",
              "      <td>697.948484</td>\n",
              "    </tr>\n",
              "    <tr>\n",
              "      <th>75%</th>\n",
              "      <td>7242.739376</td>\n",
              "      <td>7248.233526</td>\n",
              "      <td>7238.040275</td>\n",
              "      <td>7242.417035</td>\n",
              "      <td>13.114867</td>\n",
              "      <td>36074.508308</td>\n",
              "      <td>7242.892623</td>\n",
              "    </tr>\n",
              "    <tr>\n",
              "      <th>max</th>\n",
              "      <td>60458.339735</td>\n",
              "      <td>60488.868334</td>\n",
              "      <td>60426.441554</td>\n",
              "      <td>60458.888892</td>\n",
              "      <td>119.522868</td>\n",
              "      <td>950995.602917</td>\n",
              "      <td>60455.844831</td>\n",
              "    </tr>\n",
              "  </tbody>\n",
              "</table>\n",
              "</div>"
            ],
            "text/plain": [
              "               Open          High  ...  Volume_(Currency)  Weighted_Price\n",
              "count   3376.000000   3376.000000  ...        3376.000000     3376.000000\n",
              "mean    4605.644798   4608.916329  ...       31790.810259     4605.576442\n",
              "std     8207.258774   8213.768034  ...       62753.976425     8207.031620\n",
              "min        4.331667      4.331667  ...           1.227500        4.331667\n",
              "25%      244.954735    245.046306  ...        1916.186042      244.952580\n",
              "50%      697.954849    698.221190  ...        6832.004108      697.948484\n",
              "75%     7242.739376   7248.233526  ...       36074.508308     7242.892623\n",
              "max    60458.339735  60488.868334  ...      950995.602917    60455.844831\n",
              "\n",
              "[8 rows x 7 columns]"
            ]
          },
          "metadata": {
            "tags": []
          },
          "execution_count": 202
        }
      ]
    },
    {
      "cell_type": "markdown",
      "metadata": {
        "id": "1DmyB44cJHYj"
      },
      "source": [
        "We can see that our data have many outliers in almost all columns."
      ]
    },
    {
      "cell_type": "code",
      "metadata": {
        "colab": {
          "base_uri": "https://localhost:8080/",
          "height": 450
        },
        "id": "KvB86d8DIDIG",
        "outputId": "7bc627d4-7b91-4312-c232-b25de05c2df9"
      },
      "source": [
        "df.query('Weighted_Price>8.627637e+03')# We have used 75% value to check outliers."
      ],
      "execution_count": 203,
      "outputs": [
        {
          "output_type": "execute_result",
          "data": {
            "text/html": [
              "<div>\n",
              "<style scoped>\n",
              "    .dataframe tbody tr th:only-of-type {\n",
              "        vertical-align: middle;\n",
              "    }\n",
              "\n",
              "    .dataframe tbody tr th {\n",
              "        vertical-align: top;\n",
              "    }\n",
              "\n",
              "    .dataframe thead th {\n",
              "        text-align: right;\n",
              "    }\n",
              "</style>\n",
              "<table border=\"1\" class=\"dataframe\">\n",
              "  <thead>\n",
              "    <tr style=\"text-align: right;\">\n",
              "      <th></th>\n",
              "      <th>Open</th>\n",
              "      <th>High</th>\n",
              "      <th>Low</th>\n",
              "      <th>Close</th>\n",
              "      <th>Volume_(BTC)</th>\n",
              "      <th>Volume_(Currency)</th>\n",
              "      <th>Weighted_Price</th>\n",
              "      <th>Timestamp</th>\n",
              "    </tr>\n",
              "    <tr>\n",
              "      <th>Timestamp</th>\n",
              "      <th></th>\n",
              "      <th></th>\n",
              "      <th></th>\n",
              "      <th></th>\n",
              "      <th></th>\n",
              "      <th></th>\n",
              "      <th></th>\n",
              "      <th></th>\n",
              "    </tr>\n",
              "  </thead>\n",
              "  <tbody>\n",
              "    <tr>\n",
              "      <th>2017-11-26</th>\n",
              "      <td>8972.660382</td>\n",
              "      <td>8979.546725</td>\n",
              "      <td>8963.421064</td>\n",
              "      <td>8972.624117</td>\n",
              "      <td>8.359677</td>\n",
              "      <td>75469.969018</td>\n",
              "      <td>8971.770344</td>\n",
              "      <td>2017-11-26</td>\n",
              "    </tr>\n",
              "    <tr>\n",
              "      <th>2017-11-27</th>\n",
              "      <td>9556.623951</td>\n",
              "      <td>9562.756576</td>\n",
              "      <td>9547.797125</td>\n",
              "      <td>9556.814924</td>\n",
              "      <td>9.216981</td>\n",
              "      <td>87818.137268</td>\n",
              "      <td>9555.697055</td>\n",
              "      <td>2017-11-27</td>\n",
              "    </tr>\n",
              "    <tr>\n",
              "      <th>2017-11-28</th>\n",
              "      <td>9833.341953</td>\n",
              "      <td>9839.344726</td>\n",
              "      <td>9824.100466</td>\n",
              "      <td>9833.134767</td>\n",
              "      <td>7.793558</td>\n",
              "      <td>76787.182660</td>\n",
              "      <td>9832.286236</td>\n",
              "      <td>2017-11-28</td>\n",
              "    </tr>\n",
              "    <tr>\n",
              "      <th>2017-11-29</th>\n",
              "      <td>10418.308685</td>\n",
              "      <td>10432.556659</td>\n",
              "      <td>10400.521645</td>\n",
              "      <td>10418.194440</td>\n",
              "      <td>24.017486</td>\n",
              "      <td>249245.375145</td>\n",
              "      <td>10416.668393</td>\n",
              "      <td>2017-11-29</td>\n",
              "    </tr>\n",
              "    <tr>\n",
              "      <th>2017-11-30</th>\n",
              "      <td>9889.501764</td>\n",
              "      <td>9906.492917</td>\n",
              "      <td>9868.535028</td>\n",
              "      <td>9888.908549</td>\n",
              "      <td>17.662124</td>\n",
              "      <td>171592.951919</td>\n",
              "      <td>9887.543387</td>\n",
              "      <td>2017-11-30</td>\n",
              "    </tr>\n",
              "    <tr>\n",
              "      <th>...</th>\n",
              "      <td>...</td>\n",
              "      <td>...</td>\n",
              "      <td>...</td>\n",
              "      <td>...</td>\n",
              "      <td>...</td>\n",
              "      <td>...</td>\n",
              "      <td>...</td>\n",
              "      <td>...</td>\n",
              "    </tr>\n",
              "    <tr>\n",
              "      <th>2021-03-27</th>\n",
              "      <td>55193.240643</td>\n",
              "      <td>55219.665031</td>\n",
              "      <td>55168.757372</td>\n",
              "      <td>55195.415367</td>\n",
              "      <td>1.823877</td>\n",
              "      <td>100884.732367</td>\n",
              "      <td>55193.357260</td>\n",
              "      <td>2021-03-27</td>\n",
              "    </tr>\n",
              "    <tr>\n",
              "      <th>2021-03-28</th>\n",
              "      <td>55833.608471</td>\n",
              "      <td>55857.735342</td>\n",
              "      <td>55810.425126</td>\n",
              "      <td>55835.012863</td>\n",
              "      <td>1.447939</td>\n",
              "      <td>80632.115263</td>\n",
              "      <td>55832.958824</td>\n",
              "      <td>2021-03-28</td>\n",
              "    </tr>\n",
              "    <tr>\n",
              "      <th>2021-03-29</th>\n",
              "      <td>56914.886595</td>\n",
              "      <td>56946.213593</td>\n",
              "      <td>56885.242967</td>\n",
              "      <td>56915.629993</td>\n",
              "      <td>3.732887</td>\n",
              "      <td>213754.555988</td>\n",
              "      <td>56913.993819</td>\n",
              "      <td>2021-03-29</td>\n",
              "    </tr>\n",
              "    <tr>\n",
              "      <th>2021-03-30</th>\n",
              "      <td>58347.805624</td>\n",
              "      <td>58371.955310</td>\n",
              "      <td>58323.956690</td>\n",
              "      <td>58349.357087</td>\n",
              "      <td>2.363999</td>\n",
              "      <td>138231.241926</td>\n",
              "      <td>58346.912268</td>\n",
              "      <td>2021-03-30</td>\n",
              "    </tr>\n",
              "    <tr>\n",
              "      <th>2021-03-31</th>\n",
              "      <td>58767.750000</td>\n",
              "      <td>58778.180000</td>\n",
              "      <td>58755.970000</td>\n",
              "      <td>58778.180000</td>\n",
              "      <td>2.712831</td>\n",
              "      <td>159417.751000</td>\n",
              "      <td>58764.349363</td>\n",
              "      <td>2021-03-31</td>\n",
              "    </tr>\n",
              "  </tbody>\n",
              "</table>\n",
              "<p>636 rows × 8 columns</p>\n",
              "</div>"
            ],
            "text/plain": [
              "                    Open          High  ...  Weighted_Price   Timestamp\n",
              "Timestamp                               ...                            \n",
              "2017-11-26   8972.660382   8979.546725  ...     8971.770344  2017-11-26\n",
              "2017-11-27   9556.623951   9562.756576  ...     9555.697055  2017-11-27\n",
              "2017-11-28   9833.341953   9839.344726  ...     9832.286236  2017-11-28\n",
              "2017-11-29  10418.308685  10432.556659  ...    10416.668393  2017-11-29\n",
              "2017-11-30   9889.501764   9906.492917  ...     9887.543387  2017-11-30\n",
              "...                  ...           ...  ...             ...         ...\n",
              "2021-03-27  55193.240643  55219.665031  ...    55193.357260  2021-03-27\n",
              "2021-03-28  55833.608471  55857.735342  ...    55832.958824  2021-03-28\n",
              "2021-03-29  56914.886595  56946.213593  ...    56913.993819  2021-03-29\n",
              "2021-03-30  58347.805624  58371.955310  ...    58346.912268  2021-03-30\n",
              "2021-03-31  58767.750000  58778.180000  ...    58764.349363  2021-03-31\n",
              "\n",
              "[636 rows x 8 columns]"
            ]
          },
          "metadata": {
            "tags": []
          },
          "execution_count": 203
        }
      ]
    },
    {
      "cell_type": "code",
      "metadata": {
        "colab": {
          "base_uri": "https://localhost:8080/",
          "height": 450
        },
        "id": "sZWhPgyqKdVE",
        "outputId": "0afdedab-ff97-4dff-a063-e5bc7c3fe989"
      },
      "source": [
        "df.query('Weighted_Price<4.438306e+02')# We have used 25% value to check outliers. "
      ],
      "execution_count": 204,
      "outputs": [
        {
          "output_type": "execute_result",
          "data": {
            "text/html": [
              "<div>\n",
              "<style scoped>\n",
              "    .dataframe tbody tr th:only-of-type {\n",
              "        vertical-align: middle;\n",
              "    }\n",
              "\n",
              "    .dataframe tbody tr th {\n",
              "        vertical-align: top;\n",
              "    }\n",
              "\n",
              "    .dataframe thead th {\n",
              "        text-align: right;\n",
              "    }\n",
              "</style>\n",
              "<table border=\"1\" class=\"dataframe\">\n",
              "  <thead>\n",
              "    <tr style=\"text-align: right;\">\n",
              "      <th></th>\n",
              "      <th>Open</th>\n",
              "      <th>High</th>\n",
              "      <th>Low</th>\n",
              "      <th>Close</th>\n",
              "      <th>Volume_(BTC)</th>\n",
              "      <th>Volume_(Currency)</th>\n",
              "      <th>Weighted_Price</th>\n",
              "      <th>Timestamp</th>\n",
              "    </tr>\n",
              "    <tr>\n",
              "      <th>Timestamp</th>\n",
              "      <th></th>\n",
              "      <th></th>\n",
              "      <th></th>\n",
              "      <th></th>\n",
              "      <th></th>\n",
              "      <th></th>\n",
              "      <th></th>\n",
              "      <th></th>\n",
              "    </tr>\n",
              "  </thead>\n",
              "  <tbody>\n",
              "    <tr>\n",
              "      <th>2011-12-31</th>\n",
              "      <td>4.465000</td>\n",
              "      <td>4.482500</td>\n",
              "      <td>4.465000</td>\n",
              "      <td>4.482500</td>\n",
              "      <td>23.829470</td>\n",
              "      <td>106.330084</td>\n",
              "      <td>4.471603</td>\n",
              "      <td>2011-12-31</td>\n",
              "    </tr>\n",
              "    <tr>\n",
              "      <th>2012-01-01</th>\n",
              "      <td>4.806667</td>\n",
              "      <td>4.806667</td>\n",
              "      <td>4.806667</td>\n",
              "      <td>4.806667</td>\n",
              "      <td>7.200667</td>\n",
              "      <td>35.259720</td>\n",
              "      <td>4.806667</td>\n",
              "      <td>2012-01-01</td>\n",
              "    </tr>\n",
              "    <tr>\n",
              "      <th>2012-01-02</th>\n",
              "      <td>5.000000</td>\n",
              "      <td>5.000000</td>\n",
              "      <td>5.000000</td>\n",
              "      <td>5.000000</td>\n",
              "      <td>19.048000</td>\n",
              "      <td>95.240000</td>\n",
              "      <td>5.000000</td>\n",
              "      <td>2012-01-02</td>\n",
              "    </tr>\n",
              "    <tr>\n",
              "      <th>2012-01-03</th>\n",
              "      <td>5.252500</td>\n",
              "      <td>5.252500</td>\n",
              "      <td>5.252500</td>\n",
              "      <td>5.252500</td>\n",
              "      <td>11.004660</td>\n",
              "      <td>58.100651</td>\n",
              "      <td>5.252500</td>\n",
              "      <td>2012-01-03</td>\n",
              "    </tr>\n",
              "    <tr>\n",
              "      <th>2012-01-04</th>\n",
              "      <td>5.200000</td>\n",
              "      <td>5.223333</td>\n",
              "      <td>5.200000</td>\n",
              "      <td>5.223333</td>\n",
              "      <td>11.914807</td>\n",
              "      <td>63.119577</td>\n",
              "      <td>5.208159</td>\n",
              "      <td>2012-01-04</td>\n",
              "    </tr>\n",
              "    <tr>\n",
              "      <th>...</th>\n",
              "      <td>...</td>\n",
              "      <td>...</td>\n",
              "      <td>...</td>\n",
              "      <td>...</td>\n",
              "      <td>...</td>\n",
              "      <td>...</td>\n",
              "      <td>...</td>\n",
              "      <td>...</td>\n",
              "    </tr>\n",
              "    <tr>\n",
              "      <th>2016-04-20</th>\n",
              "      <td>438.542243</td>\n",
              "      <td>438.654158</td>\n",
              "      <td>438.414087</td>\n",
              "      <td>438.524787</td>\n",
              "      <td>6.739935</td>\n",
              "      <td>2956.234073</td>\n",
              "      <td>438.524971</td>\n",
              "      <td>2016-04-20</td>\n",
              "    </tr>\n",
              "    <tr>\n",
              "      <th>2016-05-20</th>\n",
              "      <td>441.600490</td>\n",
              "      <td>441.685991</td>\n",
              "      <td>441.510345</td>\n",
              "      <td>441.612895</td>\n",
              "      <td>3.839897</td>\n",
              "      <td>1693.704250</td>\n",
              "      <td>441.591221</td>\n",
              "      <td>2016-05-20</td>\n",
              "    </tr>\n",
              "    <tr>\n",
              "      <th>2016-05-21</th>\n",
              "      <td>442.420288</td>\n",
              "      <td>442.484928</td>\n",
              "      <td>442.357590</td>\n",
              "      <td>442.432662</td>\n",
              "      <td>3.446825</td>\n",
              "      <td>1519.025563</td>\n",
              "      <td>442.422490</td>\n",
              "      <td>2016-05-21</td>\n",
              "    </tr>\n",
              "    <tr>\n",
              "      <th>2016-05-22</th>\n",
              "      <td>440.438258</td>\n",
              "      <td>440.515424</td>\n",
              "      <td>440.348045</td>\n",
              "      <td>440.433788</td>\n",
              "      <td>3.561639</td>\n",
              "      <td>1564.578589</td>\n",
              "      <td>440.417938</td>\n",
              "      <td>2016-05-22</td>\n",
              "    </tr>\n",
              "    <tr>\n",
              "      <th>2016-05-23</th>\n",
              "      <td>440.995386</td>\n",
              "      <td>441.052969</td>\n",
              "      <td>440.926145</td>\n",
              "      <td>441.000725</td>\n",
              "      <td>3.021405</td>\n",
              "      <td>1331.568987</td>\n",
              "      <td>440.985770</td>\n",
              "      <td>2016-05-23</td>\n",
              "    </tr>\n",
              "  </tbody>\n",
              "</table>\n",
              "<p>1269 rows × 8 columns</p>\n",
              "</div>"
            ],
            "text/plain": [
              "                  Open        High  ...  Weighted_Price   Timestamp\n",
              "Timestamp                           ...                            \n",
              "2011-12-31    4.465000    4.482500  ...        4.471603  2011-12-31\n",
              "2012-01-01    4.806667    4.806667  ...        4.806667  2012-01-01\n",
              "2012-01-02    5.000000    5.000000  ...        5.000000  2012-01-02\n",
              "2012-01-03    5.252500    5.252500  ...        5.252500  2012-01-03\n",
              "2012-01-04    5.200000    5.223333  ...        5.208159  2012-01-04\n",
              "...                ...         ...  ...             ...         ...\n",
              "2016-04-20  438.542243  438.654158  ...      438.524971  2016-04-20\n",
              "2016-05-20  441.600490  441.685991  ...      441.591221  2016-05-20\n",
              "2016-05-21  442.420288  442.484928  ...      442.422490  2016-05-21\n",
              "2016-05-22  440.438258  440.515424  ...      440.417938  2016-05-22\n",
              "2016-05-23  440.995386  441.052969  ...      440.985770  2016-05-23\n",
              "\n",
              "[1269 rows x 8 columns]"
            ]
          },
          "metadata": {
            "tags": []
          },
          "execution_count": 204
        }
      ]
    },
    {
      "cell_type": "code",
      "metadata": {
        "colab": {
          "base_uri": "https://localhost:8080/"
        },
        "id": "d-1-QOyl0UUm",
        "outputId": "205f692d-12b9-478f-81ea-f1b155618f18"
      },
      "source": [
        "df.columns"
      ],
      "execution_count": 205,
      "outputs": [
        {
          "output_type": "execute_result",
          "data": {
            "text/plain": [
              "Index(['Open', 'High', 'Low', 'Close', 'Volume_(BTC)', 'Volume_(Currency)',\n",
              "       'Weighted_Price', 'Timestamp'],\n",
              "      dtype='object')"
            ]
          },
          "metadata": {
            "tags": []
          },
          "execution_count": 205
        }
      ]
    },
    {
      "cell_type": "code",
      "metadata": {
        "id": "Z7Kk5WtQ0ihK"
      },
      "source": [
        "df_in=df[['Open', 'High', 'Low', 'Close', 'Volume_(BTC)',\n",
        "       'Volume_(Currency)', 'Weighted_Price']]  # Time stamp is not included in input dataframe"
      ],
      "execution_count": 206,
      "outputs": []
    },
    {
      "cell_type": "markdown",
      "metadata": {
        "id": "9VqRs_9DJcys"
      },
      "source": [
        "We can also check other colums for number of outliers. Standard scaler will not account the outliers so we use \"MinMaxScaler\""
      ]
    },
    {
      "cell_type": "code",
      "metadata": {
        "colab": {
          "base_uri": "https://localhost:8080/"
        },
        "id": "TACI-iQPK4HB",
        "outputId": "1e866006-d3e8-4247-86a8-08870c8e238b"
      },
      "source": [
        "scaler=MinMaxScaler()\n",
        "scaled_data=scaler.fit_transform(df_in)\n",
        "scaled_data #Data is b/w 0 and 1"
      ],
      "execution_count": 207,
      "outputs": [
        {
          "output_type": "execute_result",
          "data": {
            "text/plain": [
              "array([[2.20553339e-06, 2.49375033e-06, 2.20669774e-06, ...,\n",
              "        1.97693490e-01, 1.10518618e-04, 2.31485037e-06],\n",
              "       [7.85721270e-06, 7.85324690e-06, 7.86136070e-06, ...,\n",
              "        5.82753379e-02, 3.57859319e-05, 7.85753698e-06],\n",
              "       [1.10552361e-05, 1.10496562e-05, 1.10610724e-05, ...,\n",
              "        1.57604997e-01, 9.88570516e-05, 1.10556924e-05],\n",
              "       ...,\n",
              "       [9.41385968e-01, 9.41428753e-01, 9.41392338e-01, ...,\n",
              "        2.92009995e-02, 2.24768236e-01, 9.41410052e-01],\n",
              "       [9.65088599e-01, 9.65000757e-01, 9.65203386e-01, ...,\n",
              "        1.77240564e-02, 1.45353136e-01, 9.65113651e-01],\n",
              "       [9.72035109e-01, 9.71716931e-01, 9.72353306e-01, ...,\n",
              "        2.06487115e-02, 1.67631405e-01, 9.72018972e-01]])"
            ]
          },
          "metadata": {
            "tags": []
          },
          "execution_count": 207
        }
      ]
    },
    {
      "cell_type": "code",
      "metadata": {
        "id": "EHRVZL67-23Q"
      },
      "source": [
        "features=scaled_data           #(Multivariate data going to be the input of LSTM model)All columns including 'Weighted_Price' because we want to predict future values using past values of 'Weighted_Price' along with other variables (Timestamp is not icluded). All\n",
        "target=scaled_data[:,-1]        #only 'Weighted_Price' column (Timestamp is not included)"
      ],
      "execution_count": 208,
      "outputs": []
    },
    {
      "cell_type": "code",
      "metadata": {
        "colab": {
          "base_uri": "https://localhost:8080/"
        },
        "id": "gdU9vh5Y1Rk6",
        "outputId": "1ada54c4-3e5d-4883-db32-5d1395cb6a98"
      },
      "source": [
        "features"
      ],
      "execution_count": 209,
      "outputs": [
        {
          "output_type": "execute_result",
          "data": {
            "text/plain": [
              "array([[2.20553339e-06, 2.49375033e-06, 2.20669774e-06, ...,\n",
              "        1.97693490e-01, 1.10518618e-04, 2.31485037e-06],\n",
              "       [7.85721270e-06, 7.85324690e-06, 7.86136070e-06, ...,\n",
              "        5.82753379e-02, 3.57859319e-05, 7.85753698e-06],\n",
              "       [1.10552361e-05, 1.10496562e-05, 1.10610724e-05, ...,\n",
              "        1.57604997e-01, 9.88570516e-05, 1.10556924e-05],\n",
              "       ...,\n",
              "       [9.41385968e-01, 9.41428753e-01, 9.41392338e-01, ...,\n",
              "        2.92009995e-02, 2.24768236e-01, 9.41410052e-01],\n",
              "       [9.65088599e-01, 9.65000757e-01, 9.65203386e-01, ...,\n",
              "        1.77240564e-02, 1.45353136e-01, 9.65113651e-01],\n",
              "       [9.72035109e-01, 9.71716931e-01, 9.72353306e-01, ...,\n",
              "        2.06487115e-02, 1.67631405e-01, 9.72018972e-01]])"
            ]
          },
          "metadata": {
            "tags": []
          },
          "execution_count": 209
        }
      ]
    },
    {
      "cell_type": "code",
      "metadata": {
        "colab": {
          "base_uri": "https://localhost:8080/"
        },
        "id": "n13ppy374nw4",
        "outputId": "7e3e7831-e812-4cfc-c05f-2d7e03f92eca"
      },
      "source": [
        "target"
      ],
      "execution_count": 210,
      "outputs": [
        {
          "output_type": "execute_result",
          "data": {
            "text/plain": [
              "array([2.31485037e-06, 7.85753698e-06, 1.10556924e-05, ...,\n",
              "       9.41410052e-01, 9.65113651e-01, 9.72018972e-01])"
            ]
          },
          "metadata": {
            "tags": []
          },
          "execution_count": 210
        }
      ]
    },
    {
      "cell_type": "code",
      "metadata": {
        "colab": {
          "base_uri": "https://localhost:8080/"
        },
        "id": "M5ernQerCqxJ",
        "outputId": "9a49d85e-6bfe-4861-b9c1-98cfa9e2e95f"
      },
      "source": [
        "features.shape"
      ],
      "execution_count": 211,
      "outputs": [
        {
          "output_type": "execute_result",
          "data": {
            "text/plain": [
              "(3376, 7)"
            ]
          },
          "metadata": {
            "tags": []
          },
          "execution_count": 211
        }
      ]
    },
    {
      "cell_type": "code",
      "metadata": {
        "colab": {
          "base_uri": "https://localhost:8080/"
        },
        "id": "v2f-RcLCGI1h",
        "outputId": "d2b912bb-1834-421b-ec60-ede057be366c"
      },
      "source": [
        "target.shape"
      ],
      "execution_count": 212,
      "outputs": [
        {
          "output_type": "execute_result",
          "data": {
            "text/plain": [
              "(3376,)"
            ]
          },
          "metadata": {
            "tags": []
          },
          "execution_count": 212
        }
      ]
    },
    {
      "cell_type": "code",
      "metadata": {
        "id": "dtRPCt8p4zlv"
      },
      "source": [
        "# Splitting the Training and Test data\n",
        "x_train,x_test,y_train,y_test = train_test_split(features,target,test_size=0.0092,random_state=42,shuffle=False)"
      ],
      "execution_count": 213,
      "outputs": []
    },
    {
      "cell_type": "code",
      "metadata": {
        "colab": {
          "base_uri": "https://localhost:8080/"
        },
        "id": "FsE_C-8-cZDo",
        "outputId": "4eafe468-423a-4e38-84d2-f49488a22a0f"
      },
      "source": [
        "x_train.shape"
      ],
      "execution_count": 214,
      "outputs": [
        {
          "output_type": "execute_result",
          "data": {
            "text/plain": [
              "(3344, 7)"
            ]
          },
          "metadata": {
            "tags": []
          },
          "execution_count": 214
        }
      ]
    },
    {
      "cell_type": "code",
      "metadata": {
        "colab": {
          "base_uri": "https://localhost:8080/"
        },
        "id": "vyNB35PodnIC",
        "outputId": "7b1579aa-74b8-4de3-a807-df4ca5bec578"
      },
      "source": [
        "x_test.shape"
      ],
      "execution_count": 215,
      "outputs": [
        {
          "output_type": "execute_result",
          "data": {
            "text/plain": [
              "(32, 7)"
            ]
          },
          "metadata": {
            "tags": []
          },
          "execution_count": 215
        }
      ]
    },
    {
      "cell_type": "code",
      "metadata": {
        "colab": {
          "base_uri": "https://localhost:8080/"
        },
        "id": "8eoCtq8Ldvbh",
        "outputId": "70c02c05-6271-4913-e7da-b07a6d87ba9a"
      },
      "source": [
        "y_train.shape"
      ],
      "execution_count": 216,
      "outputs": [
        {
          "output_type": "execute_result",
          "data": {
            "text/plain": [
              "(3344,)"
            ]
          },
          "metadata": {
            "tags": []
          },
          "execution_count": 216
        }
      ]
    },
    {
      "cell_type": "code",
      "metadata": {
        "colab": {
          "base_uri": "https://localhost:8080/"
        },
        "id": "wAOUkH3md4CG",
        "outputId": "55e910b1-ce78-4c38-db40-9d3c14d27f73"
      },
      "source": [
        "y_test.shape"
      ],
      "execution_count": 217,
      "outputs": [
        {
          "output_type": "execute_result",
          "data": {
            "text/plain": [
              "(32,)"
            ]
          },
          "metadata": {
            "tags": []
          },
          "execution_count": 217
        }
      ]
    },
    {
      "cell_type": "code",
      "metadata": {
        "id": "7SU8hFBJ3yyU"
      },
      "source": [
        "win_length=720\n",
        "batch_size=32\n",
        "num_features=7\n",
        "# Time series generator is used to prepare data.Feature column(x_train or x_test) & Target column(y_train,y_test) are passed.\n",
        "#window_length is number of time periods of data. It will take these numbers of time periods of data and predict the next.\n",
        "train_generator=TimeseriesGenerator(x_train,y_train,length=win_length,sampling_rate=1,batch_size=batch_size)\n",
        "train_generator=TimeseriesGenerator(x_test,y_test,length=win_length,sampling_rate=1,batch_size=batch_size)\n",
        "\n",
        "train_generator #it will contain 32 observations equal to \"batch_size\" each have further observations equal to \"win_length\" & further each observation contain equal to \"num_features\" features.The are also 32 target columns equel to batch size "
      ],
      "execution_count": null,
      "outputs": []
    },
    {
      "cell_type": "code",
      "metadata": {
        "colab": {
          "base_uri": "https://localhost:8080/"
        },
        "id": "i8zCLnThd5tf",
        "outputId": "3d0b4e62-f159-4cbb-b025-e69b0fd7802b"
      },
      "source": [
        "model = Sequential()\n",
        "# In following line of code,128 is LSTM output.We set\"return_sequences=True\" because we require hidden state for each of our input data otherwise it will return\n",
        "#only one hidden state for all the input data.it is time series data so we need to have hidde state for each and every observation.\n",
        "model.add(LSTM(128,input_shape=(win_length,num_features),return_sequences=True))\n",
        "model.add(LeakyReLU(alpha=0.5))\n",
        "model.add(LSTM(128, return_sequences=True))\n",
        "model.add(LeakyReLU(alpha=0.5))\n",
        "model.add(Dropout(0.3))\n",
        "model.add(LSTM(64, return_sequences=False))# return only single hidden state. If we want to further use other layers before final layer we can set it equel to true.\n",
        "model.add(Dropout(0.3))\n",
        "model.add(tf.keras.layers.Dense(1))\n",
        "print(model.summary())"
      ],
      "execution_count": 218,
      "outputs": [
        {
          "output_type": "stream",
          "text": [
            "Model: \"sequential_3\"\n",
            "_________________________________________________________________\n",
            "Layer (type)                 Output Shape              Param #   \n",
            "=================================================================\n",
            "lstm_9 (LSTM)                (None, 720, 128)          69632     \n",
            "_________________________________________________________________\n",
            "leaky_re_lu_6 (LeakyReLU)    (None, 720, 128)          0         \n",
            "_________________________________________________________________\n",
            "lstm_10 (LSTM)               (None, 720, 128)          131584    \n",
            "_________________________________________________________________\n",
            "leaky_re_lu_7 (LeakyReLU)    (None, 720, 128)          0         \n",
            "_________________________________________________________________\n",
            "dropout_6 (Dropout)          (None, 720, 128)          0         \n",
            "_________________________________________________________________\n",
            "lstm_11 (LSTM)               (None, 64)                49408     \n",
            "_________________________________________________________________\n",
            "dropout_7 (Dropout)          (None, 64)                0         \n",
            "_________________________________________________________________\n",
            "dense_3 (Dense)              (None, 1)                 65        \n",
            "=================================================================\n",
            "Total params: 250,689\n",
            "Trainable params: 250,689\n",
            "Non-trainable params: 0\n",
            "_________________________________________________________________\n",
            "None\n"
          ],
          "name": "stdout"
        }
      ]
    },
    {
      "cell_type": "code",
      "metadata": {
        "id": "cKpUMk1mZBYo"
      },
      "source": [
        "# Early stopping is if our validation loss is not improving then it will stop the training earlier.it will observe 2 iterations for validation loss improvement.\n",
        "earl_stop=EarlyStopping(monitor=\"val_loss\",patience=2,mode='min')"
      ],
      "execution_count": 219,
      "outputs": []
    },
    {
      "cell_type": "code",
      "metadata": {
        "id": "fABN0W4w8F3u"
      },
      "source": [
        "#Compiling the model\n",
        "model.compile(loss = MeanSquaredError(), optimizer=Adam(),metrics =[MeanAbsoluteError()])"
      ],
      "execution_count": 220,
      "outputs": []
    },
    {
      "cell_type": "code",
      "metadata": {
        "id": "a_LpEVrG96bP"
      },
      "source": [
        "epochs=30\n",
        "#Training our model\n",
        "history=model.fit_generator(train_generator,epochs=epochs,validation_data=test_generator,shuffle=False,callback=earl_stop)"
      ],
      "execution_count": null,
      "outputs": []
    },
    {
      "cell_type": "code",
      "metadata": {
        "id": "yuRUeWQCJ1c-"
      },
      "source": [
        "#saving the model\n",
        "\n",
        "model_json = model.to_json()\n",
        "with open(\"model_final.json\", \"w\") as json_file:\n",
        "    json_file.write(model_json)\n",
        "model.save_weights(\"final_model.h5\")"
      ],
      "execution_count": null,
      "outputs": []
    },
    {
      "cell_type": "code",
      "metadata": {
        "id": "3tjhsIyaIXeK"
      },
      "source": [
        "model.evaluate(test_generator,verbose=0)# checking the performance of our model"
      ],
      "execution_count": null,
      "outputs": []
    },
    {
      "cell_type": "code",
      "metadata": {
        "id": "_2tfa73g98Pq"
      },
      "source": [
        "predict=model.predict_generator(test_generator)"
      ],
      "execution_count": null,
      "outputs": []
    },
    {
      "cell_type": "code",
      "metadata": {
        "id": "Y5qb1UILJXxH"
      },
      "source": [
        "predict"
      ],
      "execution_count": null,
      "outputs": []
    }
  ]
}