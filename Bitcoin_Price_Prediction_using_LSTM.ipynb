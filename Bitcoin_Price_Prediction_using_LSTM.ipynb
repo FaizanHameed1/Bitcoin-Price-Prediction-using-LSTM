{
  "nbformat": 4,
  "nbformat_minor": 0,
  "metadata": {
    "accelerator": "GPU",
    "colab": {
      "name": "Bitcoin_Price_Prediction_using_LSTM.ipynb",
      "provenance": [],
      "collapsed_sections": [
        "1QbQkd6Cwvr1",
        "X7pWOdfJw75n"
      ]
    },
    "kernelspec": {
      "display_name": "Python 3",
      "name": "python3"
    },
    "language_info": {
      "name": "python"
    }
  },
  "cells": [
    {
      "cell_type": "markdown",
      "metadata": {
        "id": "evxj30vm1ulu"
      },
      "source": [
        "# Predicting Bitcoin Price Using LSTM"
      ]
    },
    {
      "cell_type": "markdown",
      "metadata": {
        "id": "3_Tzm6bs2E0q"
      },
      "source": [
        "## Faizan Hameed"
      ]
    },
    {
      "cell_type": "markdown",
      "metadata": {
        "id": "T-t3yCmw2S0b"
      },
      "source": [
        "### 1-Downloading Dataset in Google Drive"
      ]
    },
    {
      "cell_type": "code",
      "metadata": {
        "colab": {
          "base_uri": "https://localhost:8080/"
        },
        "id": "LgnkxQaepaLI",
        "outputId": "3ec78cbe-247f-4d38-dd4e-6f5e812f085e"
      },
      "source": [
        "from google.colab import drive\n",
        "drive.mount('/content/gdrive')"
      ],
      "execution_count": 1,
      "outputs": [
        {
          "output_type": "stream",
          "text": [
            "Mounted at /content/gdrive\n"
          ],
          "name": "stdout"
        }
      ]
    },
    {
      "cell_type": "code",
      "metadata": {
        "id": "W_abLteJs3uk"
      },
      "source": [
        "#Run only 1st time\n",
        "#import os\n",
        "#os.environ['KAGGLE_CONFIG_DIR'] = \"/content/gdrive/My Drive/Kaggle\""
      ],
      "execution_count": 2,
      "outputs": []
    },
    {
      "cell_type": "code",
      "metadata": {
        "colab": {
          "base_uri": "https://localhost:8080/"
        },
        "id": "CjeQ7vhOtGcp",
        "outputId": "9a68959a-5d01-42ed-f976-6d2843732250"
      },
      "source": [
        "#changing the working directory\n",
        "%cd /content/gdrive/My Drive/Kaggle"
      ],
      "execution_count": 3,
      "outputs": [
        {
          "output_type": "stream",
          "text": [
            "/content/gdrive/My Drive/Kaggle\n"
          ],
          "name": "stdout"
        }
      ]
    },
    {
      "cell_type": "code",
      "metadata": {
        "colab": {
          "base_uri": "https://localhost:8080/",
          "height": 35
        },
        "id": "drwACzjytSWx",
        "outputId": "88761265-d05e-463c-db1e-05882772c469"
      },
      "source": [
        "#Check the present working directory\n",
        "import os\n",
        "os.getcwd() \n"
      ],
      "execution_count": 4,
      "outputs": [
        {
          "output_type": "execute_result",
          "data": {
            "application/vnd.google.colaboratory.intrinsic+json": {
              "type": "string"
            },
            "text/plain": [
              "'/content/gdrive/My Drive/Kaggle'"
            ]
          },
          "metadata": {
            "tags": []
          },
          "execution_count": 4
        }
      ]
    },
    {
      "cell_type": "code",
      "metadata": {
        "id": "FPuQbIjwtqAq"
      },
      "source": [
        "#Run this cell only 1st time to download the dataset in spacified directory \n",
        "# Copy the API command from Kaggle Dataset and paste(using !) to download the data\n",
        "#!kaggle datasets download -d mczielinski/bitcoin-historical-data"
      ],
      "execution_count": 5,
      "outputs": []
    },
    {
      "cell_type": "code",
      "metadata": {
        "colab": {
          "base_uri": "https://localhost:8080/"
        },
        "id": "IELJ7uJLzmYT",
        "outputId": "0367055a-e7c6-4fe1-fa42-d87062e778bc"
      },
      "source": [
        "#check the content in our directory\n",
        "!ls"
      ],
      "execution_count": 6,
      "outputs": [
        {
          "output_type": "stream",
          "text": [
            "BC_Data.csv  coin_Bitcoin.csv  final_model.h5  kaggle.json  model_final.json\n"
          ],
          "name": "stdout"
        }
      ]
    },
    {
      "cell_type": "code",
      "metadata": {
        "id": "x9FYs9Sfz7e8"
      },
      "source": [
        "#Run only once to unzip the Dataset\n",
        "#unzipping the zip files and deleting the zip files\n",
        "#!unzip \\*.zip  && rm *.zip"
      ],
      "execution_count": 7,
      "outputs": []
    },
    {
      "cell_type": "markdown",
      "metadata": {
        "id": "AEygCGE_3OLt"
      },
      "source": [
        "### 2-Importing Libraries "
      ]
    },
    {
      "cell_type": "code",
      "metadata": {
        "colab": {
          "base_uri": "https://localhost:8080/"
        },
        "id": "fGl-nlU803Fe",
        "outputId": "ab9d8320-6233-44c8-ab86-086c7690e1dd"
      },
      "source": [
        "import pandas as pd\n",
        "import numpy as np\n",
        "from scipy import stats\n",
        "import matplotlib.pyplot as plt\n",
        "import seaborn as sns\n",
        "from sklearn.preprocessing import MinMaxScaler,StandardScaler\n",
        "from sklearn.model_selection import train_test_split\n",
        "import tensorflow as tf\n",
        "from keras.models import Sequential\n",
        "from keras.layers import LSTM, Dropout, LeakyReLU,Dense\n",
        "from keras.preprocessing.sequence import TimeseriesGenerator\n",
        "from keras.callbacks import EarlyStopping\n",
        "from keras.losses import MeanSquaredError\n",
        "from keras.optimizers import Adam\n",
        "from keras.losses import MeanAbsoluteError\n",
        "from keras.models import model_from_json\n",
        "from scipy import stats\n",
        "from statsmodels.tsa.stattools import adfuller\n",
        "%matplotlib inline"
      ],
      "execution_count": 8,
      "outputs": [
        {
          "output_type": "stream",
          "text": [
            "/usr/local/lib/python3.7/dist-packages/statsmodels/tools/_testing.py:19: FutureWarning: pandas.util.testing is deprecated. Use the functions in the public API at pandas.testing instead.\n",
            "  import pandas.util.testing as tm\n"
          ],
          "name": "stderr"
        }
      ]
    },
    {
      "cell_type": "markdown",
      "metadata": {
        "id": "9ZFoZI4yuqqg"
      },
      "source": [
        "### 3- Importing dataset"
      ]
    },
    {
      "cell_type": "code",
      "metadata": {
        "colab": {
          "base_uri": "https://localhost:8080/",
          "height": 221
        },
        "id": "MSk3T--KtDu5",
        "outputId": "805c713f-9153-4a8d-c9e8-a385d8356d7f"
      },
      "source": [
        "d_frame=pd.read_csv('BC_Data.csv')\n",
        "print('1st 5 rows')\n",
        "d_frame.head(5)\n",
        "\n",
        "\n"
      ],
      "execution_count": 9,
      "outputs": [
        {
          "output_type": "stream",
          "text": [
            "1st 5 rows\n"
          ],
          "name": "stdout"
        },
        {
          "output_type": "execute_result",
          "data": {
            "text/html": [
              "<div>\n",
              "<style scoped>\n",
              "    .dataframe tbody tr th:only-of-type {\n",
              "        vertical-align: middle;\n",
              "    }\n",
              "\n",
              "    .dataframe tbody tr th {\n",
              "        vertical-align: top;\n",
              "    }\n",
              "\n",
              "    .dataframe thead th {\n",
              "        text-align: right;\n",
              "    }\n",
              "</style>\n",
              "<table border=\"1\" class=\"dataframe\">\n",
              "  <thead>\n",
              "    <tr style=\"text-align: right;\">\n",
              "      <th></th>\n",
              "      <th>Timestamp</th>\n",
              "      <th>Open</th>\n",
              "      <th>High</th>\n",
              "      <th>Low</th>\n",
              "      <th>Close</th>\n",
              "      <th>Volume_(BTC)</th>\n",
              "      <th>Volume_(Currency)</th>\n",
              "      <th>Weighted_Price</th>\n",
              "    </tr>\n",
              "  </thead>\n",
              "  <tbody>\n",
              "    <tr>\n",
              "      <th>0</th>\n",
              "      <td>1325317920</td>\n",
              "      <td>4.39</td>\n",
              "      <td>4.39</td>\n",
              "      <td>4.39</td>\n",
              "      <td>4.39</td>\n",
              "      <td>0.455581</td>\n",
              "      <td>2.0</td>\n",
              "      <td>4.39</td>\n",
              "    </tr>\n",
              "    <tr>\n",
              "      <th>1</th>\n",
              "      <td>1325317980</td>\n",
              "      <td>NaN</td>\n",
              "      <td>NaN</td>\n",
              "      <td>NaN</td>\n",
              "      <td>NaN</td>\n",
              "      <td>NaN</td>\n",
              "      <td>NaN</td>\n",
              "      <td>NaN</td>\n",
              "    </tr>\n",
              "    <tr>\n",
              "      <th>2</th>\n",
              "      <td>1325318040</td>\n",
              "      <td>NaN</td>\n",
              "      <td>NaN</td>\n",
              "      <td>NaN</td>\n",
              "      <td>NaN</td>\n",
              "      <td>NaN</td>\n",
              "      <td>NaN</td>\n",
              "      <td>NaN</td>\n",
              "    </tr>\n",
              "    <tr>\n",
              "      <th>3</th>\n",
              "      <td>1325318100</td>\n",
              "      <td>NaN</td>\n",
              "      <td>NaN</td>\n",
              "      <td>NaN</td>\n",
              "      <td>NaN</td>\n",
              "      <td>NaN</td>\n",
              "      <td>NaN</td>\n",
              "      <td>NaN</td>\n",
              "    </tr>\n",
              "    <tr>\n",
              "      <th>4</th>\n",
              "      <td>1325318160</td>\n",
              "      <td>NaN</td>\n",
              "      <td>NaN</td>\n",
              "      <td>NaN</td>\n",
              "      <td>NaN</td>\n",
              "      <td>NaN</td>\n",
              "      <td>NaN</td>\n",
              "      <td>NaN</td>\n",
              "    </tr>\n",
              "  </tbody>\n",
              "</table>\n",
              "</div>"
            ],
            "text/plain": [
              "    Timestamp  Open  High  ...  Volume_(BTC)  Volume_(Currency)  Weighted_Price\n",
              "0  1325317920  4.39  4.39  ...      0.455581                2.0            4.39\n",
              "1  1325317980   NaN   NaN  ...           NaN                NaN             NaN\n",
              "2  1325318040   NaN   NaN  ...           NaN                NaN             NaN\n",
              "3  1325318100   NaN   NaN  ...           NaN                NaN             NaN\n",
              "4  1325318160   NaN   NaN  ...           NaN                NaN             NaN\n",
              "\n",
              "[5 rows x 8 columns]"
            ]
          },
          "metadata": {
            "tags": []
          },
          "execution_count": 9
        }
      ]
    },
    {
      "cell_type": "code",
      "metadata": {
        "id": "sSwjc7t6oDnU"
      },
      "source": [
        "#d_frame.info()# Here datatype of Timestamp is \"int64\"."
      ],
      "execution_count": 10,
      "outputs": []
    },
    {
      "cell_type": "code",
      "metadata": {
        "id": "WGZWJN0smiu3"
      },
      "source": [
        "#d_frame[\"Timestamp\"]=pd.to_datetime(d_frame['Timestamp'],infer_datetime_format=True) #We converted in \"Timestamp\" format. Now datatype of \"Timestamp\" is object but we used\"infer_datetime_format=True\" that converts \"Timestamp\" format from \"object\" to \"datetime64\" format)\n",
        "#d_frame.head()"
      ],
      "execution_count": 11,
      "outputs": []
    },
    {
      "cell_type": "code",
      "metadata": {
        "id": "3TxWou83nXlX"
      },
      "source": [
        "#d_frame.info()"
      ],
      "execution_count": 12,
      "outputs": []
    },
    {
      "cell_type": "code",
      "metadata": {
        "colab": {
          "base_uri": "https://localhost:8080/"
        },
        "id": "h9Gqaor3ujq5",
        "outputId": "9caa34f2-22c7-494a-84f6-224aa5a15bcf"
      },
      "source": [
        "d_frame.shape # No of rows and columns in this dataframe "
      ],
      "execution_count": 13,
      "outputs": [
        {
          "output_type": "execute_result",
          "data": {
            "text/plain": [
              "(4857377, 8)"
            ]
          },
          "metadata": {
            "tags": []
          },
          "execution_count": 13
        }
      ]
    },
    {
      "cell_type": "markdown",
      "metadata": {
        "id": "fdehHX45vONB"
      },
      "source": [
        "### 4-Data Cleaning"
      ]
    },
    {
      "cell_type": "markdown",
      "metadata": {
        "id": "j5p2dvINrh0e"
      },
      "source": [
        "We are going to convert time stemp to date."
      ]
    },
    {
      "cell_type": "code",
      "metadata": {
        "colab": {
          "base_uri": "https://localhost:8080/",
          "height": 204
        },
        "id": "42wL8INou3L3",
        "outputId": "0750dbdd-3344-425e-c372-3266bba87283"
      },
      "source": [
        "d_frame[\"Timestamp\"]=pd.to_datetime(d_frame['Timestamp'],unit='s').dt.date #We converted in time stamp format\n",
        "#d_frame = d_frame.set_index(['Timestamp']) #If we want to set \"Timestamp\" as index.\n",
        "d_frame.head(5)"
      ],
      "execution_count": 14,
      "outputs": [
        {
          "output_type": "execute_result",
          "data": {
            "text/html": [
              "<div>\n",
              "<style scoped>\n",
              "    .dataframe tbody tr th:only-of-type {\n",
              "        vertical-align: middle;\n",
              "    }\n",
              "\n",
              "    .dataframe tbody tr th {\n",
              "        vertical-align: top;\n",
              "    }\n",
              "\n",
              "    .dataframe thead th {\n",
              "        text-align: right;\n",
              "    }\n",
              "</style>\n",
              "<table border=\"1\" class=\"dataframe\">\n",
              "  <thead>\n",
              "    <tr style=\"text-align: right;\">\n",
              "      <th></th>\n",
              "      <th>Timestamp</th>\n",
              "      <th>Open</th>\n",
              "      <th>High</th>\n",
              "      <th>Low</th>\n",
              "      <th>Close</th>\n",
              "      <th>Volume_(BTC)</th>\n",
              "      <th>Volume_(Currency)</th>\n",
              "      <th>Weighted_Price</th>\n",
              "    </tr>\n",
              "  </thead>\n",
              "  <tbody>\n",
              "    <tr>\n",
              "      <th>0</th>\n",
              "      <td>2011-12-31</td>\n",
              "      <td>4.39</td>\n",
              "      <td>4.39</td>\n",
              "      <td>4.39</td>\n",
              "      <td>4.39</td>\n",
              "      <td>0.455581</td>\n",
              "      <td>2.0</td>\n",
              "      <td>4.39</td>\n",
              "    </tr>\n",
              "    <tr>\n",
              "      <th>1</th>\n",
              "      <td>2011-12-31</td>\n",
              "      <td>NaN</td>\n",
              "      <td>NaN</td>\n",
              "      <td>NaN</td>\n",
              "      <td>NaN</td>\n",
              "      <td>NaN</td>\n",
              "      <td>NaN</td>\n",
              "      <td>NaN</td>\n",
              "    </tr>\n",
              "    <tr>\n",
              "      <th>2</th>\n",
              "      <td>2011-12-31</td>\n",
              "      <td>NaN</td>\n",
              "      <td>NaN</td>\n",
              "      <td>NaN</td>\n",
              "      <td>NaN</td>\n",
              "      <td>NaN</td>\n",
              "      <td>NaN</td>\n",
              "      <td>NaN</td>\n",
              "    </tr>\n",
              "    <tr>\n",
              "      <th>3</th>\n",
              "      <td>2011-12-31</td>\n",
              "      <td>NaN</td>\n",
              "      <td>NaN</td>\n",
              "      <td>NaN</td>\n",
              "      <td>NaN</td>\n",
              "      <td>NaN</td>\n",
              "      <td>NaN</td>\n",
              "      <td>NaN</td>\n",
              "    </tr>\n",
              "    <tr>\n",
              "      <th>4</th>\n",
              "      <td>2011-12-31</td>\n",
              "      <td>NaN</td>\n",
              "      <td>NaN</td>\n",
              "      <td>NaN</td>\n",
              "      <td>NaN</td>\n",
              "      <td>NaN</td>\n",
              "      <td>NaN</td>\n",
              "      <td>NaN</td>\n",
              "    </tr>\n",
              "  </tbody>\n",
              "</table>\n",
              "</div>"
            ],
            "text/plain": [
              "    Timestamp  Open  High  ...  Volume_(BTC)  Volume_(Currency)  Weighted_Price\n",
              "0  2011-12-31  4.39  4.39  ...      0.455581                2.0            4.39\n",
              "1  2011-12-31   NaN   NaN  ...           NaN                NaN             NaN\n",
              "2  2011-12-31   NaN   NaN  ...           NaN                NaN             NaN\n",
              "3  2011-12-31   NaN   NaN  ...           NaN                NaN             NaN\n",
              "4  2011-12-31   NaN   NaN  ...           NaN                NaN             NaN\n",
              "\n",
              "[5 rows x 8 columns]"
            ]
          },
          "metadata": {
            "tags": []
          },
          "execution_count": 14
        }
      ]
    },
    {
      "cell_type": "code",
      "metadata": {
        "id": "49kCmp_-p1KQ"
      },
      "source": [
        "#d_frame[\"Timestamp\"]=pd.to_datetime(d_frame['Timestamp'],infer_datetime_format=True) #We converted in \"Timestamp\" format. Now datatype of \"Timestamp\" is object but we used\"infer_datetime_format=True\" that converts \"Timestamp\" format from \"object\" to \"datetime64\" format)\n",
        "#print('Top 5 rows of dataframe')\n",
        "#d_frame.head()"
      ],
      "execution_count": 15,
      "outputs": []
    },
    {
      "cell_type": "code",
      "metadata": {
        "colab": {
          "base_uri": "https://localhost:8080/",
          "height": 221
        },
        "id": "VmEM4fHztAsb",
        "outputId": "7959cb4e-e1d1-455d-fe70-6122568607a0"
      },
      "source": [
        "print('last 5 rows')\n",
        "d_frame.tail(5)"
      ],
      "execution_count": 16,
      "outputs": [
        {
          "output_type": "stream",
          "text": [
            "last 5 rows\n"
          ],
          "name": "stdout"
        },
        {
          "output_type": "execute_result",
          "data": {
            "text/html": [
              "<div>\n",
              "<style scoped>\n",
              "    .dataframe tbody tr th:only-of-type {\n",
              "        vertical-align: middle;\n",
              "    }\n",
              "\n",
              "    .dataframe tbody tr th {\n",
              "        vertical-align: top;\n",
              "    }\n",
              "\n",
              "    .dataframe thead th {\n",
              "        text-align: right;\n",
              "    }\n",
              "</style>\n",
              "<table border=\"1\" class=\"dataframe\">\n",
              "  <thead>\n",
              "    <tr style=\"text-align: right;\">\n",
              "      <th></th>\n",
              "      <th>Timestamp</th>\n",
              "      <th>Open</th>\n",
              "      <th>High</th>\n",
              "      <th>Low</th>\n",
              "      <th>Close</th>\n",
              "      <th>Volume_(BTC)</th>\n",
              "      <th>Volume_(Currency)</th>\n",
              "      <th>Weighted_Price</th>\n",
              "    </tr>\n",
              "  </thead>\n",
              "  <tbody>\n",
              "    <tr>\n",
              "      <th>4857372</th>\n",
              "      <td>2021-03-30</td>\n",
              "      <td>58714.31</td>\n",
              "      <td>58714.31</td>\n",
              "      <td>58686.00</td>\n",
              "      <td>58686.00</td>\n",
              "      <td>1.384487</td>\n",
              "      <td>81259.372187</td>\n",
              "      <td>58692.753339</td>\n",
              "    </tr>\n",
              "    <tr>\n",
              "      <th>4857373</th>\n",
              "      <td>2021-03-30</td>\n",
              "      <td>58683.97</td>\n",
              "      <td>58693.43</td>\n",
              "      <td>58683.97</td>\n",
              "      <td>58685.81</td>\n",
              "      <td>7.294848</td>\n",
              "      <td>428158.146640</td>\n",
              "      <td>58693.226508</td>\n",
              "    </tr>\n",
              "    <tr>\n",
              "      <th>4857374</th>\n",
              "      <td>2021-03-30</td>\n",
              "      <td>58693.43</td>\n",
              "      <td>58723.84</td>\n",
              "      <td>58693.43</td>\n",
              "      <td>58723.84</td>\n",
              "      <td>1.705682</td>\n",
              "      <td>100117.070370</td>\n",
              "      <td>58696.198496</td>\n",
              "    </tr>\n",
              "    <tr>\n",
              "      <th>4857375</th>\n",
              "      <td>2021-03-30</td>\n",
              "      <td>58742.18</td>\n",
              "      <td>58770.38</td>\n",
              "      <td>58742.18</td>\n",
              "      <td>58760.59</td>\n",
              "      <td>0.720415</td>\n",
              "      <td>42332.958633</td>\n",
              "      <td>58761.866202</td>\n",
              "    </tr>\n",
              "    <tr>\n",
              "      <th>4857376</th>\n",
              "      <td>2021-03-31</td>\n",
              "      <td>58767.75</td>\n",
              "      <td>58778.18</td>\n",
              "      <td>58755.97</td>\n",
              "      <td>58778.18</td>\n",
              "      <td>2.712831</td>\n",
              "      <td>159417.751000</td>\n",
              "      <td>58764.349363</td>\n",
              "    </tr>\n",
              "  </tbody>\n",
              "</table>\n",
              "</div>"
            ],
            "text/plain": [
              "          Timestamp      Open  ...  Volume_(Currency)  Weighted_Price\n",
              "4857372  2021-03-30  58714.31  ...       81259.372187    58692.753339\n",
              "4857373  2021-03-30  58683.97  ...      428158.146640    58693.226508\n",
              "4857374  2021-03-30  58693.43  ...      100117.070370    58696.198496\n",
              "4857375  2021-03-30  58742.18  ...       42332.958633    58761.866202\n",
              "4857376  2021-03-31  58767.75  ...      159417.751000    58764.349363\n",
              "\n",
              "[5 rows x 8 columns]"
            ]
          },
          "metadata": {
            "tags": []
          },
          "execution_count": 16
        }
      ]
    },
    {
      "cell_type": "markdown",
      "metadata": {
        "id": "5SSTzNmjuRcL"
      },
      "source": [
        "We can see that our data is upto date."
      ]
    },
    {
      "cell_type": "code",
      "metadata": {
        "colab": {
          "base_uri": "https://localhost:8080/"
        },
        "id": "69IKt4kTUvGz",
        "outputId": "659c71ba-b6dd-4f54-f2a3-0d0da141cfee"
      },
      "source": [
        "d_frame.shape # No of rows and columns in this dataframe "
      ],
      "execution_count": 17,
      "outputs": [
        {
          "output_type": "execute_result",
          "data": {
            "text/plain": [
              "(4857377, 8)"
            ]
          },
          "metadata": {
            "tags": []
          },
          "execution_count": 17
        }
      ]
    },
    {
      "cell_type": "markdown",
      "metadata": {
        "id": "72EHexr2Pnzo"
      },
      "source": [
        "Now we are going to remove all un necessary columns."
      ]
    },
    {
      "cell_type": "code",
      "metadata": {
        "colab": {
          "base_uri": "https://localhost:8080/"
        },
        "id": "nsu_KgwoPmDu",
        "outputId": "5b558a9c-6f1a-4b94-c765-0c046ab201dd"
      },
      "source": [
        "d_frame.columns"
      ],
      "execution_count": 18,
      "outputs": [
        {
          "output_type": "execute_result",
          "data": {
            "text/plain": [
              "Index(['Timestamp', 'Open', 'High', 'Low', 'Close', 'Volume_(BTC)',\n",
              "       'Volume_(Currency)', 'Weighted_Price'],\n",
              "      dtype='object')"
            ]
          },
          "metadata": {
            "tags": []
          },
          "execution_count": 18
        }
      ]
    },
    {
      "cell_type": "code",
      "metadata": {
        "colab": {
          "base_uri": "https://localhost:8080/",
          "height": 419
        },
        "id": "rVaM9ILgWJCg",
        "outputId": "aa3fe099-150b-4410-8cae-57b49cba231a"
      },
      "source": [
        "d_frame.drop(['Open',\"High\",'Low','Close'] , inplace=True, axis=1)\n",
        "d_frame"
      ],
      "execution_count": 19,
      "outputs": [
        {
          "output_type": "execute_result",
          "data": {
            "text/html": [
              "<div>\n",
              "<style scoped>\n",
              "    .dataframe tbody tr th:only-of-type {\n",
              "        vertical-align: middle;\n",
              "    }\n",
              "\n",
              "    .dataframe tbody tr th {\n",
              "        vertical-align: top;\n",
              "    }\n",
              "\n",
              "    .dataframe thead th {\n",
              "        text-align: right;\n",
              "    }\n",
              "</style>\n",
              "<table border=\"1\" class=\"dataframe\">\n",
              "  <thead>\n",
              "    <tr style=\"text-align: right;\">\n",
              "      <th></th>\n",
              "      <th>Timestamp</th>\n",
              "      <th>Volume_(BTC)</th>\n",
              "      <th>Volume_(Currency)</th>\n",
              "      <th>Weighted_Price</th>\n",
              "    </tr>\n",
              "  </thead>\n",
              "  <tbody>\n",
              "    <tr>\n",
              "      <th>0</th>\n",
              "      <td>2011-12-31</td>\n",
              "      <td>0.455581</td>\n",
              "      <td>2.000000</td>\n",
              "      <td>4.390000</td>\n",
              "    </tr>\n",
              "    <tr>\n",
              "      <th>1</th>\n",
              "      <td>2011-12-31</td>\n",
              "      <td>NaN</td>\n",
              "      <td>NaN</td>\n",
              "      <td>NaN</td>\n",
              "    </tr>\n",
              "    <tr>\n",
              "      <th>2</th>\n",
              "      <td>2011-12-31</td>\n",
              "      <td>NaN</td>\n",
              "      <td>NaN</td>\n",
              "      <td>NaN</td>\n",
              "    </tr>\n",
              "    <tr>\n",
              "      <th>3</th>\n",
              "      <td>2011-12-31</td>\n",
              "      <td>NaN</td>\n",
              "      <td>NaN</td>\n",
              "      <td>NaN</td>\n",
              "    </tr>\n",
              "    <tr>\n",
              "      <th>4</th>\n",
              "      <td>2011-12-31</td>\n",
              "      <td>NaN</td>\n",
              "      <td>NaN</td>\n",
              "      <td>NaN</td>\n",
              "    </tr>\n",
              "    <tr>\n",
              "      <th>...</th>\n",
              "      <td>...</td>\n",
              "      <td>...</td>\n",
              "      <td>...</td>\n",
              "      <td>...</td>\n",
              "    </tr>\n",
              "    <tr>\n",
              "      <th>4857372</th>\n",
              "      <td>2021-03-30</td>\n",
              "      <td>1.384487</td>\n",
              "      <td>81259.372187</td>\n",
              "      <td>58692.753339</td>\n",
              "    </tr>\n",
              "    <tr>\n",
              "      <th>4857373</th>\n",
              "      <td>2021-03-30</td>\n",
              "      <td>7.294848</td>\n",
              "      <td>428158.146640</td>\n",
              "      <td>58693.226508</td>\n",
              "    </tr>\n",
              "    <tr>\n",
              "      <th>4857374</th>\n",
              "      <td>2021-03-30</td>\n",
              "      <td>1.705682</td>\n",
              "      <td>100117.070370</td>\n",
              "      <td>58696.198496</td>\n",
              "    </tr>\n",
              "    <tr>\n",
              "      <th>4857375</th>\n",
              "      <td>2021-03-30</td>\n",
              "      <td>0.720415</td>\n",
              "      <td>42332.958633</td>\n",
              "      <td>58761.866202</td>\n",
              "    </tr>\n",
              "    <tr>\n",
              "      <th>4857376</th>\n",
              "      <td>2021-03-31</td>\n",
              "      <td>2.712831</td>\n",
              "      <td>159417.751000</td>\n",
              "      <td>58764.349363</td>\n",
              "    </tr>\n",
              "  </tbody>\n",
              "</table>\n",
              "<p>4857377 rows × 4 columns</p>\n",
              "</div>"
            ],
            "text/plain": [
              "          Timestamp  Volume_(BTC)  Volume_(Currency)  Weighted_Price\n",
              "0        2011-12-31      0.455581           2.000000        4.390000\n",
              "1        2011-12-31           NaN                NaN             NaN\n",
              "2        2011-12-31           NaN                NaN             NaN\n",
              "3        2011-12-31           NaN                NaN             NaN\n",
              "4        2011-12-31           NaN                NaN             NaN\n",
              "...             ...           ...                ...             ...\n",
              "4857372  2021-03-30      1.384487       81259.372187    58692.753339\n",
              "4857373  2021-03-30      7.294848      428158.146640    58693.226508\n",
              "4857374  2021-03-30      1.705682      100117.070370    58696.198496\n",
              "4857375  2021-03-30      0.720415       42332.958633    58761.866202\n",
              "4857376  2021-03-31      2.712831      159417.751000    58764.349363\n",
              "\n",
              "[4857377 rows x 4 columns]"
            ]
          },
          "metadata": {
            "tags": []
          },
          "execution_count": 19
        }
      ]
    },
    {
      "cell_type": "code",
      "metadata": {
        "colab": {
          "base_uri": "https://localhost:8080/",
          "height": 359
        },
        "id": "gnjSsLhMc_1f",
        "outputId": "a55df3f8-1b6b-479a-b9b0-320e5ea5e661"
      },
      "source": [
        "#Renaming Column \"Weighted_Price\"\n",
        "d_frame.rename(columns={'Weighted_Price': 'Bitcoin_Price'}, inplace=True)\n",
        "d_frame.head(10)"
      ],
      "execution_count": 20,
      "outputs": [
        {
          "output_type": "execute_result",
          "data": {
            "text/html": [
              "<div>\n",
              "<style scoped>\n",
              "    .dataframe tbody tr th:only-of-type {\n",
              "        vertical-align: middle;\n",
              "    }\n",
              "\n",
              "    .dataframe tbody tr th {\n",
              "        vertical-align: top;\n",
              "    }\n",
              "\n",
              "    .dataframe thead th {\n",
              "        text-align: right;\n",
              "    }\n",
              "</style>\n",
              "<table border=\"1\" class=\"dataframe\">\n",
              "  <thead>\n",
              "    <tr style=\"text-align: right;\">\n",
              "      <th></th>\n",
              "      <th>Timestamp</th>\n",
              "      <th>Volume_(BTC)</th>\n",
              "      <th>Volume_(Currency)</th>\n",
              "      <th>Bitcoin_Price</th>\n",
              "    </tr>\n",
              "  </thead>\n",
              "  <tbody>\n",
              "    <tr>\n",
              "      <th>0</th>\n",
              "      <td>2011-12-31</td>\n",
              "      <td>0.455581</td>\n",
              "      <td>2.0</td>\n",
              "      <td>4.39</td>\n",
              "    </tr>\n",
              "    <tr>\n",
              "      <th>1</th>\n",
              "      <td>2011-12-31</td>\n",
              "      <td>NaN</td>\n",
              "      <td>NaN</td>\n",
              "      <td>NaN</td>\n",
              "    </tr>\n",
              "    <tr>\n",
              "      <th>2</th>\n",
              "      <td>2011-12-31</td>\n",
              "      <td>NaN</td>\n",
              "      <td>NaN</td>\n",
              "      <td>NaN</td>\n",
              "    </tr>\n",
              "    <tr>\n",
              "      <th>3</th>\n",
              "      <td>2011-12-31</td>\n",
              "      <td>NaN</td>\n",
              "      <td>NaN</td>\n",
              "      <td>NaN</td>\n",
              "    </tr>\n",
              "    <tr>\n",
              "      <th>4</th>\n",
              "      <td>2011-12-31</td>\n",
              "      <td>NaN</td>\n",
              "      <td>NaN</td>\n",
              "      <td>NaN</td>\n",
              "    </tr>\n",
              "    <tr>\n",
              "      <th>5</th>\n",
              "      <td>2011-12-31</td>\n",
              "      <td>NaN</td>\n",
              "      <td>NaN</td>\n",
              "      <td>NaN</td>\n",
              "    </tr>\n",
              "    <tr>\n",
              "      <th>6</th>\n",
              "      <td>2011-12-31</td>\n",
              "      <td>NaN</td>\n",
              "      <td>NaN</td>\n",
              "      <td>NaN</td>\n",
              "    </tr>\n",
              "    <tr>\n",
              "      <th>7</th>\n",
              "      <td>2011-12-31</td>\n",
              "      <td>NaN</td>\n",
              "      <td>NaN</td>\n",
              "      <td>NaN</td>\n",
              "    </tr>\n",
              "    <tr>\n",
              "      <th>8</th>\n",
              "      <td>2011-12-31</td>\n",
              "      <td>NaN</td>\n",
              "      <td>NaN</td>\n",
              "      <td>NaN</td>\n",
              "    </tr>\n",
              "    <tr>\n",
              "      <th>9</th>\n",
              "      <td>2011-12-31</td>\n",
              "      <td>NaN</td>\n",
              "      <td>NaN</td>\n",
              "      <td>NaN</td>\n",
              "    </tr>\n",
              "  </tbody>\n",
              "</table>\n",
              "</div>"
            ],
            "text/plain": [
              "    Timestamp  Volume_(BTC)  Volume_(Currency)  Bitcoin_Price\n",
              "0  2011-12-31      0.455581                2.0           4.39\n",
              "1  2011-12-31           NaN                NaN            NaN\n",
              "2  2011-12-31           NaN                NaN            NaN\n",
              "3  2011-12-31           NaN                NaN            NaN\n",
              "4  2011-12-31           NaN                NaN            NaN\n",
              "5  2011-12-31           NaN                NaN            NaN\n",
              "6  2011-12-31           NaN                NaN            NaN\n",
              "7  2011-12-31           NaN                NaN            NaN\n",
              "8  2011-12-31           NaN                NaN            NaN\n",
              "9  2011-12-31           NaN                NaN            NaN"
            ]
          },
          "metadata": {
            "tags": []
          },
          "execution_count": 20
        }
      ]
    },
    {
      "cell_type": "code",
      "metadata": {
        "id": "o6vH2BEt4hxW"
      },
      "source": [
        "#grouping=d_frame.groupby('Timestamp')\n",
        "#df=grouping[ 'Volume_(BTC)','Volume_(Currency)', 'Bitcoin_Price'].mean()\n",
        "#df"
      ],
      "execution_count": 21,
      "outputs": []
    },
    {
      "cell_type": "markdown",
      "metadata": {
        "id": "GX3wReLqDZOR"
      },
      "source": [
        "We have selected two years of data starting from 1st Feb 2019."
      ]
    },
    {
      "cell_type": "code",
      "metadata": {
        "id": "LshHqkcP-7Gs"
      },
      "source": [
        "#d_select = d_frame.loc[d_frame['Timestamp'] > pd.to_datetime('2019-01-01')]\n",
        "#d_select.head(5)"
      ],
      "execution_count": 22,
      "outputs": []
    },
    {
      "cell_type": "code",
      "metadata": {
        "colab": {
          "base_uri": "https://localhost:8080/"
        },
        "id": "g4Ai-DjRJejf",
        "outputId": "45444acf-a125-47fd-a77e-7dae5e7eba43"
      },
      "source": [
        "d_frame.shape"
      ],
      "execution_count": 23,
      "outputs": [
        {
          "output_type": "execute_result",
          "data": {
            "text/plain": [
              "(4857377, 4)"
            ]
          },
          "metadata": {
            "tags": []
          },
          "execution_count": 23
        }
      ]
    },
    {
      "cell_type": "markdown",
      "metadata": {
        "id": "9FD_lO-a4Ujw"
      },
      "source": [
        "There are multiple readings at every day in dataframe so  grouping data w.r.t \"Timestamp\" and taking the mean of each group."
      ]
    },
    {
      "cell_type": "code",
      "metadata": {
        "colab": {
          "base_uri": "https://localhost:8080/",
          "height": 504
        },
        "id": "USlhSlPOIS6n",
        "outputId": "4edf85cb-cbb8-4abe-8c33-8cb145a13e60"
      },
      "source": [
        "grouping=d_frame.groupby('Timestamp')\n",
        "df=grouping[ 'Volume_(BTC)','Volume_(Currency)', 'Bitcoin_Price'].mean()\n",
        "df"
      ],
      "execution_count": 24,
      "outputs": [
        {
          "output_type": "stream",
          "text": [
            "/usr/local/lib/python3.7/dist-packages/ipykernel_launcher.py:2: FutureWarning: Indexing with multiple keys (implicitly converted to a tuple of keys) will be deprecated, use a list instead.\n",
            "  \n"
          ],
          "name": "stderr"
        },
        {
          "output_type": "execute_result",
          "data": {
            "text/html": [
              "<div>\n",
              "<style scoped>\n",
              "    .dataframe tbody tr th:only-of-type {\n",
              "        vertical-align: middle;\n",
              "    }\n",
              "\n",
              "    .dataframe tbody tr th {\n",
              "        vertical-align: top;\n",
              "    }\n",
              "\n",
              "    .dataframe thead th {\n",
              "        text-align: right;\n",
              "    }\n",
              "</style>\n",
              "<table border=\"1\" class=\"dataframe\">\n",
              "  <thead>\n",
              "    <tr style=\"text-align: right;\">\n",
              "      <th></th>\n",
              "      <th>Volume_(BTC)</th>\n",
              "      <th>Volume_(Currency)</th>\n",
              "      <th>Bitcoin_Price</th>\n",
              "    </tr>\n",
              "    <tr>\n",
              "      <th>Timestamp</th>\n",
              "      <th></th>\n",
              "      <th></th>\n",
              "      <th></th>\n",
              "    </tr>\n",
              "  </thead>\n",
              "  <tbody>\n",
              "    <tr>\n",
              "      <th>2011-12-31</th>\n",
              "      <td>23.829470</td>\n",
              "      <td>106.330084</td>\n",
              "      <td>4.471603</td>\n",
              "    </tr>\n",
              "    <tr>\n",
              "      <th>2012-01-01</th>\n",
              "      <td>7.200667</td>\n",
              "      <td>35.259720</td>\n",
              "      <td>4.806667</td>\n",
              "    </tr>\n",
              "    <tr>\n",
              "      <th>2012-01-02</th>\n",
              "      <td>19.048000</td>\n",
              "      <td>95.240000</td>\n",
              "      <td>5.000000</td>\n",
              "    </tr>\n",
              "    <tr>\n",
              "      <th>2012-01-03</th>\n",
              "      <td>11.004660</td>\n",
              "      <td>58.100651</td>\n",
              "      <td>5.252500</td>\n",
              "    </tr>\n",
              "    <tr>\n",
              "      <th>2012-01-04</th>\n",
              "      <td>11.914807</td>\n",
              "      <td>63.119577</td>\n",
              "      <td>5.208159</td>\n",
              "    </tr>\n",
              "    <tr>\n",
              "      <th>...</th>\n",
              "      <td>...</td>\n",
              "      <td>...</td>\n",
              "      <td>...</td>\n",
              "    </tr>\n",
              "    <tr>\n",
              "      <th>2021-03-27</th>\n",
              "      <td>1.823877</td>\n",
              "      <td>100884.732367</td>\n",
              "      <td>55193.357260</td>\n",
              "    </tr>\n",
              "    <tr>\n",
              "      <th>2021-03-28</th>\n",
              "      <td>1.447939</td>\n",
              "      <td>80632.115263</td>\n",
              "      <td>55832.958824</td>\n",
              "    </tr>\n",
              "    <tr>\n",
              "      <th>2021-03-29</th>\n",
              "      <td>3.732887</td>\n",
              "      <td>213754.555988</td>\n",
              "      <td>56913.993819</td>\n",
              "    </tr>\n",
              "    <tr>\n",
              "      <th>2021-03-30</th>\n",
              "      <td>2.363999</td>\n",
              "      <td>138231.241926</td>\n",
              "      <td>58346.912268</td>\n",
              "    </tr>\n",
              "    <tr>\n",
              "      <th>2021-03-31</th>\n",
              "      <td>2.712831</td>\n",
              "      <td>159417.751000</td>\n",
              "      <td>58764.349363</td>\n",
              "    </tr>\n",
              "  </tbody>\n",
              "</table>\n",
              "<p>3376 rows × 3 columns</p>\n",
              "</div>"
            ],
            "text/plain": [
              "            Volume_(BTC)  Volume_(Currency)  Bitcoin_Price\n",
              "Timestamp                                                 \n",
              "2011-12-31     23.829470         106.330084       4.471603\n",
              "2012-01-01      7.200667          35.259720       4.806667\n",
              "2012-01-02     19.048000          95.240000       5.000000\n",
              "2012-01-03     11.004660          58.100651       5.252500\n",
              "2012-01-04     11.914807          63.119577       5.208159\n",
              "...                  ...                ...            ...\n",
              "2021-03-27      1.823877      100884.732367   55193.357260\n",
              "2021-03-28      1.447939       80632.115263   55832.958824\n",
              "2021-03-29      3.732887      213754.555988   56913.993819\n",
              "2021-03-30      2.363999      138231.241926   58346.912268\n",
              "2021-03-31      2.712831      159417.751000   58764.349363\n",
              "\n",
              "[3376 rows x 3 columns]"
            ]
          },
          "metadata": {
            "tags": []
          },
          "execution_count": 24
        }
      ]
    },
    {
      "cell_type": "code",
      "metadata": {
        "id": "cIpH2b2FJjpl",
        "colab": {
          "base_uri": "https://localhost:8080/"
        },
        "outputId": "3953a3f6-b880-42cb-96fc-0dea5a7e748b"
      },
      "source": [
        "df.shape"
      ],
      "execution_count": 25,
      "outputs": [
        {
          "output_type": "execute_result",
          "data": {
            "text/plain": [
              "(3376, 3)"
            ]
          },
          "metadata": {
            "tags": []
          },
          "execution_count": 25
        }
      ]
    },
    {
      "cell_type": "code",
      "metadata": {
        "id": "1zmwxsbO4xFk",
        "colab": {
          "base_uri": "https://localhost:8080/",
          "height": 390
        },
        "outputId": "6465fbdd-d795-4c00-b631-c224902878c7"
      },
      "source": [
        "# We want to replace missing values i.e \"?\" to Python's default missing value marker \"NaN\"\n",
        "df.replace(\"?\", np.nan, inplace = True)\n",
        "df.head(10)"
      ],
      "execution_count": 26,
      "outputs": [
        {
          "output_type": "execute_result",
          "data": {
            "text/html": [
              "<div>\n",
              "<style scoped>\n",
              "    .dataframe tbody tr th:only-of-type {\n",
              "        vertical-align: middle;\n",
              "    }\n",
              "\n",
              "    .dataframe tbody tr th {\n",
              "        vertical-align: top;\n",
              "    }\n",
              "\n",
              "    .dataframe thead th {\n",
              "        text-align: right;\n",
              "    }\n",
              "</style>\n",
              "<table border=\"1\" class=\"dataframe\">\n",
              "  <thead>\n",
              "    <tr style=\"text-align: right;\">\n",
              "      <th></th>\n",
              "      <th>Volume_(BTC)</th>\n",
              "      <th>Volume_(Currency)</th>\n",
              "      <th>Bitcoin_Price</th>\n",
              "    </tr>\n",
              "    <tr>\n",
              "      <th>Timestamp</th>\n",
              "      <th></th>\n",
              "      <th></th>\n",
              "      <th></th>\n",
              "    </tr>\n",
              "  </thead>\n",
              "  <tbody>\n",
              "    <tr>\n",
              "      <th>2011-12-31</th>\n",
              "      <td>23.829470</td>\n",
              "      <td>106.330084</td>\n",
              "      <td>4.471603</td>\n",
              "    </tr>\n",
              "    <tr>\n",
              "      <th>2012-01-01</th>\n",
              "      <td>7.200667</td>\n",
              "      <td>35.259720</td>\n",
              "      <td>4.806667</td>\n",
              "    </tr>\n",
              "    <tr>\n",
              "      <th>2012-01-02</th>\n",
              "      <td>19.048000</td>\n",
              "      <td>95.240000</td>\n",
              "      <td>5.000000</td>\n",
              "    </tr>\n",
              "    <tr>\n",
              "      <th>2012-01-03</th>\n",
              "      <td>11.004660</td>\n",
              "      <td>58.100651</td>\n",
              "      <td>5.252500</td>\n",
              "    </tr>\n",
              "    <tr>\n",
              "      <th>2012-01-04</th>\n",
              "      <td>11.914807</td>\n",
              "      <td>63.119577</td>\n",
              "      <td>5.208159</td>\n",
              "    </tr>\n",
              "    <tr>\n",
              "      <th>2012-01-05</th>\n",
              "      <td>4.514373</td>\n",
              "      <td>27.987370</td>\n",
              "      <td>6.284127</td>\n",
              "    </tr>\n",
              "    <tr>\n",
              "      <th>2012-01-06</th>\n",
              "      <td>2.420196</td>\n",
              "      <td>15.914659</td>\n",
              "      <td>6.438999</td>\n",
              "    </tr>\n",
              "    <tr>\n",
              "      <th>2012-01-07</th>\n",
              "      <td>0.295858</td>\n",
              "      <td>2.011834</td>\n",
              "      <td>6.800000</td>\n",
              "    </tr>\n",
              "    <tr>\n",
              "      <th>2012-01-08</th>\n",
              "      <td>2.500000</td>\n",
              "      <td>17.300000</td>\n",
              "      <td>6.950000</td>\n",
              "    </tr>\n",
              "    <tr>\n",
              "      <th>2012-01-09</th>\n",
              "      <td>1.857481</td>\n",
              "      <td>12.306798</td>\n",
              "      <td>6.582770</td>\n",
              "    </tr>\n",
              "  </tbody>\n",
              "</table>\n",
              "</div>"
            ],
            "text/plain": [
              "            Volume_(BTC)  Volume_(Currency)  Bitcoin_Price\n",
              "Timestamp                                                 \n",
              "2011-12-31     23.829470         106.330084       4.471603\n",
              "2012-01-01      7.200667          35.259720       4.806667\n",
              "2012-01-02     19.048000          95.240000       5.000000\n",
              "2012-01-03     11.004660          58.100651       5.252500\n",
              "2012-01-04     11.914807          63.119577       5.208159\n",
              "2012-01-05      4.514373          27.987370       6.284127\n",
              "2012-01-06      2.420196          15.914659       6.438999\n",
              "2012-01-07      0.295858           2.011834       6.800000\n",
              "2012-01-08      2.500000          17.300000       6.950000\n",
              "2012-01-09      1.857481          12.306798       6.582770"
            ]
          },
          "metadata": {
            "tags": []
          },
          "execution_count": 26
        }
      ]
    },
    {
      "cell_type": "code",
      "metadata": {
        "id": "d6TzQvHt8bkh",
        "colab": {
          "base_uri": "https://localhost:8080/",
          "height": 390
        },
        "outputId": "e8797cc5-3492-4fce-f91d-1157c27aa884"
      },
      "source": [
        "#After converting to default now detecting missing data(we can use .isnull()\n",
        "#or .notnull() method)\n",
        "#True\" stands for missing value, while \"False\" stands for not missing value.\n",
        "missing_values = df.isnull()\n",
        "missing_values.head(10)"
      ],
      "execution_count": 27,
      "outputs": [
        {
          "output_type": "execute_result",
          "data": {
            "text/html": [
              "<div>\n",
              "<style scoped>\n",
              "    .dataframe tbody tr th:only-of-type {\n",
              "        vertical-align: middle;\n",
              "    }\n",
              "\n",
              "    .dataframe tbody tr th {\n",
              "        vertical-align: top;\n",
              "    }\n",
              "\n",
              "    .dataframe thead th {\n",
              "        text-align: right;\n",
              "    }\n",
              "</style>\n",
              "<table border=\"1\" class=\"dataframe\">\n",
              "  <thead>\n",
              "    <tr style=\"text-align: right;\">\n",
              "      <th></th>\n",
              "      <th>Volume_(BTC)</th>\n",
              "      <th>Volume_(Currency)</th>\n",
              "      <th>Bitcoin_Price</th>\n",
              "    </tr>\n",
              "    <tr>\n",
              "      <th>Timestamp</th>\n",
              "      <th></th>\n",
              "      <th></th>\n",
              "      <th></th>\n",
              "    </tr>\n",
              "  </thead>\n",
              "  <tbody>\n",
              "    <tr>\n",
              "      <th>2011-12-31</th>\n",
              "      <td>False</td>\n",
              "      <td>False</td>\n",
              "      <td>False</td>\n",
              "    </tr>\n",
              "    <tr>\n",
              "      <th>2012-01-01</th>\n",
              "      <td>False</td>\n",
              "      <td>False</td>\n",
              "      <td>False</td>\n",
              "    </tr>\n",
              "    <tr>\n",
              "      <th>2012-01-02</th>\n",
              "      <td>False</td>\n",
              "      <td>False</td>\n",
              "      <td>False</td>\n",
              "    </tr>\n",
              "    <tr>\n",
              "      <th>2012-01-03</th>\n",
              "      <td>False</td>\n",
              "      <td>False</td>\n",
              "      <td>False</td>\n",
              "    </tr>\n",
              "    <tr>\n",
              "      <th>2012-01-04</th>\n",
              "      <td>False</td>\n",
              "      <td>False</td>\n",
              "      <td>False</td>\n",
              "    </tr>\n",
              "    <tr>\n",
              "      <th>2012-01-05</th>\n",
              "      <td>False</td>\n",
              "      <td>False</td>\n",
              "      <td>False</td>\n",
              "    </tr>\n",
              "    <tr>\n",
              "      <th>2012-01-06</th>\n",
              "      <td>False</td>\n",
              "      <td>False</td>\n",
              "      <td>False</td>\n",
              "    </tr>\n",
              "    <tr>\n",
              "      <th>2012-01-07</th>\n",
              "      <td>False</td>\n",
              "      <td>False</td>\n",
              "      <td>False</td>\n",
              "    </tr>\n",
              "    <tr>\n",
              "      <th>2012-01-08</th>\n",
              "      <td>False</td>\n",
              "      <td>False</td>\n",
              "      <td>False</td>\n",
              "    </tr>\n",
              "    <tr>\n",
              "      <th>2012-01-09</th>\n",
              "      <td>False</td>\n",
              "      <td>False</td>\n",
              "      <td>False</td>\n",
              "    </tr>\n",
              "  </tbody>\n",
              "</table>\n",
              "</div>"
            ],
            "text/plain": [
              "            Volume_(BTC)  Volume_(Currency)  Bitcoin_Price\n",
              "Timestamp                                                 \n",
              "2011-12-31         False              False          False\n",
              "2012-01-01         False              False          False\n",
              "2012-01-02         False              False          False\n",
              "2012-01-03         False              False          False\n",
              "2012-01-04         False              False          False\n",
              "2012-01-05         False              False          False\n",
              "2012-01-06         False              False          False\n",
              "2012-01-07         False              False          False\n",
              "2012-01-08         False              False          False\n",
              "2012-01-09         False              False          False"
            ]
          },
          "metadata": {
            "tags": []
          },
          "execution_count": 27
        }
      ]
    },
    {
      "cell_type": "code",
      "metadata": {
        "id": "GoAIaX7PONlw",
        "colab": {
          "base_uri": "https://localhost:8080/"
        },
        "outputId": "1b57cb6b-3c94-4284-c1ef-9c314489b623"
      },
      "source": [
        "# Checking the missing values in each column\n",
        "for column in missing_values.columns.values.tolist():\n",
        "    print(column)\n",
        "    print (missing_values[column].value_counts())\n",
        "    print(\"\") "
      ],
      "execution_count": 28,
      "outputs": [
        {
          "output_type": "stream",
          "text": [
            "Volume_(BTC)\n",
            "False    3376\n",
            "Name: Volume_(BTC), dtype: int64\n",
            "\n",
            "Volume_(Currency)\n",
            "False    3376\n",
            "Name: Volume_(Currency), dtype: int64\n",
            "\n",
            "Bitcoin_Price\n",
            "False    3376\n",
            "Name: Bitcoin_Price, dtype: int64\n",
            "\n"
          ],
          "name": "stdout"
        }
      ]
    },
    {
      "cell_type": "markdown",
      "metadata": {
        "id": "vW4nq5dPOzhc"
      },
      "source": [
        "We can see from data that there are whole rows of missing values which we can't handle. Only we can do is to remove them. To remove the whole rows first of all we will remove those rows that have not \"Weighted_Price\" values because , we are going to predict the \"Weighted_Price\" so without it all other row data is useless."
      ]
    },
    {
      "cell_type": "code",
      "metadata": {
        "id": "OQdbuc4EPJ09"
      },
      "source": [
        "# simply drop whole rows with NaN in \"Weighted_Price\" column\n",
        "#d_frame.dropna(subset=[\"Weighted_Price\"], axis=0, inplace=True)\n",
        "\n",
        "# reset index, because we droped many rows\n",
        "#d_frame.reset_index(drop=True, inplace=True)\n",
        "#d_frame.head(10)"
      ],
      "execution_count": 29,
      "outputs": []
    },
    {
      "cell_type": "code",
      "metadata": {
        "id": "PNU-96cGRXpD",
        "colab": {
          "base_uri": "https://localhost:8080/"
        },
        "outputId": "ca85af0e-445f-4566-adfe-f58cbbf0c553"
      },
      "source": [
        "#checking that if there is any missing value. \n",
        "df.isnull().values.any()"
      ],
      "execution_count": 30,
      "outputs": [
        {
          "output_type": "execute_result",
          "data": {
            "text/plain": [
              "False"
            ]
          },
          "metadata": {
            "tags": []
          },
          "execution_count": 30
        }
      ]
    },
    {
      "cell_type": "markdown",
      "metadata": {
        "id": "3phheFC4Sy_1"
      },
      "source": [
        "\"False\" mean that there is no missing value in our dataframe."
      ]
    },
    {
      "cell_type": "markdown",
      "metadata": {
        "id": "0RWEy-Npv2i6"
      },
      "source": [
        "### 5-Exploritory Data Analysis"
      ]
    },
    {
      "cell_type": "markdown",
      "metadata": {
        "id": "mYFIKMwkz40u"
      },
      "source": [
        "##########Remove double hash  after checking data"
      ]
    },
    {
      "cell_type": "code",
      "metadata": {
        "id": "fFVTeJyRdd1v",
        "colab": {
          "base_uri": "https://localhost:8080/"
        },
        "outputId": "691c00d2-408d-4e21-cc55-0415546507b0"
      },
      "source": [
        "df.index"
      ],
      "execution_count": 31,
      "outputs": [
        {
          "output_type": "execute_result",
          "data": {
            "text/plain": [
              "Index([2011-12-31, 2012-01-01, 2012-01-02, 2012-01-03, 2012-01-04, 2012-01-05,\n",
              "       2012-01-06, 2012-01-07, 2012-01-08, 2012-01-09,\n",
              "       ...\n",
              "       2021-03-22, 2021-03-23, 2021-03-24, 2021-03-25, 2021-03-26, 2021-03-27,\n",
              "       2021-03-28, 2021-03-29, 2021-03-30, 2021-03-31],\n",
              "      dtype='object', name='Timestamp', length=3376)"
            ]
          },
          "metadata": {
            "tags": []
          },
          "execution_count": 31
        }
      ]
    },
    {
      "cell_type": "code",
      "metadata": {
        "id": "vws7336OVJno",
        "colab": {
          "base_uri": "https://localhost:8080/"
        },
        "outputId": "5d9afd1c-94b8-4065-ab68-2f4fd53b775d"
      },
      "source": [
        "df.info()"
      ],
      "execution_count": 32,
      "outputs": [
        {
          "output_type": "stream",
          "text": [
            "<class 'pandas.core.frame.DataFrame'>\n",
            "Index: 3376 entries, 2011-12-31 to 2021-03-31\n",
            "Data columns (total 3 columns):\n",
            " #   Column             Non-Null Count  Dtype  \n",
            "---  ------             --------------  -----  \n",
            " 0   Volume_(BTC)       3376 non-null   float64\n",
            " 1   Volume_(Currency)  3376 non-null   float64\n",
            " 2   Bitcoin_Price      3376 non-null   float64\n",
            "dtypes: float64(3)\n",
            "memory usage: 105.5+ KB\n"
          ],
          "name": "stdout"
        }
      ]
    },
    {
      "cell_type": "code",
      "metadata": {
        "id": "f5-VfWM4U-LE",
        "colab": {
          "base_uri": "https://localhost:8080/"
        },
        "outputId": "10409e2f-4f9a-494f-e3fe-8392da7efcdb"
      },
      "source": [
        "print(df.dtypes)"
      ],
      "execution_count": 33,
      "outputs": [
        {
          "output_type": "stream",
          "text": [
            "Volume_(BTC)         float64\n",
            "Volume_(Currency)    float64\n",
            "Bitcoin_Price        float64\n",
            "dtype: object\n"
          ],
          "name": "stdout"
        }
      ]
    },
    {
      "cell_type": "code",
      "metadata": {
        "id": "J-8SRQHZWY8q",
        "colab": {
          "base_uri": "https://localhost:8080/",
          "height": 142
        },
        "outputId": "8c13635c-1455-4d10-89d2-09fbdfeb552a"
      },
      "source": [
        "corr=df.corr()\n",
        "corr"
      ],
      "execution_count": 34,
      "outputs": [
        {
          "output_type": "execute_result",
          "data": {
            "text/html": [
              "<div>\n",
              "<style scoped>\n",
              "    .dataframe tbody tr th:only-of-type {\n",
              "        vertical-align: middle;\n",
              "    }\n",
              "\n",
              "    .dataframe tbody tr th {\n",
              "        vertical-align: top;\n",
              "    }\n",
              "\n",
              "    .dataframe thead th {\n",
              "        text-align: right;\n",
              "    }\n",
              "</style>\n",
              "<table border=\"1\" class=\"dataframe\">\n",
              "  <thead>\n",
              "    <tr style=\"text-align: right;\">\n",
              "      <th></th>\n",
              "      <th>Volume_(BTC)</th>\n",
              "      <th>Volume_(Currency)</th>\n",
              "      <th>Bitcoin_Price</th>\n",
              "    </tr>\n",
              "  </thead>\n",
              "  <tbody>\n",
              "    <tr>\n",
              "      <th>Volume_(BTC)</th>\n",
              "      <td>1.000000</td>\n",
              "      <td>0.016652</td>\n",
              "      <td>-0.216884</td>\n",
              "    </tr>\n",
              "    <tr>\n",
              "      <th>Volume_(Currency)</th>\n",
              "      <td>0.016652</td>\n",
              "      <td>1.000000</td>\n",
              "      <td>0.766804</td>\n",
              "    </tr>\n",
              "    <tr>\n",
              "      <th>Bitcoin_Price</th>\n",
              "      <td>-0.216884</td>\n",
              "      <td>0.766804</td>\n",
              "      <td>1.000000</td>\n",
              "    </tr>\n",
              "  </tbody>\n",
              "</table>\n",
              "</div>"
            ],
            "text/plain": [
              "                   Volume_(BTC)  Volume_(Currency)  Bitcoin_Price\n",
              "Volume_(BTC)           1.000000           0.016652      -0.216884\n",
              "Volume_(Currency)      0.016652           1.000000       0.766804\n",
              "Bitcoin_Price         -0.216884           0.766804       1.000000"
            ]
          },
          "metadata": {
            "tags": []
          },
          "execution_count": 34
        }
      ]
    },
    {
      "cell_type": "markdown",
      "metadata": {
        "id": "sVTgKdfzEIaP"
      },
      "source": [
        "\"Volume_(BTC)\" have very weak correlation with \"Bitcoin_Price\"."
      ]
    },
    {
      "cell_type": "code",
      "metadata": {
        "colab": {
          "base_uri": "https://localhost:8080/",
          "height": 287
        },
        "id": "ty55Z5lB0jHr",
        "outputId": "be6d16d3-a2aa-45e1-a341-9161b95f3a21"
      },
      "source": [
        "sns.heatmap(corr)"
      ],
      "execution_count": 35,
      "outputs": [
        {
          "output_type": "execute_result",
          "data": {
            "text/plain": [
              "<matplotlib.axes._subplots.AxesSubplot at 0x7ff444f8ecd0>"
            ]
          },
          "metadata": {
            "tags": []
          },
          "execution_count": 35
        },
        {
          "output_type": "display_data",
          "data": {
            "image/png": "[encoded data removed]",
            "text/plain": [
              "<Figure size 432x288 with 2 Axes>"
            ]
          },
          "metadata": {
            "tags": [],
            "needs_background": "light"
          }
        }
      ]
    },
    {
      "cell_type": "code",
      "metadata": {
        "colab": {
          "base_uri": "https://localhost:8080/",
          "height": 297
        },
        "id": "3rwyB20l4r9q",
        "outputId": "1c2a549b-c2c4-482c-8695-ff2ecfd8e702"
      },
      "source": [
        "#checking the linear relationship b/w \"Volume_(BTC)\" & \"Bitcoin_Price\"\n",
        "sns.regplot(x=\"Volume_(BTC)\", y=\"Bitcoin_Price\", data=df)# We can't understand any relationship between these two variables\n",
        "plt.ylim(0,)"
      ],
      "execution_count": 36,
      "outputs": [
        {
          "output_type": "execute_result",
          "data": {
            "text/plain": [
              "(0.0, 64503.905400931464)"
            ]
          },
          "metadata": {
            "tags": []
          },
          "execution_count": 36
        },
        {
          "output_type": "display_data",
          "data": {
            "image/png": "[encoded data removed]",
            "text/plain": [
              "<Figure size 432x288 with 1 Axes>"
            ]
          },
          "metadata": {
            "tags": [],
            "needs_background": "light"
          }
        }
      ]
    },
    {
      "cell_type": "code",
      "metadata": {
        "colab": {
          "base_uri": "https://localhost:8080/",
          "height": 297
        },
        "id": "_X9vRw1QeT25",
        "outputId": "2410f452-d6d3-4778-ff20-44879730ba56"
      },
      "source": [
        "#checking the linear relationship b/w \"Volume_(Currency)\" & \"Bitcoin_Price\"\n",
        "sns.regplot(x=\"Volume_(Currency)\", y=\"Bitcoin_Price\", data=df)"
      ],
      "execution_count": 37,
      "outputs": [
        {
          "output_type": "execute_result",
          "data": {
            "text/plain": [
              "<matplotlib.axes._subplots.AxesSubplot at 0x7ff432aaff90>"
            ]
          },
          "metadata": {
            "tags": []
          },
          "execution_count": 37
        },
        {
          "output_type": "display_data",
          "data": {
            "image/png": "[encoded data removed]",
            "text/plain": [
              "<Figure size 432x288 with 1 Axes>"
            ]
          },
          "metadata": {
            "tags": [],
            "needs_background": "light"
          }
        }
      ]
    },
    {
      "cell_type": "markdown",
      "metadata": {
        "id": "A8l1ID1x-wvr"
      },
      "source": [
        "P-value is the probability value which shows that the correlation between the two \n",
        "variables is statistically significant. Normally, we choose a significance level of 0.05 i.e P-value < 0.05."
      ]
    },
    {
      "cell_type": "code",
      "metadata": {
        "colab": {
          "base_uri": "https://localhost:8080/"
        },
        "id": "kSgGoUBL-aaY",
        "outputId": "c15807c9-a9bd-48f3-dfbf-09507a3b2dd5"
      },
      "source": [
        "#Checking p-value of \"Volume_(BTC\"\n",
        "pearson_coef, p_value = stats.pearsonr(df['Volume_(BTC)'], df['Bitcoin_Price'])\n",
        "print(\"The Pearson Correlation Coefficient is\", pearson_coef, \" with a P-value of P =\", p_value)\n",
        "if p_value < 0.05:\n",
        "  print('Correlation is significant')\n",
        "else:\n",
        "  print('Correlation is not significant')"
      ],
      "execution_count": 38,
      "outputs": [
        {
          "output_type": "stream",
          "text": [
            "The Pearson Correlation Coefficient is -0.2168844246277431  with a P-value of P = 3.154215364708349e-37\n",
            "Correlation is significant\n"
          ],
          "name": "stdout"
        }
      ]
    },
    {
      "cell_type": "markdown",
      "metadata": {
        "id": "v4-lOC25CHum"
      },
      "source": [
        "We can see that p_value is statistically significant although linear relationship is weak."
      ]
    },
    {
      "cell_type": "code",
      "metadata": {
        "colab": {
          "base_uri": "https://localhost:8080/"
        },
        "id": "RxzRZrloFS-n",
        "outputId": "997b94dd-e44f-4cda-8aad-e41078effa11"
      },
      "source": [
        "#***********************************8\n",
        "#Checking p-value of \"Volume_(Currency)\"\n",
        "pearson_coef, p_value = stats.pearsonr(df['Volume_(Currency)'], df['Bitcoin_Price'])\n",
        "print(\"The Pearson Correlation Coefficient is\", pearson_coef, \" with a P-value of P =\", p_value)\n",
        "if p_value < 0.05:\n",
        "  print('Correlation is significant')\n",
        "else:\n",
        "  print('Correlation is not significant')"
      ],
      "execution_count": 39,
      "outputs": [
        {
          "output_type": "stream",
          "text": [
            "The Pearson Correlation Coefficient is 0.7668042851401486  with a P-value of P = 0.0\n",
            "Correlation is significant\n"
          ],
          "name": "stdout"
        }
      ]
    },
    {
      "cell_type": "code",
      "metadata": {
        "colab": {
          "base_uri": "https://localhost:8080/"
        },
        "id": "MHZeuCaMSRo3",
        "outputId": "1f3ada7a-b804-4cb7-a320-0140b909894c"
      },
      "source": [
        "df.columns\n"
      ],
      "execution_count": 40,
      "outputs": [
        {
          "output_type": "execute_result",
          "data": {
            "text/plain": [
              "Index(['Volume_(BTC)', 'Volume_(Currency)', 'Bitcoin_Price'], dtype='object')"
            ]
          },
          "metadata": {
            "tags": []
          },
          "execution_count": 40
        }
      ]
    },
    {
      "cell_type": "markdown",
      "metadata": {
        "id": "lViWKv0hFhv-"
      },
      "source": [
        "Analysis shows that 'Volume_(BTC) can't use as a feature in training data. So, we are going to drop this column."
      ]
    },
    {
      "cell_type": "code",
      "metadata": {
        "colab": {
          "base_uri": "https://localhost:8080/",
          "height": 450
        },
        "id": "LoZ-YDobE6j_",
        "outputId": "f918b898-cdf2-4b7a-f63f-7e080fced861"
      },
      "source": [
        "df.drop(['Volume_(BTC)'] , inplace=True, axis=1)\n",
        "df"
      ],
      "execution_count": 41,
      "outputs": [
        {
          "output_type": "execute_result",
          "data": {
            "text/html": [
              "<div>\n",
              "<style scoped>\n",
              "    .dataframe tbody tr th:only-of-type {\n",
              "        vertical-align: middle;\n",
              "    }\n",
              "\n",
              "    .dataframe tbody tr th {\n",
              "        vertical-align: top;\n",
              "    }\n",
              "\n",
              "    .dataframe thead th {\n",
              "        text-align: right;\n",
              "    }\n",
              "</style>\n",
              "<table border=\"1\" class=\"dataframe\">\n",
              "  <thead>\n",
              "    <tr style=\"text-align: right;\">\n",
              "      <th></th>\n",
              "      <th>Volume_(Currency)</th>\n",
              "      <th>Bitcoin_Price</th>\n",
              "    </tr>\n",
              "    <tr>\n",
              "      <th>Timestamp</th>\n",
              "      <th></th>\n",
              "      <th></th>\n",
              "    </tr>\n",
              "  </thead>\n",
              "  <tbody>\n",
              "    <tr>\n",
              "      <th>2011-12-31</th>\n",
              "      <td>106.330084</td>\n",
              "      <td>4.471603</td>\n",
              "    </tr>\n",
              "    <tr>\n",
              "      <th>2012-01-01</th>\n",
              "      <td>35.259720</td>\n",
              "      <td>4.806667</td>\n",
              "    </tr>\n",
              "    <tr>\n",
              "      <th>2012-01-02</th>\n",
              "      <td>95.240000</td>\n",
              "      <td>5.000000</td>\n",
              "    </tr>\n",
              "    <tr>\n",
              "      <th>2012-01-03</th>\n",
              "      <td>58.100651</td>\n",
              "      <td>5.252500</td>\n",
              "    </tr>\n",
              "    <tr>\n",
              "      <th>2012-01-04</th>\n",
              "      <td>63.119577</td>\n",
              "      <td>5.208159</td>\n",
              "    </tr>\n",
              "    <tr>\n",
              "      <th>...</th>\n",
              "      <td>...</td>\n",
              "      <td>...</td>\n",
              "    </tr>\n",
              "    <tr>\n",
              "      <th>2021-03-27</th>\n",
              "      <td>100884.732367</td>\n",
              "      <td>55193.357260</td>\n",
              "    </tr>\n",
              "    <tr>\n",
              "      <th>2021-03-28</th>\n",
              "      <td>80632.115263</td>\n",
              "      <td>55832.958824</td>\n",
              "    </tr>\n",
              "    <tr>\n",
              "      <th>2021-03-29</th>\n",
              "      <td>213754.555988</td>\n",
              "      <td>56913.993819</td>\n",
              "    </tr>\n",
              "    <tr>\n",
              "      <th>2021-03-30</th>\n",
              "      <td>138231.241926</td>\n",
              "      <td>58346.912268</td>\n",
              "    </tr>\n",
              "    <tr>\n",
              "      <th>2021-03-31</th>\n",
              "      <td>159417.751000</td>\n",
              "      <td>58764.349363</td>\n",
              "    </tr>\n",
              "  </tbody>\n",
              "</table>\n",
              "<p>3376 rows × 2 columns</p>\n",
              "</div>"
            ],
            "text/plain": [
              "            Volume_(Currency)  Bitcoin_Price\n",
              "Timestamp                                   \n",
              "2011-12-31         106.330084       4.471603\n",
              "2012-01-01          35.259720       4.806667\n",
              "2012-01-02          95.240000       5.000000\n",
              "2012-01-03          58.100651       5.252500\n",
              "2012-01-04          63.119577       5.208159\n",
              "...                       ...            ...\n",
              "2021-03-27      100884.732367   55193.357260\n",
              "2021-03-28       80632.115263   55832.958824\n",
              "2021-03-29      213754.555988   56913.993819\n",
              "2021-03-30      138231.241926   58346.912268\n",
              "2021-03-31      159417.751000   58764.349363\n",
              "\n",
              "[3376 rows x 2 columns]"
            ]
          },
          "metadata": {
            "tags": []
          },
          "execution_count": 41
        }
      ]
    },
    {
      "cell_type": "code",
      "metadata": {
        "colab": {
          "base_uri": "https://localhost:8080/",
          "height": 320
        },
        "id": "9oLRjHGLUKm5",
        "outputId": "37df580c-ddfd-4783-cec2-b4d2c4f85182"
      },
      "source": [
        "df['Timestamp'] = df.index #reseting \"Timestamp\" from index to column, only to plot the data w.r.t Timestamp \n",
        "df.set_index('Timestamp')[[\n",
        "       'Volume_(Currency)', 'Bitcoin_Price']].plot(subplots=True) #Before this command it is important to convert into timestamp format because it plot the data w.r.t timestamp. This command is some of the commands that are used to plot time series data.We set the Timestamp as index by using 'Volume_(BTC)' command."
      ],
      "execution_count": 42,
      "outputs": [
        {
          "output_type": "execute_result",
          "data": {
            "text/plain": [
              "array([<matplotlib.axes._subplots.AxesSubplot object at 0x7ff432970990>,\n",
              "       <matplotlib.axes._subplots.AxesSubplot object at 0x7ff43299cf50>],\n",
              "      dtype=object)"
            ]
          },
          "metadata": {
            "tags": []
          },
          "execution_count": 42
        },
        {
          "output_type": "display_data",
          "data": {
            "image/png": "[encoded data removed]",
            "text/plain": [
              "<Figure size 432x288 with 2 Axes>"
            ]
          },
          "metadata": {
            "tags": [],
            "needs_background": "light"
          }
        }
      ]
    },
    {
      "cell_type": "code",
      "metadata": {
        "colab": {
          "base_uri": "https://localhost:8080/",
          "height": 450
        },
        "id": "y8nV-HtWHRVG",
        "outputId": "f71ea600-66d4-4ed6-d610-4b8b3019ce1e"
      },
      "source": [
        "df"
      ],
      "execution_count": 43,
      "outputs": [
        {
          "output_type": "execute_result",
          "data": {
            "text/html": [
              "<div>\n",
              "<style scoped>\n",
              "    .dataframe tbody tr th:only-of-type {\n",
              "        vertical-align: middle;\n",
              "    }\n",
              "\n",
              "    .dataframe tbody tr th {\n",
              "        vertical-align: top;\n",
              "    }\n",
              "\n",
              "    .dataframe thead th {\n",
              "        text-align: right;\n",
              "    }\n",
              "</style>\n",
              "<table border=\"1\" class=\"dataframe\">\n",
              "  <thead>\n",
              "    <tr style=\"text-align: right;\">\n",
              "      <th></th>\n",
              "      <th>Volume_(Currency)</th>\n",
              "      <th>Bitcoin_Price</th>\n",
              "      <th>Timestamp</th>\n",
              "    </tr>\n",
              "    <tr>\n",
              "      <th>Timestamp</th>\n",
              "      <th></th>\n",
              "      <th></th>\n",
              "      <th></th>\n",
              "    </tr>\n",
              "  </thead>\n",
              "  <tbody>\n",
              "    <tr>\n",
              "      <th>2011-12-31</th>\n",
              "      <td>106.330084</td>\n",
              "      <td>4.471603</td>\n",
              "      <td>2011-12-31</td>\n",
              "    </tr>\n",
              "    <tr>\n",
              "      <th>2012-01-01</th>\n",
              "      <td>35.259720</td>\n",
              "      <td>4.806667</td>\n",
              "      <td>2012-01-01</td>\n",
              "    </tr>\n",
              "    <tr>\n",
              "      <th>2012-01-02</th>\n",
              "      <td>95.240000</td>\n",
              "      <td>5.000000</td>\n",
              "      <td>2012-01-02</td>\n",
              "    </tr>\n",
              "    <tr>\n",
              "      <th>2012-01-03</th>\n",
              "      <td>58.100651</td>\n",
              "      <td>5.252500</td>\n",
              "      <td>2012-01-03</td>\n",
              "    </tr>\n",
              "    <tr>\n",
              "      <th>2012-01-04</th>\n",
              "      <td>63.119577</td>\n",
              "      <td>5.208159</td>\n",
              "      <td>2012-01-04</td>\n",
              "    </tr>\n",
              "    <tr>\n",
              "      <th>...</th>\n",
              "      <td>...</td>\n",
              "      <td>...</td>\n",
              "      <td>...</td>\n",
              "    </tr>\n",
              "    <tr>\n",
              "      <th>2021-03-27</th>\n",
              "      <td>100884.732367</td>\n",
              "      <td>55193.357260</td>\n",
              "      <td>2021-03-27</td>\n",
              "    </tr>\n",
              "    <tr>\n",
              "      <th>2021-03-28</th>\n",
              "      <td>80632.115263</td>\n",
              "      <td>55832.958824</td>\n",
              "      <td>2021-03-28</td>\n",
              "    </tr>\n",
              "    <tr>\n",
              "      <th>2021-03-29</th>\n",
              "      <td>213754.555988</td>\n",
              "      <td>56913.993819</td>\n",
              "      <td>2021-03-29</td>\n",
              "    </tr>\n",
              "    <tr>\n",
              "      <th>2021-03-30</th>\n",
              "      <td>138231.241926</td>\n",
              "      <td>58346.912268</td>\n",
              "      <td>2021-03-30</td>\n",
              "    </tr>\n",
              "    <tr>\n",
              "      <th>2021-03-31</th>\n",
              "      <td>159417.751000</td>\n",
              "      <td>58764.349363</td>\n",
              "      <td>2021-03-31</td>\n",
              "    </tr>\n",
              "  </tbody>\n",
              "</table>\n",
              "<p>3376 rows × 3 columns</p>\n",
              "</div>"
            ],
            "text/plain": [
              "            Volume_(Currency)  Bitcoin_Price   Timestamp\n",
              "Timestamp                                               \n",
              "2011-12-31         106.330084       4.471603  2011-12-31\n",
              "2012-01-01          35.259720       4.806667  2012-01-01\n",
              "2012-01-02          95.240000       5.000000  2012-01-02\n",
              "2012-01-03          58.100651       5.252500  2012-01-03\n",
              "2012-01-04          63.119577       5.208159  2012-01-04\n",
              "...                       ...            ...         ...\n",
              "2021-03-27      100884.732367   55193.357260  2021-03-27\n",
              "2021-03-28       80632.115263   55832.958824  2021-03-28\n",
              "2021-03-29      213754.555988   56913.993819  2021-03-29\n",
              "2021-03-30      138231.241926   58346.912268  2021-03-30\n",
              "2021-03-31      159417.751000   58764.349363  2021-03-31\n",
              "\n",
              "[3376 rows x 3 columns]"
            ]
          },
          "metadata": {
            "tags": []
          },
          "execution_count": 43
        }
      ]
    },
    {
      "cell_type": "code",
      "metadata": {
        "colab": {
          "base_uri": "https://localhost:8080/",
          "height": 450
        },
        "id": "adEAFWF-IPvL",
        "outputId": "19716744-bfd2-44f9-dd9f-1cf63a49284e"
      },
      "source": [
        "df.drop(['Timestamp'] , inplace=True, axis=1)# As Timestamp is both index and column so dropping the \"Timestamp\" column.\n",
        "df"
      ],
      "execution_count": 44,
      "outputs": [
        {
          "output_type": "execute_result",
          "data": {
            "text/html": [
              "<div>\n",
              "<style scoped>\n",
              "    .dataframe tbody tr th:only-of-type {\n",
              "        vertical-align: middle;\n",
              "    }\n",
              "\n",
              "    .dataframe tbody tr th {\n",
              "        vertical-align: top;\n",
              "    }\n",
              "\n",
              "    .dataframe thead th {\n",
              "        text-align: right;\n",
              "    }\n",
              "</style>\n",
              "<table border=\"1\" class=\"dataframe\">\n",
              "  <thead>\n",
              "    <tr style=\"text-align: right;\">\n",
              "      <th></th>\n",
              "      <th>Volume_(Currency)</th>\n",
              "      <th>Bitcoin_Price</th>\n",
              "    </tr>\n",
              "    <tr>\n",
              "      <th>Timestamp</th>\n",
              "      <th></th>\n",
              "      <th></th>\n",
              "    </tr>\n",
              "  </thead>\n",
              "  <tbody>\n",
              "    <tr>\n",
              "      <th>2011-12-31</th>\n",
              "      <td>106.330084</td>\n",
              "      <td>4.471603</td>\n",
              "    </tr>\n",
              "    <tr>\n",
              "      <th>2012-01-01</th>\n",
              "      <td>35.259720</td>\n",
              "      <td>4.806667</td>\n",
              "    </tr>\n",
              "    <tr>\n",
              "      <th>2012-01-02</th>\n",
              "      <td>95.240000</td>\n",
              "      <td>5.000000</td>\n",
              "    </tr>\n",
              "    <tr>\n",
              "      <th>2012-01-03</th>\n",
              "      <td>58.100651</td>\n",
              "      <td>5.252500</td>\n",
              "    </tr>\n",
              "    <tr>\n",
              "      <th>2012-01-04</th>\n",
              "      <td>63.119577</td>\n",
              "      <td>5.208159</td>\n",
              "    </tr>\n",
              "    <tr>\n",
              "      <th>...</th>\n",
              "      <td>...</td>\n",
              "      <td>...</td>\n",
              "    </tr>\n",
              "    <tr>\n",
              "      <th>2021-03-27</th>\n",
              "      <td>100884.732367</td>\n",
              "      <td>55193.357260</td>\n",
              "    </tr>\n",
              "    <tr>\n",
              "      <th>2021-03-28</th>\n",
              "      <td>80632.115263</td>\n",
              "      <td>55832.958824</td>\n",
              "    </tr>\n",
              "    <tr>\n",
              "      <th>2021-03-29</th>\n",
              "      <td>213754.555988</td>\n",
              "      <td>56913.993819</td>\n",
              "    </tr>\n",
              "    <tr>\n",
              "      <th>2021-03-30</th>\n",
              "      <td>138231.241926</td>\n",
              "      <td>58346.912268</td>\n",
              "    </tr>\n",
              "    <tr>\n",
              "      <th>2021-03-31</th>\n",
              "      <td>159417.751000</td>\n",
              "      <td>58764.349363</td>\n",
              "    </tr>\n",
              "  </tbody>\n",
              "</table>\n",
              "<p>3376 rows × 2 columns</p>\n",
              "</div>"
            ],
            "text/plain": [
              "            Volume_(Currency)  Bitcoin_Price\n",
              "Timestamp                                   \n",
              "2011-12-31         106.330084       4.471603\n",
              "2012-01-01          35.259720       4.806667\n",
              "2012-01-02          95.240000       5.000000\n",
              "2012-01-03          58.100651       5.252500\n",
              "2012-01-04          63.119577       5.208159\n",
              "...                       ...            ...\n",
              "2021-03-27      100884.732367   55193.357260\n",
              "2021-03-28       80632.115263   55832.958824\n",
              "2021-03-29      213754.555988   56913.993819\n",
              "2021-03-30      138231.241926   58346.912268\n",
              "2021-03-31      159417.751000   58764.349363\n",
              "\n",
              "[3376 rows x 2 columns]"
            ]
          },
          "metadata": {
            "tags": []
          },
          "execution_count": 44
        }
      ]
    },
    {
      "cell_type": "markdown",
      "metadata": {
        "id": "SusryCXOlM6z"
      },
      "source": [
        "From the last graph it looks like that the data is non-stationary. The stationary data have constant statistical properties like mean, variance and covariance.(Also autocorelation etc). Checking the stationarity of data(Timeseries)."
      ]
    },
    {
      "cell_type": "markdown",
      "metadata": {
        "id": "vNBRfuinKzlg"
      },
      "source": [
        "######i) Dickey–Fuller test"
      ]
    },
    {
      "cell_type": "code",
      "metadata": {
        "id": "u0xyuDLZy8vB"
      },
      "source": [
        "#To check wheather our data is stationary or non_stationary we are going to perform Augmented Dickey-Fuller Test\n",
        "# For this purpose we are defining a function\n",
        "def stationarity_check(time_series):\n",
        "  results=adfuller(time_series)\n",
        "  print(\"Test_statistics=\",results[0],'  P_value=' , results[1], \"     Lags_used =\",results[2],\"   Number of Observation Used =\",results[3],\"  P_value Statistics=  \",results[4])\n"
      ],
      "execution_count": 45,
      "outputs": []
    },
    {
      "cell_type": "code",
      "metadata": {
        "colab": {
          "base_uri": "https://localhost:8080/"
        },
        "id": "YUsvNckcz5_F",
        "outputId": "3c11461b-c1b7-4eda-8d00-379f1246c8c5"
      },
      "source": [
        "#stationarity checking for \"Bitcoin_Price\"\n",
        "stationarity_check(df['Bitcoin_Price'])\n",
        "# \"Test_statistics\" more negitive mean more likely to be stationary\n",
        "#If \"P_Value\" is less than 0.05 than it must be stationary and we will reject our Null Hypothesis"
      ],
      "execution_count": 46,
      "outputs": [
        {
          "output_type": "stream",
          "text": [
            "Test_statistics= 6.185633110386273   P_value= 1.0      Lags_used = 29    Number of Observation Used = 3346   P_value Statistics=   {'1%': -3.4323058648629248, '5%': -2.862404186780598, '10%': -2.5672300237626606}\n"
          ],
          "name": "stdout"
        }
      ]
    },
    {
      "cell_type": "markdown",
      "metadata": {
        "id": "6aRJ5jnG_0q0"
      },
      "source": [
        "We can see that fourth element of our resulted touple gives us the dictionary which contain the critical test statistics. (At second position of this dictionary)We can see that Test_statistics value should be below mentioned value (of key 5%) if we want P_value of 5% or 0.05."
      ]
    },
    {
      "cell_type": "code",
      "metadata": {
        "colab": {
          "base_uri": "https://localhost:8080/"
        },
        "id": "2a1vLqND-hby",
        "outputId": "d59590f9-68ed-4fe4-aea6-e8666d99bd45"
      },
      "source": [
        "#stationarity checking for 'Volume_(Currency)'\n",
        "stationarity_check(df['Volume_(Currency)'])"
      ],
      "execution_count": 47,
      "outputs": [
        {
          "output_type": "stream",
          "text": [
            "Test_statistics= -2.794664696742418   P_value= 0.0590399289296035      Lags_used = 28    Number of Observation Used = 3347   P_value Statistics=   {'1%': -3.432305280050264, '5%': -2.8624039284695777, '10%': -2.5672298862441107}\n"
          ],
          "name": "stdout"
        }
      ]
    },
    {
      "cell_type": "markdown",
      "metadata": {
        "id": "QfzDTodqCzbx"
      },
      "source": [
        "A second Test we can also perform to check the stationarity of our data. Splitting the timeseries into two or more partition and checking the mean and variance of each. "
      ]
    },
    {
      "cell_type": "markdown",
      "metadata": {
        "id": "-5qa0F0gLNUG"
      },
      "source": [
        "###### ii) Mean and Variance Difference Test"
      ]
    },
    {
      "cell_type": "code",
      "metadata": {
        "colab": {
          "base_uri": "https://localhost:8080/"
        },
        "id": "J3pj5uMhMb--",
        "outputId": "51bbdcba-81df-4a1b-9fba-95f3ca1333ae"
      },
      "source": [
        "df.shape\n"
      ],
      "execution_count": 48,
      "outputs": [
        {
          "output_type": "execute_result",
          "data": {
            "text/plain": [
              "(3376, 2)"
            ]
          },
          "metadata": {
            "tags": []
          },
          "execution_count": 48
        }
      ]
    },
    {
      "cell_type": "code",
      "metadata": {
        "id": "xmrG9Gd9OhQX"
      },
      "source": [
        "#splitting dataframe into two\n",
        "df1=df[0:410]\n",
        "df2=df[410:820]"
      ],
      "execution_count": 49,
      "outputs": []
    },
    {
      "cell_type": "code",
      "metadata": {
        "colab": {
          "base_uri": "https://localhost:8080/"
        },
        "id": "sTB2zBMGPDft",
        "outputId": "33528a59-eebe-49f0-aa2b-5b9b285f7686"
      },
      "source": [
        "#Checking the mean of df1\n",
        "df1.mean()"
      ],
      "execution_count": 50,
      "outputs": [
        {
          "output_type": "execute_result",
          "data": {
            "text/plain": [
              "Volume_(Currency)    183.753112\n",
              "Bitcoin_Price          9.153317\n",
              "dtype: float64"
            ]
          },
          "metadata": {
            "tags": []
          },
          "execution_count": 50
        }
      ]
    },
    {
      "cell_type": "code",
      "metadata": {
        "colab": {
          "base_uri": "https://localhost:8080/"
        },
        "id": "wHQ3pLDGPxE9",
        "outputId": "ae0ced27-ea35-4f3a-fe36-198d7e21a9d1"
      },
      "source": [
        "#Checking the mean of df2\n",
        "df2.mean()"
      ],
      "execution_count": 51,
      "outputs": [
        {
          "output_type": "execute_result",
          "data": {
            "text/plain": [
              "Volume_(Currency)    5128.825247\n",
              "Bitcoin_Price         315.067788\n",
              "dtype: float64"
            ]
          },
          "metadata": {
            "tags": []
          },
          "execution_count": 51
        }
      ]
    },
    {
      "cell_type": "markdown",
      "metadata": {
        "id": "Us7jyCDxP8gT"
      },
      "source": [
        "We can see that both dataframes have different mean values so we have not constant mean in whole dataframe. Now checking the variance."
      ]
    },
    {
      "cell_type": "code",
      "metadata": {
        "colab": {
          "base_uri": "https://localhost:8080/"
        },
        "id": "BQko-eZ0P75q",
        "outputId": "df47ced4-20d2-43df-c618-f91cce745c90"
      },
      "source": [
        "df1.var()"
      ],
      "execution_count": 52,
      "outputs": [
        {
          "output_type": "execute_result",
          "data": {
            "text/plain": [
              "Volume_(Currency)    20294.536018\n",
              "Bitcoin_Price           17.463726\n",
              "dtype: float64"
            ]
          },
          "metadata": {
            "tags": []
          },
          "execution_count": 52
        }
      ]
    },
    {
      "cell_type": "code",
      "metadata": {
        "colab": {
          "base_uri": "https://localhost:8080/"
        },
        "id": "m3W78PAYQYeg",
        "outputId": "2b96fcb0-e7b9-4ddf-e391-a53bd164e5d3"
      },
      "source": [
        "df2.var()"
      ],
      "execution_count": 53,
      "outputs": [
        {
          "output_type": "execute_result",
          "data": {
            "text/plain": [
              "Volume_(Currency)    5.619742e+07\n",
              "Bitcoin_Price        9.157919e+04\n",
              "dtype: float64"
            ]
          },
          "metadata": {
            "tags": []
          },
          "execution_count": 53
        }
      ]
    },
    {
      "cell_type": "markdown",
      "metadata": {
        "id": "s70M5HiuQou0"
      },
      "source": [
        "So it is clear that our timeseries is non-stationary. So, first of all we will make it stationary. There are multiple method to convert non-stationary timeseries into stationary form.\n",
        "\n",
        "1.   Differencing or Seasonal Differencing\n",
        "2.   Transformation\n",
        "3.    Rolling Statistics\n"
      ]
    },
    {
      "cell_type": "code",
      "metadata": {
        "colab": {
          "base_uri": "https://localhost:8080/",
          "height": 282
        },
        "id": "_wdpSPqR8p8L",
        "outputId": "c394220e-925e-4b99-b0dd-0ce3c4547a03"
      },
      "source": [
        "#Checking the trend of \"Bitcoin_Price\"\n",
        "plt.plot(df['Bitcoin_Price'])\n"
      ],
      "execution_count": 54,
      "outputs": [
        {
          "output_type": "execute_result",
          "data": {
            "text/plain": [
              "[<matplotlib.lines.Line2D at 0x7ff48aa81290>]"
            ]
          },
          "metadata": {
            "tags": []
          },
          "execution_count": 54
        },
        {
          "output_type": "display_data",
          "data": {
            "image/png": "[encoded data removed]",
            "text/plain": [
              "<Figure size 432x288 with 1 Axes>"
            ]
          },
          "metadata": {
            "tags": [],
            "needs_background": "light"
          }
        }
      ]
    },
    {
      "cell_type": "markdown",
      "metadata": {
        "id": "H_3ihm_T9P0Y"
      },
      "source": [
        "We are going to use differencing method first."
      ]
    },
    {
      "cell_type": "code",
      "metadata": {
        "id": "Ab7S0GzhRn_z"
      },
      "source": [
        "#We are going to make another column where we can store our difference(Using differencing method)\n",
        "#df['Bitcoin_Price_df'] = df['Bitcoin_Price'] - df['Bitcoin_Price'].shift(1)#\"shift(1)\" we want to subtract the last value\n",
        "#df['Bitcoin_Price_df'].head(3)\n",
        "\n"
      ],
      "execution_count": 55,
      "outputs": []
    },
    {
      "cell_type": "code",
      "metadata": {
        "id": "2oEVxbz1ND9H"
      },
      "source": [
        "\n",
        "#df['Volume_(Currency)_df'] = df['Volume_(Currency)'] - df['Volume_(Currency)'].shift(1)#\"shift(1)\" we want to subtract the last value\n",
        "#df['Volume_(Currency)_df'].head(3)"
      ],
      "execution_count": 56,
      "outputs": []
    },
    {
      "cell_type": "code",
      "metadata": {
        "id": "Ft3Vx_sS9oSw"
      },
      "source": [
        "#Removing the NAN values(Because there is no value before first value to make difference so there is a NAN in the beginning)\n",
        "\n",
        "#df.dropna(axis=0, inplace=True)\n",
        "\n",
        "# reset indexs\n",
        "#df.reset_index(drop=False, inplace=True)\n",
        "#df.head(5)"
      ],
      "execution_count": 57,
      "outputs": []
    },
    {
      "cell_type": "code",
      "metadata": {
        "id": "lRIBxytZ6mov"
      },
      "source": [
        "#stationarity_check(df['Bitcoin_Price_df'])"
      ],
      "execution_count": 58,
      "outputs": []
    },
    {
      "cell_type": "code",
      "metadata": {
        "id": "3VfhyiWhP9hf"
      },
      "source": [
        "#stationarity_check(df['Volume_(Currency)_df'])"
      ],
      "execution_count": 59,
      "outputs": []
    },
    {
      "cell_type": "code",
      "metadata": {
        "id": "uV_rnM3CSGEx"
      },
      "source": [
        "#splitting dataframe into two\n",
        "#df3=df[0:410]\n",
        "#df4=df[410:820]"
      ],
      "execution_count": 60,
      "outputs": []
    },
    {
      "cell_type": "code",
      "metadata": {
        "id": "n9rsDnJLSOQ4"
      },
      "source": [
        "#df3.mean()"
      ],
      "execution_count": 61,
      "outputs": []
    },
    {
      "cell_type": "code",
      "metadata": {
        "id": "W_pdu7VjSSso"
      },
      "source": [
        "#df4.mean()"
      ],
      "execution_count": 62,
      "outputs": []
    },
    {
      "cell_type": "code",
      "metadata": {
        "id": "T6f1v2eoSVSU"
      },
      "source": [
        "#df3.var()"
      ],
      "execution_count": 63,
      "outputs": []
    },
    {
      "cell_type": "code",
      "metadata": {
        "id": "ogDg-bcKSXhT"
      },
      "source": [
        "#df4.var()"
      ],
      "execution_count": 64,
      "outputs": []
    },
    {
      "cell_type": "code",
      "metadata": {
        "id": "bvVq058uRcGW"
      },
      "source": [
        "#df['Volume_(Currency)_df'].plot()"
      ],
      "execution_count": 65,
      "outputs": []
    },
    {
      "cell_type": "code",
      "metadata": {
        "id": "SQc6PCgX6m2c"
      },
      "source": [
        "\n",
        "#df['Bitcoin_Price_df'].plot()"
      ],
      "execution_count": 66,
      "outputs": []
    },
    {
      "cell_type": "markdown",
      "metadata": {
        "id": "AtwFdFOarCmY"
      },
      "source": [
        "Checking some other methods"
      ]
    },
    {
      "cell_type": "code",
      "metadata": {
        "id": "WpoZ7Cc0rBSu"
      },
      "source": [
        "#Using Transformation method we are trying to make our data stationary\n",
        "df['Bitcoin_Price_log']=np.log10(df['Bitcoin_Price'])#log calculation\n",
        "#df['Bitcoin_Price_sqrt']=np.sqrt(df['Bitcoin_Price'])#square root calculatiion\n",
        "#df['Bitcoin_Price_cbrt']=np.cbrt(df['Bitcoin_Price'])#cube root calculation\n",
        "#Differencing these time series\n",
        "df['BC_log']=df['Bitcoin_Price_log']-df['Bitcoin_Price_log'].shift(1)\n",
        "#df['BC_sqrt']=df['Bitcoin_Price_sqrt']-df['Bitcoin_Price_sqrt'].shift(1)\n",
        "#df['BC_cbrt']=df['Bitcoin_Price_cbrt']-df['Bitcoin_Price_cbrt'].shift(1)\n",
        "#removing NAN values\n",
        "#df[['BC_log']].dropna(axis=0,inplace=True)\n",
        "#df[['BC_sqrt']].dropna(axis=0,inplace=True)\n",
        "#df[['BC_cbrt']].dropna(axis=0,inplace=True)"
      ],
      "execution_count": 67,
      "outputs": []
    },
    {
      "cell_type": "code",
      "metadata": {
        "colab": {
          "base_uri": "https://localhost:8080/",
          "height": 419
        },
        "id": "ZaftEGziUm6d",
        "outputId": "faf8785e-e021-44a9-823b-b30c9cb51bc2"
      },
      "source": [
        "df.dropna(subset=['BC_log'], axis=0, inplace=True)\n",
        "\n",
        "# reset index, because we droped many rows\n",
        "df.reset_index(drop=False, inplace=True)\n",
        "df"
      ],
      "execution_count": 68,
      "outputs": [
        {
          "output_type": "execute_result",
          "data": {
            "text/html": [
              "<div>\n",
              "<style scoped>\n",
              "    .dataframe tbody tr th:only-of-type {\n",
              "        vertical-align: middle;\n",
              "    }\n",
              "\n",
              "    .dataframe tbody tr th {\n",
              "        vertical-align: top;\n",
              "    }\n",
              "\n",
              "    .dataframe thead th {\n",
              "        text-align: right;\n",
              "    }\n",
              "</style>\n",
              "<table border=\"1\" class=\"dataframe\">\n",
              "  <thead>\n",
              "    <tr style=\"text-align: right;\">\n",
              "      <th></th>\n",
              "      <th>Timestamp</th>\n",
              "      <th>Volume_(Currency)</th>\n",
              "      <th>Bitcoin_Price</th>\n",
              "      <th>Bitcoin_Price_log</th>\n",
              "      <th>BC_log</th>\n",
              "    </tr>\n",
              "  </thead>\n",
              "  <tbody>\n",
              "    <tr>\n",
              "      <th>0</th>\n",
              "      <td>2012-01-01</td>\n",
              "      <td>35.259720</td>\n",
              "      <td>4.806667</td>\n",
              "      <td>0.681844</td>\n",
              "      <td>0.031381</td>\n",
              "    </tr>\n",
              "    <tr>\n",
              "      <th>1</th>\n",
              "      <td>2012-01-02</td>\n",
              "      <td>95.240000</td>\n",
              "      <td>5.000000</td>\n",
              "      <td>0.698970</td>\n",
              "      <td>0.017126</td>\n",
              "    </tr>\n",
              "    <tr>\n",
              "      <th>2</th>\n",
              "      <td>2012-01-03</td>\n",
              "      <td>58.100651</td>\n",
              "      <td>5.252500</td>\n",
              "      <td>0.720366</td>\n",
              "      <td>0.021396</td>\n",
              "    </tr>\n",
              "    <tr>\n",
              "      <th>3</th>\n",
              "      <td>2012-01-04</td>\n",
              "      <td>63.119577</td>\n",
              "      <td>5.208159</td>\n",
              "      <td>0.716684</td>\n",
              "      <td>-0.003682</td>\n",
              "    </tr>\n",
              "    <tr>\n",
              "      <th>4</th>\n",
              "      <td>2012-01-05</td>\n",
              "      <td>27.987370</td>\n",
              "      <td>6.284127</td>\n",
              "      <td>0.798245</td>\n",
              "      <td>0.081561</td>\n",
              "    </tr>\n",
              "    <tr>\n",
              "      <th>...</th>\n",
              "      <td>...</td>\n",
              "      <td>...</td>\n",
              "      <td>...</td>\n",
              "      <td>...</td>\n",
              "      <td>...</td>\n",
              "    </tr>\n",
              "    <tr>\n",
              "      <th>3370</th>\n",
              "      <td>2021-03-27</td>\n",
              "      <td>100884.732367</td>\n",
              "      <td>55193.357260</td>\n",
              "      <td>4.741887</td>\n",
              "      <td>0.015640</td>\n",
              "    </tr>\n",
              "    <tr>\n",
              "      <th>3371</th>\n",
              "      <td>2021-03-28</td>\n",
              "      <td>80632.115263</td>\n",
              "      <td>55832.958824</td>\n",
              "      <td>4.746891</td>\n",
              "      <td>0.005004</td>\n",
              "    </tr>\n",
              "    <tr>\n",
              "      <th>3372</th>\n",
              "      <td>2021-03-29</td>\n",
              "      <td>213754.555988</td>\n",
              "      <td>56913.993819</td>\n",
              "      <td>4.755219</td>\n",
              "      <td>0.008328</td>\n",
              "    </tr>\n",
              "    <tr>\n",
              "      <th>3373</th>\n",
              "      <td>2021-03-30</td>\n",
              "      <td>138231.241926</td>\n",
              "      <td>58346.912268</td>\n",
              "      <td>4.766018</td>\n",
              "      <td>0.010799</td>\n",
              "    </tr>\n",
              "    <tr>\n",
              "      <th>3374</th>\n",
              "      <td>2021-03-31</td>\n",
              "      <td>159417.751000</td>\n",
              "      <td>58764.349363</td>\n",
              "      <td>4.769114</td>\n",
              "      <td>0.003096</td>\n",
              "    </tr>\n",
              "  </tbody>\n",
              "</table>\n",
              "<p>3375 rows × 5 columns</p>\n",
              "</div>"
            ],
            "text/plain": [
              "       Timestamp  Volume_(Currency)  Bitcoin_Price  Bitcoin_Price_log    BC_log\n",
              "0     2012-01-01          35.259720       4.806667           0.681844  0.031381\n",
              "1     2012-01-02          95.240000       5.000000           0.698970  0.017126\n",
              "2     2012-01-03          58.100651       5.252500           0.720366  0.021396\n",
              "3     2012-01-04          63.119577       5.208159           0.716684 -0.003682\n",
              "4     2012-01-05          27.987370       6.284127           0.798245  0.081561\n",
              "...          ...                ...            ...                ...       ...\n",
              "3370  2021-03-27      100884.732367   55193.357260           4.741887  0.015640\n",
              "3371  2021-03-28       80632.115263   55832.958824           4.746891  0.005004\n",
              "3372  2021-03-29      213754.555988   56913.993819           4.755219  0.008328\n",
              "3373  2021-03-30      138231.241926   58346.912268           4.766018  0.010799\n",
              "3374  2021-03-31      159417.751000   58764.349363           4.769114  0.003096\n",
              "\n",
              "[3375 rows x 5 columns]"
            ]
          },
          "metadata": {
            "tags": []
          },
          "execution_count": 68
        }
      ]
    },
    {
      "cell_type": "code",
      "metadata": {
        "colab": {
          "base_uri": "https://localhost:8080/"
        },
        "id": "ayWN6Tcqt7LD",
        "outputId": "34f577d3-6787-40ce-f47c-354d581d4b11"
      },
      "source": [
        "df.shape"
      ],
      "execution_count": 69,
      "outputs": [
        {
          "output_type": "execute_result",
          "data": {
            "text/plain": [
              "(3375, 5)"
            ]
          },
          "metadata": {
            "tags": []
          },
          "execution_count": 69
        }
      ]
    },
    {
      "cell_type": "code",
      "metadata": {
        "id": "LsHakUdZt2FO"
      },
      "source": [
        "df5=df[0:410]\n",
        "df6=df[410:819]"
      ],
      "execution_count": 70,
      "outputs": []
    },
    {
      "cell_type": "code",
      "metadata": {
        "colab": {
          "base_uri": "https://localhost:8080/"
        },
        "id": "-FD57wUGuDfl",
        "outputId": "b2cac08d-55df-4d7b-b90f-84abefd2cbff"
      },
      "source": [
        "df5.mean()"
      ],
      "execution_count": 71,
      "outputs": [
        {
          "output_type": "execute_result",
          "data": {
            "text/plain": [
              "Volume_(Currency)    184.681987\n",
              "Bitcoin_Price          9.204725\n",
              "Bitcoin_Price_log      0.920648\n",
              "BC_log                 0.001846\n",
              "dtype: float64"
            ]
          },
          "metadata": {
            "tags": []
          },
          "execution_count": 71
        }
      ]
    },
    {
      "cell_type": "code",
      "metadata": {
        "colab": {
          "base_uri": "https://localhost:8080/"
        },
        "id": "bAUNWRiYuM31",
        "outputId": "ab091858-0b17-416c-8a24-6e5ece0c5cf1"
      },
      "source": [
        "df6.mean()"
      ],
      "execution_count": 72,
      "outputs": [
        {
          "output_type": "execute_result",
          "data": {
            "text/plain": [
              "Volume_(Currency)    5140.174041\n",
              "Bitcoin_Price         315.775658\n",
              "Bitcoin_Price_log       2.286545\n",
              "BC_log                  0.003157\n",
              "dtype: float64"
            ]
          },
          "metadata": {
            "tags": []
          },
          "execution_count": 72
        }
      ]
    },
    {
      "cell_type": "code",
      "metadata": {
        "colab": {
          "base_uri": "https://localhost:8080/"
        },
        "id": "72oItsReuQla",
        "outputId": "2044b423-fde7-4d2f-95d3-b87a87b6f77d"
      },
      "source": [
        "df5.var()"
      ],
      "execution_count": 73,
      "outputs": [
        {
          "output_type": "execute_result",
          "data": {
            "text/plain": [
              "Volume_(Currency)    20504.103134\n",
              "Bitcoin_Price           18.064755\n",
              "Bitcoin_Price_log        0.037202\n",
              "BC_log                   0.000217\n",
              "dtype: float64"
            ]
          },
          "metadata": {
            "tags": []
          },
          "execution_count": 73
        }
      ]
    },
    {
      "cell_type": "code",
      "metadata": {
        "colab": {
          "base_uri": "https://localhost:8080/"
        },
        "id": "r5xEASw9u-hY",
        "outputId": "ee18f57b-da51-4960-bd94-f040a8f3e148"
      },
      "source": [
        "df6.var()"
      ],
      "execution_count": 74,
      "outputs": [
        {
          "output_type": "execute_result",
          "data": {
            "text/plain": [
              "Volume_(Currency)    5.628222e+07\n",
              "Bitcoin_Price        9.159770e+04\n",
              "Bitcoin_Price_log    1.914643e-01\n",
              "BC_log               9.137152e-04\n",
              "dtype: float64"
            ]
          },
          "metadata": {
            "tags": []
          },
          "execution_count": 74
        }
      ]
    },
    {
      "cell_type": "code",
      "metadata": {
        "colab": {
          "base_uri": "https://localhost:8080/"
        },
        "id": "Pz7sVXnkVV8a",
        "outputId": "da84fe9e-94a6-47a2-b424-9348a1153313"
      },
      "source": [
        "stationarity_check(df['BC_log'])"
      ],
      "execution_count": 75,
      "outputs": [
        {
          "output_type": "stream",
          "text": [
            "Test_statistics= -10.530767454563131   P_value= 9.164529245225308e-19      Lags_used = 23    Number of Observation Used = 3351   P_value Statistics=   {'1%': -3.4323029442926765, '5%': -2.862402896767871, '10%': -2.567229336991118}\n"
          ],
          "name": "stdout"
        }
      ]
    },
    {
      "cell_type": "code",
      "metadata": {
        "colab": {
          "base_uri": "https://localhost:8080/",
          "height": 282
        },
        "id": "pWPPr9NAsmdp",
        "outputId": "cc541c93-8262-4d4b-e0c4-a3ac68858c68"
      },
      "source": [
        "#Plotting \n",
        "df['BC_log'].plot()"
      ],
      "execution_count": 76,
      "outputs": [
        {
          "output_type": "execute_result",
          "data": {
            "text/plain": [
              "<matplotlib.axes._subplots.AxesSubplot at 0x7ff4327ea510>"
            ]
          },
          "metadata": {
            "tags": []
          },
          "execution_count": 76
        },
        {
          "output_type": "display_data",
          "data": {
            "image/png": "[encoded data removed]",
            "text/plain": [
              "<Figure size 432x288 with 1 Axes>"
            ]
          },
          "metadata": {
            "tags": [],
            "needs_background": "light"
          }
        }
      ]
    },
    {
      "cell_type": "code",
      "metadata": {
        "colab": {
          "base_uri": "https://localhost:8080/"
        },
        "id": "JiyNlLgI3fmT",
        "outputId": "0c668868-63e1-4932-e696-637e65b7598e"
      },
      "source": [
        "df.columns"
      ],
      "execution_count": 77,
      "outputs": [
        {
          "output_type": "execute_result",
          "data": {
            "text/plain": [
              "Index(['Timestamp', 'Volume_(Currency)', 'Bitcoin_Price', 'Bitcoin_Price_log',\n",
              "       'BC_log'],\n",
              "      dtype='object')"
            ]
          },
          "metadata": {
            "tags": []
          },
          "execution_count": 77
        }
      ]
    },
    {
      "cell_type": "markdown",
      "metadata": {
        "id": "QUjssOMI3MlD"
      },
      "source": [
        "Data seems to be much batter now. It is important to convert'Volume_(Currency)' into stationary format."
      ]
    },
    {
      "cell_type": "code",
      "metadata": {
        "colab": {
          "base_uri": "https://localhost:8080/",
          "height": 282
        },
        "id": "HGwuXZFvANLH",
        "outputId": "1bcd42f5-fdaf-4b1c-a443-5a92ad7618d0"
      },
      "source": [
        "##############remove other procedure if not required\n",
        "#Using Transformation method we are trying to make our data stationary\n",
        "df['Volume_(Currency)_log']=np.log10(df['Volume_(Currency)'])#log calculation\n",
        "#df['Bitcoin_Price_sqrt']=np.sqrt(df['Bitcoin_Price'])#square root calculatiion\n",
        "#df['Bitcoin_Price_cbrt']=np.cbrt(df['Bitcoin_Price'])#cube root calculation\n",
        "#Differencing these time series\n",
        "df['Volume_log']=df['Volume_(Currency)_log']-df['Volume_(Currency)_log'].shift(1)\n",
        "#df['BC_sqrt']=df['Bitcoin_Price_sqrt']-df['Bitcoin_Price_sqrt'].shift(1)\n",
        "#df['BC_cbrt']=df['Bitcoin_Price_cbrt']-df['Bitcoin_Price_cbrt'].shift(1)\n",
        "#removing NAN values\n",
        "#df[['BC_log']].dropna(axis=0,inplace=True)\n",
        "#df[['BC_sqrt']].dropna(axis=0,inplace=True)\n",
        "#df[['BC_cbrt']].dropna(axis=0,inplace=True)\n",
        "\n",
        "df.dropna(subset=['Volume_log'], axis=0, inplace=True)\n",
        "\n",
        "# reset index, because we droped many rows\n",
        "df.reset_index(drop=False, inplace=True)\n",
        "\n",
        "df5=df[0:410]\n",
        "df6=df[410:819]\n",
        "\n",
        "df['Volume_log'].plot()\n"
      ],
      "execution_count": 78,
      "outputs": [
        {
          "output_type": "execute_result",
          "data": {
            "text/plain": [
              "<matplotlib.axes._subplots.AxesSubplot at 0x7ff4314dfe90>"
            ]
          },
          "metadata": {
            "tags": []
          },
          "execution_count": 78
        },
        {
          "output_type": "display_data",
          "data": {
            "image/png": "[encoded data removed]",
            "text/plain": [
              "<Figure size 432x288 with 1 Axes>"
            ]
          },
          "metadata": {
            "tags": [],
            "needs_background": "light"
          }
        }
      ]
    },
    {
      "cell_type": "code",
      "metadata": {
        "colab": {
          "base_uri": "https://localhost:8080/"
        },
        "id": "T1hYvMcK6BMC",
        "outputId": "c7c40907-b135-40df-c848-9a11ea28e7be"
      },
      "source": [
        "stationarity_check(df['Volume_log'])"
      ],
      "execution_count": 79,
      "outputs": [
        {
          "output_type": "stream",
          "text": [
            "Test_statistics= -14.343121123051958   P_value= 1.0518494379322131e-26      Lags_used = 27    Number of Observation Used = 3346   P_value Statistics=   {'1%': -3.4323058648629248, '5%': -2.862404186780598, '10%': -2.5672300237626606}\n"
          ],
          "name": "stdout"
        }
      ]
    },
    {
      "cell_type": "code",
      "metadata": {
        "colab": {
          "base_uri": "https://localhost:8080/"
        },
        "id": "W6xufRdy6iQw",
        "outputId": "de6b5483-2691-4819-f1bb-39aeccfd1f65"
      },
      "source": [
        "df5.mean()"
      ],
      "execution_count": 80,
      "outputs": [
        {
          "output_type": "execute_result",
          "data": {
            "text/plain": [
              "index                    205.500000\n",
              "Volume_(Currency)        186.902907\n",
              "Bitcoin_Price              9.255937\n",
              "Bitcoin_Price_log          0.922428\n",
              "BC_log                     0.001780\n",
              "Volume_(Currency)_log      2.113064\n",
              "Volume_log                 0.003484\n",
              "dtype: float64"
            ]
          },
          "metadata": {
            "tags": []
          },
          "execution_count": 80
        }
      ]
    },
    {
      "cell_type": "code",
      "metadata": {
        "colab": {
          "base_uri": "https://localhost:8080/"
        },
        "id": "J3YUOsFk6oF7",
        "outputId": "c0806f3f-4161-437a-ddd4-e2804dbc151e"
      },
      "source": [
        "df6.mean()"
      ],
      "execution_count": 81,
      "outputs": [
        {
          "output_type": "execute_result",
          "data": {
            "text/plain": [
              "index                     615.000000\n",
              "Volume_(Currency)        5164.755111\n",
              "Bitcoin_Price             316.855125\n",
              "Bitcoin_Price_log           2.289621\n",
              "BC_log                      0.003076\n",
              "Volume_(Currency)_log       3.366736\n",
              "Volume_log                  0.002605\n",
              "dtype: float64"
            ]
          },
          "metadata": {
            "tags": []
          },
          "execution_count": 81
        }
      ]
    },
    {
      "cell_type": "code",
      "metadata": {
        "colab": {
          "base_uri": "https://localhost:8080/"
        },
        "id": "e9t4A9U06qsj",
        "outputId": "f94d8b10-fa7b-4673-fee0-e9f42b21e890"
      },
      "source": [
        "df5.var()"
      ],
      "execution_count": 82,
      "outputs": [
        {
          "output_type": "execute_result",
          "data": {
            "text/plain": [
              "index                    14042.500000\n",
              "Volume_(Currency)        21861.089176\n",
              "Bitcoin_Price               18.688472\n",
              "Bitcoin_Price_log            0.037648\n",
              "BC_log                       0.000215\n",
              "Volume_(Currency)_log        0.181959\n",
              "Volume_log                   0.081697\n",
              "dtype: float64"
            ]
          },
          "metadata": {
            "tags": []
          },
          "execution_count": 82
        }
      ]
    },
    {
      "cell_type": "code",
      "metadata": {
        "colab": {
          "base_uri": "https://localhost:8080/"
        },
        "id": "O2dLi-wW6trZ",
        "outputId": "79ce9867-e377-4adc-978b-b0673997f7cf"
      },
      "source": [
        "df6.var()"
      ],
      "execution_count": 83,
      "outputs": [
        {
          "output_type": "execute_result",
          "data": {
            "text/plain": [
              "index                    1.397417e+04\n",
              "Volume_(Currency)        5.632265e+07\n",
              "Bitcoin_Price            9.144672e+04\n",
              "Bitcoin_Price_log        1.899385e-01\n",
              "BC_log                   9.162093e-04\n",
              "Volume_(Currency)_log    2.947284e-01\n",
              "Volume_log               6.567699e-02\n",
              "dtype: float64"
            ]
          },
          "metadata": {
            "tags": []
          },
          "execution_count": 83
        }
      ]
    },
    {
      "cell_type": "code",
      "metadata": {
        "id": "tpaAuaPBf9KZ"
      },
      "source": [
        "#d_frame.index = d_frame.Timestamp\n",
        "# Resampling datframe on daily frequency basis\n",
        "#df_day = d_frame.resample('D').mean()\n",
        "\n",
        "# # Resampling datframe on monthly frequency basis\n",
        "#df_m = d_frame.resample('M').mean()\n",
        "\n",
        "# # Resampling datframe on anual frequency basis\n",
        "#df_y = d_frame.resample('A-DEC').mean()\n",
        "\n",
        "# # Resampling datframe on quarterly frequency basis\n",
        "#df_Q = d_frame.resample('Q-DEC').mean()# For making it short after analysing these all data sets we are going to df_m for our further analysis\n"
      ],
      "execution_count": 84,
      "outputs": []
    },
    {
      "cell_type": "code",
      "metadata": {
        "colab": {
          "base_uri": "https://localhost:8080/",
          "height": 297
        },
        "id": "lD21Sep4VPDe",
        "outputId": "4b2c1031-a9d5-48b0-ba3b-f62a44364e29"
      },
      "source": [
        "df.describe()"
      ],
      "execution_count": 85,
      "outputs": [
        {
          "output_type": "execute_result",
          "data": {
            "text/html": [
              "<div>\n",
              "<style scoped>\n",
              "    .dataframe tbody tr th:only-of-type {\n",
              "        vertical-align: middle;\n",
              "    }\n",
              "\n",
              "    .dataframe tbody tr th {\n",
              "        vertical-align: top;\n",
              "    }\n",
              "\n",
              "    .dataframe thead th {\n",
              "        text-align: right;\n",
              "    }\n",
              "</style>\n",
              "<table border=\"1\" class=\"dataframe\">\n",
              "  <thead>\n",
              "    <tr style=\"text-align: right;\">\n",
              "      <th></th>\n",
              "      <th>index</th>\n",
              "      <th>Volume_(Currency)</th>\n",
              "      <th>Bitcoin_Price</th>\n",
              "      <th>Bitcoin_Price_log</th>\n",
              "      <th>BC_log</th>\n",
              "      <th>Volume_(Currency)_log</th>\n",
              "      <th>Volume_log</th>\n",
              "    </tr>\n",
              "  </thead>\n",
              "  <tbody>\n",
              "    <tr>\n",
              "      <th>count</th>\n",
              "      <td>3374.000000</td>\n",
              "      <td>3374.000000</td>\n",
              "      <td>3374.000000</td>\n",
              "      <td>3374.000000</td>\n",
              "      <td>3374.000000</td>\n",
              "      <td>3374.000000</td>\n",
              "      <td>3374.000000</td>\n",
              "    </tr>\n",
              "    <tr>\n",
              "      <th>mean</th>\n",
              "      <td>1687.500000</td>\n",
              "      <td>31809.612876</td>\n",
              "      <td>4608.303731</td>\n",
              "      <td>2.927839</td>\n",
              "      <td>0.001211</td>\n",
              "      <td>3.819738</td>\n",
              "      <td>0.001083</td>\n",
              "    </tr>\n",
              "    <tr>\n",
              "      <th>std</th>\n",
              "      <td>974.134231</td>\n",
              "      <td>62767.823416</td>\n",
              "      <td>8208.699453</td>\n",
              "      <td>1.021955</td>\n",
              "      <td>0.016804</td>\n",
              "      <td>0.925960</td>\n",
              "      <td>0.234952</td>\n",
              "    </tr>\n",
              "    <tr>\n",
              "      <th>min</th>\n",
              "      <td>1.000000</td>\n",
              "      <td>1.227500</td>\n",
              "      <td>4.331667</td>\n",
              "      <td>0.636655</td>\n",
              "      <td>-0.220358</td>\n",
              "      <td>0.089022</td>\n",
              "      <td>-1.186814</td>\n",
              "    </tr>\n",
              "    <tr>\n",
              "      <th>25%</th>\n",
              "      <td>844.250000</td>\n",
              "      <td>1918.275718</td>\n",
              "      <td>245.159152</td>\n",
              "      <td>2.389448</td>\n",
              "      <td>-0.004370</td>\n",
              "      <td>3.282911</td>\n",
              "      <td>-0.151068</td>\n",
              "    </tr>\n",
              "    <tr>\n",
              "      <th>50%</th>\n",
              "      <td>1687.500000</td>\n",
              "      <td>6834.994315</td>\n",
              "      <td>699.637248</td>\n",
              "      <td>2.844872</td>\n",
              "      <td>0.000870</td>\n",
              "      <td>3.834738</td>\n",
              "      <td>-0.010526</td>\n",
              "    </tr>\n",
              "    <tr>\n",
              "      <th>75%</th>\n",
              "      <td>2530.750000</td>\n",
              "      <td>36153.192445</td>\n",
              "      <td>7243.657526</td>\n",
              "      <td>3.859958</td>\n",
              "      <td>0.007340</td>\n",
              "      <td>4.558146</td>\n",
              "      <td>0.140288</td>\n",
              "    </tr>\n",
              "    <tr>\n",
              "      <th>max</th>\n",
              "      <td>3374.000000</td>\n",
              "      <td>950995.602917</td>\n",
              "      <td>60455.844831</td>\n",
              "      <td>4.781438</td>\n",
              "      <td>0.126267</td>\n",
              "      <td>5.978179</td>\n",
              "      <td>1.252703</td>\n",
              "    </tr>\n",
              "  </tbody>\n",
              "</table>\n",
              "</div>"
            ],
            "text/plain": [
              "             index  Volume_(Currency)  ...  Volume_(Currency)_log   Volume_log\n",
              "count  3374.000000        3374.000000  ...            3374.000000  3374.000000\n",
              "mean   1687.500000       31809.612876  ...               3.819738     0.001083\n",
              "std     974.134231       62767.823416  ...               0.925960     0.234952\n",
              "min       1.000000           1.227500  ...               0.089022    -1.186814\n",
              "25%     844.250000        1918.275718  ...               3.282911    -0.151068\n",
              "50%    1687.500000        6834.994315  ...               3.834738    -0.010526\n",
              "75%    2530.750000       36153.192445  ...               4.558146     0.140288\n",
              "max    3374.000000      950995.602917  ...               5.978179     1.252703\n",
              "\n",
              "[8 rows x 7 columns]"
            ]
          },
          "metadata": {
            "tags": []
          },
          "execution_count": 85
        }
      ]
    },
    {
      "cell_type": "markdown",
      "metadata": {
        "id": "1DmyB44cJHYj"
      },
      "source": [
        "We can see that our data have many outliers in almost all columns."
      ]
    },
    {
      "cell_type": "code",
      "metadata": {
        "colab": {
          "base_uri": "https://localhost:8080/",
          "height": 419
        },
        "id": "KvB86d8DIDIG",
        "outputId": "f057a895-eceb-4523-d03e-edf8bac6a39d"
      },
      "source": [
        "df.query('BC_log\t>0.007056')# We have used 75% value to check outliers.(in BC_log)"
      ],
      "execution_count": 86,
      "outputs": [
        {
          "output_type": "execute_result",
          "data": {
            "text/html": [
              "<div>\n",
              "<style scoped>\n",
              "    .dataframe tbody tr th:only-of-type {\n",
              "        vertical-align: middle;\n",
              "    }\n",
              "\n",
              "    .dataframe tbody tr th {\n",
              "        vertical-align: top;\n",
              "    }\n",
              "\n",
              "    .dataframe thead th {\n",
              "        text-align: right;\n",
              "    }\n",
              "</style>\n",
              "<table border=\"1\" class=\"dataframe\">\n",
              "  <thead>\n",
              "    <tr style=\"text-align: right;\">\n",
              "      <th></th>\n",
              "      <th>index</th>\n",
              "      <th>Timestamp</th>\n",
              "      <th>Volume_(Currency)</th>\n",
              "      <th>Bitcoin_Price</th>\n",
              "      <th>Bitcoin_Price_log</th>\n",
              "      <th>BC_log</th>\n",
              "      <th>Volume_(Currency)_log</th>\n",
              "      <th>Volume_log</th>\n",
              "    </tr>\n",
              "  </thead>\n",
              "  <tbody>\n",
              "    <tr>\n",
              "      <th>0</th>\n",
              "      <td>1</td>\n",
              "      <td>2012-01-02</td>\n",
              "      <td>95.240000</td>\n",
              "      <td>5.000000</td>\n",
              "      <td>0.698970</td>\n",
              "      <td>0.017126</td>\n",
              "      <td>1.978819</td>\n",
              "      <td>0.431541</td>\n",
              "    </tr>\n",
              "    <tr>\n",
              "      <th>1</th>\n",
              "      <td>2</td>\n",
              "      <td>2012-01-03</td>\n",
              "      <td>58.100651</td>\n",
              "      <td>5.252500</td>\n",
              "      <td>0.720366</td>\n",
              "      <td>0.021396</td>\n",
              "      <td>1.764181</td>\n",
              "      <td>-0.214638</td>\n",
              "    </tr>\n",
              "    <tr>\n",
              "      <th>3</th>\n",
              "      <td>4</td>\n",
              "      <td>2012-01-05</td>\n",
              "      <td>27.987370</td>\n",
              "      <td>6.284127</td>\n",
              "      <td>0.798245</td>\n",
              "      <td>0.081561</td>\n",
              "      <td>1.446962</td>\n",
              "      <td>-0.353202</td>\n",
              "    </tr>\n",
              "    <tr>\n",
              "      <th>4</th>\n",
              "      <td>5</td>\n",
              "      <td>2012-01-06</td>\n",
              "      <td>15.914659</td>\n",
              "      <td>6.438999</td>\n",
              "      <td>0.808818</td>\n",
              "      <td>0.010573</td>\n",
              "      <td>1.201797</td>\n",
              "      <td>-0.245165</td>\n",
              "    </tr>\n",
              "    <tr>\n",
              "      <th>5</th>\n",
              "      <td>6</td>\n",
              "      <td>2012-01-07</td>\n",
              "      <td>2.011834</td>\n",
              "      <td>6.800000</td>\n",
              "      <td>0.832509</td>\n",
              "      <td>0.023691</td>\n",
              "      <td>0.303592</td>\n",
              "      <td>-0.898205</td>\n",
              "    </tr>\n",
              "    <tr>\n",
              "      <th>...</th>\n",
              "      <td>...</td>\n",
              "      <td>...</td>\n",
              "      <td>...</td>\n",
              "      <td>...</td>\n",
              "      <td>...</td>\n",
              "      <td>...</td>\n",
              "      <td>...</td>\n",
              "      <td>...</td>\n",
              "    </tr>\n",
              "    <tr>\n",
              "      <th>3360</th>\n",
              "      <td>3361</td>\n",
              "      <td>2021-03-18</td>\n",
              "      <td>224746.087533</td>\n",
              "      <td>58472.117322</td>\n",
              "      <td>4.766949</td>\n",
              "      <td>0.017537</td>\n",
              "      <td>5.351692</td>\n",
              "      <td>-0.007430</td>\n",
              "    </tr>\n",
              "    <tr>\n",
              "      <th>3368</th>\n",
              "      <td>3369</td>\n",
              "      <td>2021-03-26</td>\n",
              "      <td>180619.174558</td>\n",
              "      <td>53241.037489</td>\n",
              "      <td>4.726247</td>\n",
              "      <td>0.009228</td>\n",
              "      <td>5.256764</td>\n",
              "      <td>-0.125203</td>\n",
              "    </tr>\n",
              "    <tr>\n",
              "      <th>3369</th>\n",
              "      <td>3370</td>\n",
              "      <td>2021-03-27</td>\n",
              "      <td>100884.732367</td>\n",
              "      <td>55193.357260</td>\n",
              "      <td>4.741887</td>\n",
              "      <td>0.015640</td>\n",
              "      <td>5.003825</td>\n",
              "      <td>-0.252938</td>\n",
              "    </tr>\n",
              "    <tr>\n",
              "      <th>3371</th>\n",
              "      <td>3372</td>\n",
              "      <td>2021-03-29</td>\n",
              "      <td>213754.555988</td>\n",
              "      <td>56913.993819</td>\n",
              "      <td>4.755219</td>\n",
              "      <td>0.008328</td>\n",
              "      <td>5.329915</td>\n",
              "      <td>0.423407</td>\n",
              "    </tr>\n",
              "    <tr>\n",
              "      <th>3372</th>\n",
              "      <td>3373</td>\n",
              "      <td>2021-03-30</td>\n",
              "      <td>138231.241926</td>\n",
              "      <td>58346.912268</td>\n",
              "      <td>4.766018</td>\n",
              "      <td>0.010799</td>\n",
              "      <td>5.140606</td>\n",
              "      <td>-0.189309</td>\n",
              "    </tr>\n",
              "  </tbody>\n",
              "</table>\n",
              "<p>867 rows × 8 columns</p>\n",
              "</div>"
            ],
            "text/plain": [
              "      index   Timestamp  ...  Volume_(Currency)_log  Volume_log\n",
              "0         1  2012-01-02  ...               1.978819    0.431541\n",
              "1         2  2012-01-03  ...               1.764181   -0.214638\n",
              "3         4  2012-01-05  ...               1.446962   -0.353202\n",
              "4         5  2012-01-06  ...               1.201797   -0.245165\n",
              "5         6  2012-01-07  ...               0.303592   -0.898205\n",
              "...     ...         ...  ...                    ...         ...\n",
              "3360   3361  2021-03-18  ...               5.351692   -0.007430\n",
              "3368   3369  2021-03-26  ...               5.256764   -0.125203\n",
              "3369   3370  2021-03-27  ...               5.003825   -0.252938\n",
              "3371   3372  2021-03-29  ...               5.329915    0.423407\n",
              "3372   3373  2021-03-30  ...               5.140606   -0.189309\n",
              "\n",
              "[867 rows x 8 columns]"
            ]
          },
          "metadata": {
            "tags": []
          },
          "execution_count": 86
        }
      ]
    },
    {
      "cell_type": "code",
      "metadata": {
        "colab": {
          "base_uri": "https://localhost:8080/",
          "height": 419
        },
        "id": "sZWhPgyqKdVE",
        "outputId": "cabbb7f0-56a9-440e-8ed5-3d4cee9394ff"
      },
      "source": [
        "df.query('BC_log\t<-0.003926')# We have used 25% value to check outliers. "
      ],
      "execution_count": 87,
      "outputs": [
        {
          "output_type": "execute_result",
          "data": {
            "text/html": [
              "<div>\n",
              "<style scoped>\n",
              "    .dataframe tbody tr th:only-of-type {\n",
              "        vertical-align: middle;\n",
              "    }\n",
              "\n",
              "    .dataframe tbody tr th {\n",
              "        vertical-align: top;\n",
              "    }\n",
              "\n",
              "    .dataframe thead th {\n",
              "        text-align: right;\n",
              "    }\n",
              "</style>\n",
              "<table border=\"1\" class=\"dataframe\">\n",
              "  <thead>\n",
              "    <tr style=\"text-align: right;\">\n",
              "      <th></th>\n",
              "      <th>index</th>\n",
              "      <th>Timestamp</th>\n",
              "      <th>Volume_(Currency)</th>\n",
              "      <th>Bitcoin_Price</th>\n",
              "      <th>Bitcoin_Price_log</th>\n",
              "      <th>BC_log</th>\n",
              "      <th>Volume_(Currency)_log</th>\n",
              "      <th>Volume_log</th>\n",
              "    </tr>\n",
              "  </thead>\n",
              "  <tbody>\n",
              "    <tr>\n",
              "      <th>7</th>\n",
              "      <td>8</td>\n",
              "      <td>2012-01-09</td>\n",
              "      <td>12.306798</td>\n",
              "      <td>6.582770</td>\n",
              "      <td>0.818409</td>\n",
              "      <td>-0.023576</td>\n",
              "      <td>1.090145</td>\n",
              "      <td>-0.147901</td>\n",
              "    </tr>\n",
              "    <tr>\n",
              "      <th>11</th>\n",
              "      <td>12</td>\n",
              "      <td>2012-01-13</td>\n",
              "      <td>10.779292</td>\n",
              "      <td>6.969237</td>\n",
              "      <td>0.843185</td>\n",
              "      <td>-0.005773</td>\n",
              "      <td>1.032590</td>\n",
              "      <td>-0.664974</td>\n",
              "    </tr>\n",
              "    <tr>\n",
              "      <th>12</th>\n",
              "      <td>13</td>\n",
              "      <td>2012-01-14</td>\n",
              "      <td>10.848680</td>\n",
              "      <td>6.414081</td>\n",
              "      <td>0.807134</td>\n",
              "      <td>-0.036051</td>\n",
              "      <td>1.035377</td>\n",
              "      <td>0.002787</td>\n",
              "    </tr>\n",
              "    <tr>\n",
              "      <th>14</th>\n",
              "      <td>15</td>\n",
              "      <td>2012-01-16</td>\n",
              "      <td>12.392857</td>\n",
              "      <td>6.714286</td>\n",
              "      <td>0.827000</td>\n",
              "      <td>-0.027306</td>\n",
              "      <td>1.093171</td>\n",
              "      <td>-0.284863</td>\n",
              "    </tr>\n",
              "    <tr>\n",
              "      <th>15</th>\n",
              "      <td>16</td>\n",
              "      <td>2012-01-17</td>\n",
              "      <td>20.558575</td>\n",
              "      <td>6.148346</td>\n",
              "      <td>0.788758</td>\n",
              "      <td>-0.038242</td>\n",
              "      <td>1.312993</td>\n",
              "      <td>0.219822</td>\n",
              "    </tr>\n",
              "    <tr>\n",
              "      <th>...</th>\n",
              "      <td>...</td>\n",
              "      <td>...</td>\n",
              "      <td>...</td>\n",
              "      <td>...</td>\n",
              "      <td>...</td>\n",
              "      <td>...</td>\n",
              "      <td>...</td>\n",
              "      <td>...</td>\n",
              "    </tr>\n",
              "    <tr>\n",
              "      <th>3358</th>\n",
              "      <td>3359</td>\n",
              "      <td>2021-03-16</td>\n",
              "      <td>295647.294866</td>\n",
              "      <td>55339.804792</td>\n",
              "      <td>4.743038</td>\n",
              "      <td>-0.016689</td>\n",
              "      <td>5.470774</td>\n",
              "      <td>-0.016293</td>\n",
              "    </tr>\n",
              "    <tr>\n",
              "      <th>3363</th>\n",
              "      <td>3364</td>\n",
              "      <td>2021-03-21</td>\n",
              "      <td>144363.205985</td>\n",
              "      <td>57312.598536</td>\n",
              "      <td>4.758250</td>\n",
              "      <td>-0.010978</td>\n",
              "      <td>5.159457</td>\n",
              "      <td>0.169364</td>\n",
              "    </tr>\n",
              "    <tr>\n",
              "      <th>3364</th>\n",
              "      <td>3365</td>\n",
              "      <td>2021-03-22</td>\n",
              "      <td>255685.092495</td>\n",
              "      <td>56787.148422</td>\n",
              "      <td>4.754250</td>\n",
              "      <td>-0.004000</td>\n",
              "      <td>5.407705</td>\n",
              "      <td>0.248249</td>\n",
              "    </tr>\n",
              "    <tr>\n",
              "      <th>3365</th>\n",
              "      <td>3366</td>\n",
              "      <td>2021-03-23</td>\n",
              "      <td>189536.245426</td>\n",
              "      <td>54703.387740</td>\n",
              "      <td>4.738014</td>\n",
              "      <td>-0.016236</td>\n",
              "      <td>5.277692</td>\n",
              "      <td>-0.130013</td>\n",
              "    </tr>\n",
              "    <tr>\n",
              "      <th>3367</th>\n",
              "      <td>3368</td>\n",
              "      <td>2021-03-25</td>\n",
              "      <td>240972.427409</td>\n",
              "      <td>52121.684110</td>\n",
              "      <td>4.717018</td>\n",
              "      <td>-0.024322</td>\n",
              "      <td>5.381967</td>\n",
              "      <td>-0.038833</td>\n",
              "    </tr>\n",
              "  </tbody>\n",
              "</table>\n",
              "<p>883 rows × 8 columns</p>\n",
              "</div>"
            ],
            "text/plain": [
              "      index   Timestamp  ...  Volume_(Currency)_log  Volume_log\n",
              "7         8  2012-01-09  ...               1.090145   -0.147901\n",
              "11       12  2012-01-13  ...               1.032590   -0.664974\n",
              "12       13  2012-01-14  ...               1.035377    0.002787\n",
              "14       15  2012-01-16  ...               1.093171   -0.284863\n",
              "15       16  2012-01-17  ...               1.312993    0.219822\n",
              "...     ...         ...  ...                    ...         ...\n",
              "3358   3359  2021-03-16  ...               5.470774   -0.016293\n",
              "3363   3364  2021-03-21  ...               5.159457    0.169364\n",
              "3364   3365  2021-03-22  ...               5.407705    0.248249\n",
              "3365   3366  2021-03-23  ...               5.277692   -0.130013\n",
              "3367   3368  2021-03-25  ...               5.381967   -0.038833\n",
              "\n",
              "[883 rows x 8 columns]"
            ]
          },
          "metadata": {
            "tags": []
          },
          "execution_count": 87
        }
      ]
    },
    {
      "cell_type": "code",
      "metadata": {
        "colab": {
          "base_uri": "https://localhost:8080/"
        },
        "id": "d-1-QOyl0UUm",
        "outputId": "d55cd836-cff3-4c1f-c252-14203c7553ad"
      },
      "source": [
        "df.columns"
      ],
      "execution_count": 88,
      "outputs": [
        {
          "output_type": "execute_result",
          "data": {
            "text/plain": [
              "Index(['index', 'Timestamp', 'Volume_(Currency)', 'Bitcoin_Price',\n",
              "       'Bitcoin_Price_log', 'BC_log', 'Volume_(Currency)_log', 'Volume_log'],\n",
              "      dtype='object')"
            ]
          },
          "metadata": {
            "tags": []
          },
          "execution_count": 88
        }
      ]
    },
    {
      "cell_type": "code",
      "metadata": {
        "colab": {
          "base_uri": "https://localhost:8080/",
          "height": 419
        },
        "id": "-RYMk28p-L_H",
        "outputId": "2d2dae3c-089d-4703-ff97-f4f59058e0ea"
      },
      "source": [
        "df.drop(['index','Volume_(Currency)', 'Bitcoin_Price',\n",
        "       'Bitcoin_Price_log','Volume_(Currency)_log'] , inplace=True, axis=1)# As Timestamp is both index and column so dropping the \"Timestamp\" column.\n",
        "df"
      ],
      "execution_count": 89,
      "outputs": [
        {
          "output_type": "execute_result",
          "data": {
            "text/html": [
              "<div>\n",
              "<style scoped>\n",
              "    .dataframe tbody tr th:only-of-type {\n",
              "        vertical-align: middle;\n",
              "    }\n",
              "\n",
              "    .dataframe tbody tr th {\n",
              "        vertical-align: top;\n",
              "    }\n",
              "\n",
              "    .dataframe thead th {\n",
              "        text-align: right;\n",
              "    }\n",
              "</style>\n",
              "<table border=\"1\" class=\"dataframe\">\n",
              "  <thead>\n",
              "    <tr style=\"text-align: right;\">\n",
              "      <th></th>\n",
              "      <th>Timestamp</th>\n",
              "      <th>BC_log</th>\n",
              "      <th>Volume_log</th>\n",
              "    </tr>\n",
              "  </thead>\n",
              "  <tbody>\n",
              "    <tr>\n",
              "      <th>0</th>\n",
              "      <td>2012-01-02</td>\n",
              "      <td>0.017126</td>\n",
              "      <td>0.431541</td>\n",
              "    </tr>\n",
              "    <tr>\n",
              "      <th>1</th>\n",
              "      <td>2012-01-03</td>\n",
              "      <td>0.021396</td>\n",
              "      <td>-0.214638</td>\n",
              "    </tr>\n",
              "    <tr>\n",
              "      <th>2</th>\n",
              "      <td>2012-01-04</td>\n",
              "      <td>-0.003682</td>\n",
              "      <td>0.035983</td>\n",
              "    </tr>\n",
              "    <tr>\n",
              "      <th>3</th>\n",
              "      <td>2012-01-05</td>\n",
              "      <td>0.081561</td>\n",
              "      <td>-0.353202</td>\n",
              "    </tr>\n",
              "    <tr>\n",
              "      <th>4</th>\n",
              "      <td>2012-01-06</td>\n",
              "      <td>0.010573</td>\n",
              "      <td>-0.245165</td>\n",
              "    </tr>\n",
              "    <tr>\n",
              "      <th>...</th>\n",
              "      <td>...</td>\n",
              "      <td>...</td>\n",
              "      <td>...</td>\n",
              "    </tr>\n",
              "    <tr>\n",
              "      <th>3369</th>\n",
              "      <td>2021-03-27</td>\n",
              "      <td>0.015640</td>\n",
              "      <td>-0.252938</td>\n",
              "    </tr>\n",
              "    <tr>\n",
              "      <th>3370</th>\n",
              "      <td>2021-03-28</td>\n",
              "      <td>0.005004</td>\n",
              "      <td>-0.097317</td>\n",
              "    </tr>\n",
              "    <tr>\n",
              "      <th>3371</th>\n",
              "      <td>2021-03-29</td>\n",
              "      <td>0.008328</td>\n",
              "      <td>0.423407</td>\n",
              "    </tr>\n",
              "    <tr>\n",
              "      <th>3372</th>\n",
              "      <td>2021-03-30</td>\n",
              "      <td>0.010799</td>\n",
              "      <td>-0.189309</td>\n",
              "    </tr>\n",
              "    <tr>\n",
              "      <th>3373</th>\n",
              "      <td>2021-03-31</td>\n",
              "      <td>0.003096</td>\n",
              "      <td>0.061930</td>\n",
              "    </tr>\n",
              "  </tbody>\n",
              "</table>\n",
              "<p>3374 rows × 3 columns</p>\n",
              "</div>"
            ],
            "text/plain": [
              "       Timestamp    BC_log  Volume_log\n",
              "0     2012-01-02  0.017126    0.431541\n",
              "1     2012-01-03  0.021396   -0.214638\n",
              "2     2012-01-04 -0.003682    0.035983\n",
              "3     2012-01-05  0.081561   -0.353202\n",
              "4     2012-01-06  0.010573   -0.245165\n",
              "...          ...       ...         ...\n",
              "3369  2021-03-27  0.015640   -0.252938\n",
              "3370  2021-03-28  0.005004   -0.097317\n",
              "3371  2021-03-29  0.008328    0.423407\n",
              "3372  2021-03-30  0.010799   -0.189309\n",
              "3373  2021-03-31  0.003096    0.061930\n",
              "\n",
              "[3374 rows x 3 columns]"
            ]
          },
          "metadata": {
            "tags": []
          },
          "execution_count": 89
        }
      ]
    },
    {
      "cell_type": "code",
      "metadata": {
        "colab": {
          "base_uri": "https://localhost:8080/"
        },
        "id": "_1pT4DcV_O_F",
        "outputId": "95af4b09-8463-43cb-db47-a4440001f4e6"
      },
      "source": [
        "df.dtypes"
      ],
      "execution_count": 90,
      "outputs": [
        {
          "output_type": "execute_result",
          "data": {
            "text/plain": [
              "Timestamp      object\n",
              "BC_log        float64\n",
              "Volume_log    float64\n",
              "dtype: object"
            ]
          },
          "metadata": {
            "tags": []
          },
          "execution_count": 90
        }
      ]
    },
    {
      "cell_type": "code",
      "metadata": {
        "id": "Z7Kk5WtQ0ihK"
      },
      "source": [
        "df_in=df[['BC_log','Volume_log']]  # Time stamp is not included in input dataframe"
      ],
      "execution_count": 91,
      "outputs": []
    },
    {
      "cell_type": "markdown",
      "metadata": {
        "id": "9VqRs_9DJcys"
      },
      "source": [
        "We can also check other colums for number of outliers. Standard scaler will not account the outliers so we use \"MinMaxScaler\""
      ]
    },
    {
      "cell_type": "code",
      "metadata": {
        "colab": {
          "base_uri": "https://localhost:8080/"
        },
        "id": "TACI-iQPK4HB",
        "outputId": "b9e47f57-a64b-4c73-84d6-5ba442798753"
      },
      "source": [
        "scaler=MinMaxScaler()\n",
        "scaled_data=scaler.fit_transform(df_in)\n",
        "scaled_data #Data is b/w 0 and 1"
      ],
      "execution_count": 92,
      "outputs": [
        {
          "output_type": "execute_result",
          "data": {
            "text/plain": [
              "array([[0.68513255, 0.66339155],\n",
              "       [0.69745153, 0.39851169],\n",
              "       [0.62510274, 0.50124574],\n",
              "       ...,\n",
              "       [0.65975182, 0.66005761],\n",
              "       [0.66687884, 0.40889457],\n",
              "       [0.64465662, 0.51188202]])"
            ]
          },
          "metadata": {
            "tags": []
          },
          "execution_count": 92
        }
      ]
    },
    {
      "cell_type": "code",
      "metadata": {
        "id": "EHRVZL67-23Q"
      },
      "source": [
        "features=scaled_data           #(Multivariate data going to be the input of LSTM model)All columns including 'BC_log' because we want to predict future values using past values of 'BC_log' along with other variables (Timestamp is not icluded). All\n",
        "target=scaled_data[:,-1]        #only 'BC_log' column (Timestamp is not included)"
      ],
      "execution_count": 93,
      "outputs": []
    },
    {
      "cell_type": "code",
      "metadata": {
        "colab": {
          "base_uri": "https://localhost:8080/"
        },
        "id": "gdU9vh5Y1Rk6",
        "outputId": "baf8741a-711c-4401-d798-04581d9dcf65"
      },
      "source": [
        "features"
      ],
      "execution_count": 94,
      "outputs": [
        {
          "output_type": "execute_result",
          "data": {
            "text/plain": [
              "array([[0.68513255, 0.66339155],\n",
              "       [0.69745153, 0.39851169],\n",
              "       [0.62510274, 0.50124574],\n",
              "       ...,\n",
              "       [0.65975182, 0.66005761],\n",
              "       [0.66687884, 0.40889457],\n",
              "       [0.64465662, 0.51188202]])"
            ]
          },
          "metadata": {
            "tags": []
          },
          "execution_count": 94
        }
      ]
    },
    {
      "cell_type": "code",
      "metadata": {
        "colab": {
          "base_uri": "https://localhost:8080/"
        },
        "id": "n13ppy374nw4",
        "outputId": "d3fb3eac-e714-4ab8-e58e-4cf0e71ba0cc"
      },
      "source": [
        "target"
      ],
      "execution_count": 95,
      "outputs": [
        {
          "output_type": "execute_result",
          "data": {
            "text/plain": [
              "array([0.66339155, 0.39851169, 0.50124574, ..., 0.66005761, 0.40889457,\n",
              "       0.51188202])"
            ]
          },
          "metadata": {
            "tags": []
          },
          "execution_count": 95
        }
      ]
    },
    {
      "cell_type": "code",
      "metadata": {
        "colab": {
          "base_uri": "https://localhost:8080/"
        },
        "id": "M5ernQerCqxJ",
        "outputId": "5ea08181-b938-4368-dad5-cec22090ade5"
      },
      "source": [
        "features.shape"
      ],
      "execution_count": 96,
      "outputs": [
        {
          "output_type": "execute_result",
          "data": {
            "text/plain": [
              "(3374, 2)"
            ]
          },
          "metadata": {
            "tags": []
          },
          "execution_count": 96
        }
      ]
    },
    {
      "cell_type": "code",
      "metadata": {
        "colab": {
          "base_uri": "https://localhost:8080/"
        },
        "id": "v2f-RcLCGI1h",
        "outputId": "96446f93-e1a2-418b-a4d0-dcfea131cd1a"
      },
      "source": [
        "target.shape"
      ],
      "execution_count": 97,
      "outputs": [
        {
          "output_type": "execute_result",
          "data": {
            "text/plain": [
              "(3374,)"
            ]
          },
          "metadata": {
            "tags": []
          },
          "execution_count": 97
        }
      ]
    },
    {
      "cell_type": "code",
      "metadata": {
        "id": "dtRPCt8p4zlv"
      },
      "source": [
        "# Splitting the Training and Test data\n",
        "x_train,x_test,y_train,y_test = train_test_split(features,target,test_size=0.04,random_state=42,shuffle=False)"
      ],
      "execution_count": 98,
      "outputs": []
    },
    {
      "cell_type": "code",
      "metadata": {
        "colab": {
          "base_uri": "https://localhost:8080/"
        },
        "id": "FsE_C-8-cZDo",
        "outputId": "31d4a1b3-8174-45b3-b1a2-aa6aa7dc8dcf"
      },
      "source": [
        "x_train.shape"
      ],
      "execution_count": 99,
      "outputs": [
        {
          "output_type": "execute_result",
          "data": {
            "text/plain": [
              "(3239, 2)"
            ]
          },
          "metadata": {
            "tags": []
          },
          "execution_count": 99
        }
      ]
    },
    {
      "cell_type": "code",
      "metadata": {
        "colab": {
          "base_uri": "https://localhost:8080/"
        },
        "id": "vyNB35PodnIC",
        "outputId": "44d5f210-62f9-48ff-bef8-0c1e8b145c71"
      },
      "source": [
        "x_test.shape #We wnant to predict the price of Bitcoin in the spam of one month"
      ],
      "execution_count": 100,
      "outputs": [
        {
          "output_type": "execute_result",
          "data": {
            "text/plain": [
              "(135, 2)"
            ]
          },
          "metadata": {
            "tags": []
          },
          "execution_count": 100
        }
      ]
    },
    {
      "cell_type": "code",
      "metadata": {
        "colab": {
          "base_uri": "https://localhost:8080/"
        },
        "id": "8eoCtq8Ldvbh",
        "outputId": "f1795ef9-0cc5-47ac-9cb0-e5c34cd0ac62"
      },
      "source": [
        "y_train.shape"
      ],
      "execution_count": 101,
      "outputs": [
        {
          "output_type": "execute_result",
          "data": {
            "text/plain": [
              "(3239,)"
            ]
          },
          "metadata": {
            "tags": []
          },
          "execution_count": 101
        }
      ]
    },
    {
      "cell_type": "code",
      "metadata": {
        "colab": {
          "base_uri": "https://localhost:8080/"
        },
        "id": "wAOUkH3md4CG",
        "outputId": "5ecb44e5-b1b9-49c2-d85c-117b1160a06c"
      },
      "source": [
        "y_test.shape"
      ],
      "execution_count": 102,
      "outputs": [
        {
          "output_type": "execute_result",
          "data": {
            "text/plain": [
              "(135,)"
            ]
          },
          "metadata": {
            "tags": []
          },
          "execution_count": 102
        }
      ]
    },
    {
      "cell_type": "markdown",
      "metadata": {
        "id": "7zPP11jhwiGr"
      },
      "source": [
        "### 6- Model Development and Compilation"
      ]
    },
    {
      "cell_type": "code",
      "metadata": {
        "colab": {
          "base_uri": "https://localhost:8080/"
        },
        "id": "7SU8hFBJ3yyU",
        "outputId": "97282cb7-5d4a-4f7f-c3d5-4e899fb5c70a"
      },
      "source": [
        "win_length=1\n",
        "batch_size=32\n",
        "num_features=2\n",
        "# Time series generator is used to prepare data.Feature column(x_train or x_test) & Target column(y_train,y_test) are passed.\n",
        "#window_length is number of time periods of data. It will take these numbers of time periods of data and predict the next.\n",
        "train_generator=TimeseriesGenerator(x_train,y_train,length=win_length,sampling_rate=1,batch_size=batch_size)\n",
        "test_generator=TimeseriesGenerator(x_test,y_test,length=win_length,sampling_rate=1,batch_size=batch_size)\n",
        "\n",
        "train_generator[0] #it will contain 32 observations equal to \"batch_size\" each have further observations equal to \"win_length\" & further each observation contain equal to \"num_features\" features.The are also 32 target columns equel to batch size "
      ],
      "execution_count": 103,
      "outputs": [
        {
          "output_type": "execute_result",
          "data": {
            "text/plain": [
              "(array([[[0.68513255, 0.66339155]],\n",
              " \n",
              "        [[0.69745153, 0.39851169]],\n",
              " \n",
              "        [[0.62510274, 0.50124574]],\n",
              " \n",
              "        [[0.87102456, 0.34171208]],\n",
              " \n",
              "        [[0.66622851, 0.3859984 ]],\n",
              " \n",
              "        [[0.70407107, 0.11830592]],\n",
              " \n",
              "        [[0.66306225, 0.8695444 ]],\n",
              " \n",
              "        [[0.56770821, 0.42586848]],\n",
              " \n",
              "        [[0.63956923, 0.50653991]],\n",
              " \n",
              "        [[0.73029518, 0.50728298]],\n",
              " \n",
              "        [[0.6254446 , 0.69465586]],\n",
              " \n",
              "        [[0.61906895, 0.21391119]],\n",
              " \n",
              "        [[0.53171938, 0.48763795]],\n",
              " \n",
              "        [[0.77181309, 0.62695684]],\n",
              " \n",
              "        [[0.55694705, 0.36972546]],\n",
              " \n",
              "        [[0.52539912, 0.5766043 ]],\n",
              " \n",
              "        [[0.65440244, 0.50494685]],\n",
              " \n",
              "        [[0.63271468, 0.76688463]],\n",
              " \n",
              "        [[0.7527081 , 0.39181341]],\n",
              " \n",
              "        [[0.55059037, 0.56826715]],\n",
              " \n",
              "        [[0.65499927, 0.39901008]],\n",
              " \n",
              "        [[0.62066114, 0.44877005]],\n",
              " \n",
              "        [[0.65282579, 0.39652868]],\n",
              " \n",
              "        [[0.59417139, 0.34804558]],\n",
              " \n",
              "        [[0.61571156, 0.45069892]],\n",
              " \n",
              "        [[0.52287137, 0.57475992]],\n",
              " \n",
              "        [[0.45952019, 0.        ]],\n",
              " \n",
              "        [[0.82177178, 0.86762279]],\n",
              " \n",
              "        [[0.60206157, 0.48731223]],\n",
              " \n",
              "        [[0.6512295 , 0.55699763]],\n",
              " \n",
              "        [[0.67321702, 0.38673661]],\n",
              " \n",
              "        [[0.71658216, 0.68438784]]]),\n",
              " array([0.39851169, 0.50124574, 0.34171208, 0.3859984 , 0.11830592,\n",
              "        0.8695444 , 0.42586848, 0.50653991, 0.50728298, 0.69465586,\n",
              "        0.21391119, 0.48763795, 0.62695684, 0.36972546, 0.5766043 ,\n",
              "        0.50494685, 0.76688463, 0.39181341, 0.56826715, 0.39901008,\n",
              "        0.44877005, 0.39652868, 0.34804558, 0.45069892, 0.57475992,\n",
              "        0.        , 0.86762279, 0.48731223, 0.55699763, 0.38673661,\n",
              "        0.68438784, 0.53344537]))"
            ]
          },
          "metadata": {
            "tags": []
          },
          "execution_count": 103
        }
      ]
    },
    {
      "cell_type": "code",
      "metadata": {
        "colab": {
          "base_uri": "https://localhost:8080/"
        },
        "id": "i8zCLnThd5tf",
        "outputId": "2f1f0d2a-a992-468f-b7dc-e2dadfe6142f"
      },
      "source": [
        "model = Sequential()\n",
        "# In following line of code,128 is LSTM output.We set\"return_sequences=True\" because we require hidden state for each of our input data otherwise it will return\n",
        "#only one hidden state for all the input data.it is time series data so we need to have hidde state for each and every observation.\n",
        "model.add(LSTM(128,input_shape=(win_length,num_features),return_sequences=True))\n",
        "model.add(LeakyReLU(alpha=0.5))\n",
        "model.add(LSTM(128, return_sequences=True))\n",
        "model.add(LeakyReLU(alpha=0.5))\n",
        "model.add(Dropout(0.3))\n",
        "model.add(LSTM(64, return_sequences=False))# return only single hidden state. If we want to further use other layers before final layer we can set it equel to true.\n",
        "model.add(Dropout(0.3))\n",
        "model.add(tf.keras.layers.Dense(1))\n",
        "print(model.summary())"
      ],
      "execution_count": 104,
      "outputs": [
        {
          "output_type": "stream",
          "text": [
            "Model: \"sequential\"\n",
            "_________________________________________________________________\n",
            "Layer (type)                 Output Shape              Param #   \n",
            "=================================================================\n",
            "lstm (LSTM)                  (None, 1, 128)            67072     \n",
            "_________________________________________________________________\n",
            "leaky_re_lu (LeakyReLU)      (None, 1, 128)            0         \n",
            "_________________________________________________________________\n",
            "lstm_1 (LSTM)                (None, 1, 128)            131584    \n",
            "_________________________________________________________________\n",
            "leaky_re_lu_1 (LeakyReLU)    (None, 1, 128)            0         \n",
            "_________________________________________________________________\n",
            "dropout (Dropout)            (None, 1, 128)            0         \n",
            "_________________________________________________________________\n",
            "lstm_2 (LSTM)                (None, 64)                49408     \n",
            "_________________________________________________________________\n",
            "dropout_1 (Dropout)          (None, 64)                0         \n",
            "_________________________________________________________________\n",
            "dense (Dense)                (None, 1)                 65        \n",
            "=================================================================\n",
            "Total params: 248,129\n",
            "Trainable params: 248,129\n",
            "Non-trainable params: 0\n",
            "_________________________________________________________________\n",
            "None\n"
          ],
          "name": "stdout"
        }
      ]
    },
    {
      "cell_type": "code",
      "metadata": {
        "id": "cKpUMk1mZBYo"
      },
      "source": [
        "# Early stopping is if our validation loss is not improving then it will stop the training earlier.it will observe 2 iterations for validation loss improvement.\n",
        "#earl_stop=EarlyStopping(monitor=\"val_loss\",patience=10,mode='min')"
      ],
      "execution_count": 113,
      "outputs": []
    },
    {
      "cell_type": "code",
      "metadata": {
        "id": "fABN0W4w8F3u"
      },
      "source": [
        "#Compiling the model\n",
        "#model.compile(loss='mse', optimizer='adam', metrics=['mae'])\n",
        "#or\n",
        "#model.compile(loss = MeanSquaredError(), optimizer=Adam(),metrics =[MeanAbsoluteError()])"
      ],
      "execution_count": 114,
      "outputs": []
    },
    {
      "cell_type": "markdown",
      "metadata": {
        "id": "1QbQkd6Cwvr1"
      },
      "source": [
        "### 7-Model Training "
      ]
    },
    {
      "cell_type": "code",
      "metadata": {
        "id": "a_LpEVrG96bP"
      },
      "source": [
        "#epochs=100\n",
        "#Training our model\n",
        "#history=model.fit_generator(train_generator,epochs=epochs,validation_data=test_generator,shuffle=False,callbacks=earl_stop)"
      ],
      "execution_count": 115,
      "outputs": []
    },
    {
      "cell_type": "code",
      "metadata": {
        "id": "yuRUeWQCJ1c-"
      },
      "source": [
        "#saving the model\n",
        "\n",
        "#model_json = model.to_json()\n",
        "#with open(\"model_final.json\", \"w\") as json_file:\n",
        "#    json_file.write(model_json)\n",
        "#model.save_weights(\"final_model.h5\")"
      ],
      "execution_count": 116,
      "outputs": []
    },
    {
      "cell_type": "markdown",
      "metadata": {
        "id": "X7pWOdfJw75n"
      },
      "source": [
        "### 8-Model Evaluation and Prediction"
      ]
    },
    {
      "cell_type": "code",
      "metadata": {
        "id": "3tjhsIyaIXeK"
      },
      "source": [
        "#model.evaluate(test_generator,verbose=0)# checking the performance of our model"
      ],
      "execution_count": 117,
      "outputs": []
    },
    {
      "cell_type": "code",
      "metadata": {
        "id": "_2tfa73g98Pq"
      },
      "source": [
        "#predict=model.predict_generator(test_generator)"
      ],
      "execution_count": 118,
      "outputs": []
    },
    {
      "cell_type": "code",
      "metadata": {
        "id": "Y5qb1UILJXxH"
      },
      "source": [
        "#predict"
      ],
      "execution_count": 119,
      "outputs": []
    },
    {
      "cell_type": "code",
      "metadata": {
        "id": "C1aPxSM2IMLN"
      },
      "source": [
        ""
      ],
      "execution_count": 111,
      "outputs": []
    }
  ]
}