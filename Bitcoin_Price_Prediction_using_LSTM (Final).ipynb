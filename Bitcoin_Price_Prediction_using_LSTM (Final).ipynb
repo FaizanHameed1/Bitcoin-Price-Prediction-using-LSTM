{
  "nbformat": 4,
  "nbformat_minor": 0,
  "metadata": {
    "colab": {
      "name": "Bitcoin_Price_Prediction_using_LSTM.ipynb",
      "provenance": [],
      "collapsed_sections": [
        "1QbQkd6Cwvr1",
        "X7pWOdfJw75n"
      ]
    },
    "kernelspec": {
      "display_name": "Python 3",
      "name": "python3"
    },
    "language_info": {
      "name": "python"
    }
  },
  "cells": [
    {
      "cell_type": "markdown",
      "metadata": {
        "id": "evxj30vm1ulu"
      },
      "source": [
        "# Predicting Bitcoin Price Using LSTM"
      ]
    },
    {
      "cell_type": "markdown",
      "metadata": {
        "id": "3_Tzm6bs2E0q"
      },
      "source": [
        "## Faizan Hameed"
      ]
    },
    {
      "cell_type": "markdown",
      "metadata": {
        "id": "T-t3yCmw2S0b"
      },
      "source": [
        "### 1-Downloading Dataset in Google Drive"
      ]
    },
    {
      "cell_type": "code",
      "metadata": {
        "colab": {
          "base_uri": "https://localhost:8080/"
        },
        "id": "LgnkxQaepaLI",
        "outputId": "9ea95483-db16-43e3-ca38-a5fb96b3df67"
      },
      "source": [
        "from google.colab import drive\n",
        "drive.mount('/content/gdrive')"
      ],
      "execution_count": 472,
      "outputs": [
        {
          "output_type": "stream",
          "text": [
            "Drive already mounted at /content/gdrive; to attempt to forcibly remount, call drive.mount(\"/content/gdrive\", force_remount=True).\n"
          ],
          "name": "stdout"
        }
      ]
    },
    {
      "cell_type": "code",
      "metadata": {
        "id": "W_abLteJs3uk"
      },
      "source": [
        "#Run only 1st time\n",
        "#import os\n",
        "#os.environ['KAGGLE_CONFIG_DIR'] = \"/content/gdrive/My Drive/Kaggle\""
      ],
      "execution_count": 473,
      "outputs": []
    },
    {
      "cell_type": "code",
      "metadata": {
        "colab": {
          "base_uri": "https://localhost:8080/"
        },
        "id": "CjeQ7vhOtGcp",
        "outputId": "666c075a-4117-4bcd-d8a8-51bad1412411"
      },
      "source": [
        "#changing the working directory\n",
        "%cd /content/gdrive/My Drive/Kaggle"
      ],
      "execution_count": 474,
      "outputs": [
        {
          "output_type": "stream",
          "text": [
            "/content/gdrive/My Drive/Kaggle\n"
          ],
          "name": "stdout"
        }
      ]
    },
    {
      "cell_type": "code",
      "metadata": {
        "colab": {
          "base_uri": "https://localhost:8080/",
          "height": 35
        },
        "id": "drwACzjytSWx",
        "outputId": "8464fb9a-e886-454e-b35e-d45349822677"
      },
      "source": [
        "#Check the present working directory\n",
        "import os\n",
        "os.getcwd() \n"
      ],
      "execution_count": 475,
      "outputs": [
        {
          "output_type": "execute_result",
          "data": {
            "application/vnd.google.colaboratory.intrinsic+json": {
              "type": "string"
            },
            "text/plain": [
              "'/content/gdrive/My Drive/Kaggle'"
            ]
          },
          "metadata": {
            "tags": []
          },
          "execution_count": 475
        }
      ]
    },
    {
      "cell_type": "code",
      "metadata": {
        "id": "FPuQbIjwtqAq"
      },
      "source": [
        "#Run this cell only 1st time to download the dataset in spacified directory \n",
        "# Copy the API command from Kaggle Dataset and paste(using !) to download the data\n",
        "#!kaggle datasets download -d mczielinski/bitcoin-historical-data"
      ],
      "execution_count": 476,
      "outputs": []
    },
    {
      "cell_type": "code",
      "metadata": {
        "colab": {
          "base_uri": "https://localhost:8080/"
        },
        "id": "IELJ7uJLzmYT",
        "outputId": "c218f5ff-a6be-4eda-afc5-8f14513e1009"
      },
      "source": [
        "#check the content in our directory\n",
        "!ls"
      ],
      "execution_count": 477,
      "outputs": [
        {
          "output_type": "stream",
          "text": [
            "BC_Data.csv  coin_Bitcoin.csv  final_model.h5  kaggle.json  model_final.json\n"
          ],
          "name": "stdout"
        }
      ]
    },
    {
      "cell_type": "code",
      "metadata": {
        "id": "x9FYs9Sfz7e8"
      },
      "source": [
        "#Run only once to unzip the Dataset\n",
        "#unzipping the zip files and deleting the zip files\n",
        "#!unzip \\*.zip  && rm *.zip"
      ],
      "execution_count": 478,
      "outputs": []
    },
    {
      "cell_type": "markdown",
      "metadata": {
        "id": "AEygCGE_3OLt"
      },
      "source": [
        "### 2-Importing Libraries "
      ]
    },
    {
      "cell_type": "code",
      "metadata": {
        "id": "fGl-nlU803Fe"
      },
      "source": [
        "import pandas as pd\n",
        "import numpy as np\n",
        "from scipy import stats\n",
        "import matplotlib.pyplot as plt\n",
        "import seaborn as sns\n",
        "from sklearn.preprocessing import MinMaxScaler,StandardScaler\n",
        "from sklearn.model_selection import train_test_split\n",
        "import tensorflow as tf\n",
        "from keras.models import Sequential\n",
        "from keras.layers import LSTM, Dropout, LeakyReLU,Dense\n",
        "from keras.preprocessing.sequence import TimeseriesGenerator\n",
        "from keras.callbacks import EarlyStopping\n",
        "from keras.losses import MeanSquaredError\n",
        "from keras.optimizers import Adam\n",
        "from keras.losses import MeanAbsoluteError\n",
        "from keras.models import model_from_json\n",
        "from scipy import stats\n",
        "from statsmodels.tsa.stattools import adfuller\n",
        "%matplotlib inline"
      ],
      "execution_count": 479,
      "outputs": []
    },
    {
      "cell_type": "markdown",
      "metadata": {
        "id": "9ZFoZI4yuqqg"
      },
      "source": [
        "### 3- Importing dataset"
      ]
    },
    {
      "cell_type": "code",
      "metadata": {
        "colab": {
          "base_uri": "https://localhost:8080/",
          "height": 221
        },
        "id": "MSk3T--KtDu5",
        "outputId": "04cb7c9f-0151-424e-bb19-4e80fd43fd19"
      },
      "source": [
        "data_frame=pd.read_csv('BC_Data.csv')\n",
        "print('1st 5 rows')\n",
        "data_frame.head(5)\n",
        "\n",
        "\n"
      ],
      "execution_count": 480,
      "outputs": [
        {
          "output_type": "stream",
          "text": [
            "1st 5 rows\n"
          ],
          "name": "stdout"
        },
        {
          "output_type": "execute_result",
          "data": {
            "text/html": [
              "<div>\n",
              "<style scoped>\n",
              "    .dataframe tbody tr th:only-of-type {\n",
              "        vertical-align: middle;\n",
              "    }\n",
              "\n",
              "    .dataframe tbody tr th {\n",
              "        vertical-align: top;\n",
              "    }\n",
              "\n",
              "    .dataframe thead th {\n",
              "        text-align: right;\n",
              "    }\n",
              "</style>\n",
              "<table border=\"1\" class=\"dataframe\">\n",
              "  <thead>\n",
              "    <tr style=\"text-align: right;\">\n",
              "      <th></th>\n",
              "      <th>Timestamp</th>\n",
              "      <th>Open</th>\n",
              "      <th>High</th>\n",
              "      <th>Low</th>\n",
              "      <th>Close</th>\n",
              "      <th>Volume_(BTC)</th>\n",
              "      <th>Volume_(Currency)</th>\n",
              "      <th>Weighted_Price</th>\n",
              "    </tr>\n",
              "  </thead>\n",
              "  <tbody>\n",
              "    <tr>\n",
              "      <th>0</th>\n",
              "      <td>1325317920</td>\n",
              "      <td>4.39</td>\n",
              "      <td>4.39</td>\n",
              "      <td>4.39</td>\n",
              "      <td>4.39</td>\n",
              "      <td>0.455581</td>\n",
              "      <td>2.0</td>\n",
              "      <td>4.39</td>\n",
              "    </tr>\n",
              "    <tr>\n",
              "      <th>1</th>\n",
              "      <td>1325317980</td>\n",
              "      <td>NaN</td>\n",
              "      <td>NaN</td>\n",
              "      <td>NaN</td>\n",
              "      <td>NaN</td>\n",
              "      <td>NaN</td>\n",
              "      <td>NaN</td>\n",
              "      <td>NaN</td>\n",
              "    </tr>\n",
              "    <tr>\n",
              "      <th>2</th>\n",
              "      <td>1325318040</td>\n",
              "      <td>NaN</td>\n",
              "      <td>NaN</td>\n",
              "      <td>NaN</td>\n",
              "      <td>NaN</td>\n",
              "      <td>NaN</td>\n",
              "      <td>NaN</td>\n",
              "      <td>NaN</td>\n",
              "    </tr>\n",
              "    <tr>\n",
              "      <th>3</th>\n",
              "      <td>1325318100</td>\n",
              "      <td>NaN</td>\n",
              "      <td>NaN</td>\n",
              "      <td>NaN</td>\n",
              "      <td>NaN</td>\n",
              "      <td>NaN</td>\n",
              "      <td>NaN</td>\n",
              "      <td>NaN</td>\n",
              "    </tr>\n",
              "    <tr>\n",
              "      <th>4</th>\n",
              "      <td>1325318160</td>\n",
              "      <td>NaN</td>\n",
              "      <td>NaN</td>\n",
              "      <td>NaN</td>\n",
              "      <td>NaN</td>\n",
              "      <td>NaN</td>\n",
              "      <td>NaN</td>\n",
              "      <td>NaN</td>\n",
              "    </tr>\n",
              "  </tbody>\n",
              "</table>\n",
              "</div>"
            ],
            "text/plain": [
              "    Timestamp  Open  High  ...  Volume_(BTC)  Volume_(Currency)  Weighted_Price\n",
              "0  1325317920  4.39  4.39  ...      0.455581                2.0            4.39\n",
              "1  1325317980   NaN   NaN  ...           NaN                NaN             NaN\n",
              "2  1325318040   NaN   NaN  ...           NaN                NaN             NaN\n",
              "3  1325318100   NaN   NaN  ...           NaN                NaN             NaN\n",
              "4  1325318160   NaN   NaN  ...           NaN                NaN             NaN\n",
              "\n",
              "[5 rows x 8 columns]"
            ]
          },
          "metadata": {
            "tags": []
          },
          "execution_count": 480
        }
      ]
    },
    {
      "cell_type": "code",
      "metadata": {
        "id": "8UkB_Kqia6gp"
      },
      "source": [
        "d_frame=data_frame[600000:] # we are selecting data after 600000 rows. Before it the data have not much information"
      ],
      "execution_count": 481,
      "outputs": []
    },
    {
      "cell_type": "code",
      "metadata": {
        "colab": {
          "base_uri": "https://localhost:8080/"
        },
        "id": "h9Gqaor3ujq5",
        "outputId": "bfc8ffcb-32f8-49cb-8584-235f5eb7e539"
      },
      "source": [
        "d_frame.shape # No of rows and columns in this dataframe "
      ],
      "execution_count": 482,
      "outputs": [
        {
          "output_type": "execute_result",
          "data": {
            "text/plain": [
              "(4257377, 8)"
            ]
          },
          "metadata": {
            "tags": []
          },
          "execution_count": 482
        }
      ]
    },
    {
      "cell_type": "markdown",
      "metadata": {
        "id": "fdehHX45vONB"
      },
      "source": [
        "### 4-Data Cleaning"
      ]
    },
    {
      "cell_type": "markdown",
      "metadata": {
        "id": "j5p2dvINrh0e"
      },
      "source": [
        "We are going to convert time stemp to date."
      ]
    },
    {
      "cell_type": "code",
      "metadata": {
        "colab": {
          "base_uri": "https://localhost:8080/",
          "height": 306
        },
        "id": "42wL8INou3L3",
        "outputId": "6af14cd4-47db-4f15-ffda-1c8fd6c13db0"
      },
      "source": [
        "d_frame[\"Timestamp\"]=pd.to_datetime(d_frame['Timestamp'],unit='s').dt.date #We converted in time stamp format\n",
        "#d_frame = d_frame.set_index(['Timestamp']) #If we want to set \"Timestamp\" as index.\n",
        "d_frame.head(5)"
      ],
      "execution_count": 483,
      "outputs": [
        {
          "output_type": "stream",
          "text": [
            "/usr/local/lib/python3.7/dist-packages/ipykernel_launcher.py:1: SettingWithCopyWarning: \n",
            "A value is trying to be set on a copy of a slice from a DataFrame.\n",
            "Try using .loc[row_indexer,col_indexer] = value instead\n",
            "\n",
            "See the caveats in the documentation: https://pandas.pydata.org/pandas-docs/stable/user_guide/indexing.html#returning-a-view-versus-a-copy\n",
            "  \"\"\"Entry point for launching an IPython kernel.\n"
          ],
          "name": "stderr"
        },
        {
          "output_type": "execute_result",
          "data": {
            "text/html": [
              "<div>\n",
              "<style scoped>\n",
              "    .dataframe tbody tr th:only-of-type {\n",
              "        vertical-align: middle;\n",
              "    }\n",
              "\n",
              "    .dataframe tbody tr th {\n",
              "        vertical-align: top;\n",
              "    }\n",
              "\n",
              "    .dataframe thead th {\n",
              "        text-align: right;\n",
              "    }\n",
              "</style>\n",
              "<table border=\"1\" class=\"dataframe\">\n",
              "  <thead>\n",
              "    <tr style=\"text-align: right;\">\n",
              "      <th></th>\n",
              "      <th>Timestamp</th>\n",
              "      <th>Open</th>\n",
              "      <th>High</th>\n",
              "      <th>Low</th>\n",
              "      <th>Close</th>\n",
              "      <th>Volume_(BTC)</th>\n",
              "      <th>Volume_(Currency)</th>\n",
              "      <th>Weighted_Price</th>\n",
              "    </tr>\n",
              "  </thead>\n",
              "  <tbody>\n",
              "    <tr>\n",
              "      <th>600000</th>\n",
              "      <td>2013-02-19</td>\n",
              "      <td>29.39</td>\n",
              "      <td>29.39</td>\n",
              "      <td>29.39</td>\n",
              "      <td>29.39</td>\n",
              "      <td>1.0</td>\n",
              "      <td>29.39</td>\n",
              "      <td>29.39</td>\n",
              "    </tr>\n",
              "    <tr>\n",
              "      <th>600001</th>\n",
              "      <td>2013-02-19</td>\n",
              "      <td>NaN</td>\n",
              "      <td>NaN</td>\n",
              "      <td>NaN</td>\n",
              "      <td>NaN</td>\n",
              "      <td>NaN</td>\n",
              "      <td>NaN</td>\n",
              "      <td>NaN</td>\n",
              "    </tr>\n",
              "    <tr>\n",
              "      <th>600002</th>\n",
              "      <td>2013-02-19</td>\n",
              "      <td>NaN</td>\n",
              "      <td>NaN</td>\n",
              "      <td>NaN</td>\n",
              "      <td>NaN</td>\n",
              "      <td>NaN</td>\n",
              "      <td>NaN</td>\n",
              "      <td>NaN</td>\n",
              "    </tr>\n",
              "    <tr>\n",
              "      <th>600003</th>\n",
              "      <td>2013-02-19</td>\n",
              "      <td>NaN</td>\n",
              "      <td>NaN</td>\n",
              "      <td>NaN</td>\n",
              "      <td>NaN</td>\n",
              "      <td>NaN</td>\n",
              "      <td>NaN</td>\n",
              "      <td>NaN</td>\n",
              "    </tr>\n",
              "    <tr>\n",
              "      <th>600004</th>\n",
              "      <td>2013-02-19</td>\n",
              "      <td>29.39</td>\n",
              "      <td>29.39</td>\n",
              "      <td>29.39</td>\n",
              "      <td>29.39</td>\n",
              "      <td>2.0</td>\n",
              "      <td>58.78</td>\n",
              "      <td>29.39</td>\n",
              "    </tr>\n",
              "  </tbody>\n",
              "</table>\n",
              "</div>"
            ],
            "text/plain": [
              "         Timestamp   Open  ...  Volume_(Currency)  Weighted_Price\n",
              "600000  2013-02-19  29.39  ...              29.39           29.39\n",
              "600001  2013-02-19    NaN  ...                NaN             NaN\n",
              "600002  2013-02-19    NaN  ...                NaN             NaN\n",
              "600003  2013-02-19    NaN  ...                NaN             NaN\n",
              "600004  2013-02-19  29.39  ...              58.78           29.39\n",
              "\n",
              "[5 rows x 8 columns]"
            ]
          },
          "metadata": {
            "tags": []
          },
          "execution_count": 483
        }
      ]
    },
    {
      "cell_type": "code",
      "metadata": {
        "colab": {
          "base_uri": "https://localhost:8080/",
          "height": 221
        },
        "id": "VmEM4fHztAsb",
        "outputId": "8db414be-f5bf-4230-c2ed-5ea91440ab9b"
      },
      "source": [
        "print('last 5 rows')\n",
        "d_frame.tail(5)"
      ],
      "execution_count": 484,
      "outputs": [
        {
          "output_type": "stream",
          "text": [
            "last 5 rows\n"
          ],
          "name": "stdout"
        },
        {
          "output_type": "execute_result",
          "data": {
            "text/html": [
              "<div>\n",
              "<style scoped>\n",
              "    .dataframe tbody tr th:only-of-type {\n",
              "        vertical-align: middle;\n",
              "    }\n",
              "\n",
              "    .dataframe tbody tr th {\n",
              "        vertical-align: top;\n",
              "    }\n",
              "\n",
              "    .dataframe thead th {\n",
              "        text-align: right;\n",
              "    }\n",
              "</style>\n",
              "<table border=\"1\" class=\"dataframe\">\n",
              "  <thead>\n",
              "    <tr style=\"text-align: right;\">\n",
              "      <th></th>\n",
              "      <th>Timestamp</th>\n",
              "      <th>Open</th>\n",
              "      <th>High</th>\n",
              "      <th>Low</th>\n",
              "      <th>Close</th>\n",
              "      <th>Volume_(BTC)</th>\n",
              "      <th>Volume_(Currency)</th>\n",
              "      <th>Weighted_Price</th>\n",
              "    </tr>\n",
              "  </thead>\n",
              "  <tbody>\n",
              "    <tr>\n",
              "      <th>4857372</th>\n",
              "      <td>2021-03-30</td>\n",
              "      <td>58714.31</td>\n",
              "      <td>58714.31</td>\n",
              "      <td>58686.00</td>\n",
              "      <td>58686.00</td>\n",
              "      <td>1.384487</td>\n",
              "      <td>81259.372187</td>\n",
              "      <td>58692.753339</td>\n",
              "    </tr>\n",
              "    <tr>\n",
              "      <th>4857373</th>\n",
              "      <td>2021-03-30</td>\n",
              "      <td>58683.97</td>\n",
              "      <td>58693.43</td>\n",
              "      <td>58683.97</td>\n",
              "      <td>58685.81</td>\n",
              "      <td>7.294848</td>\n",
              "      <td>428158.146640</td>\n",
              "      <td>58693.226508</td>\n",
              "    </tr>\n",
              "    <tr>\n",
              "      <th>4857374</th>\n",
              "      <td>2021-03-30</td>\n",
              "      <td>58693.43</td>\n",
              "      <td>58723.84</td>\n",
              "      <td>58693.43</td>\n",
              "      <td>58723.84</td>\n",
              "      <td>1.705682</td>\n",
              "      <td>100117.070370</td>\n",
              "      <td>58696.198496</td>\n",
              "    </tr>\n",
              "    <tr>\n",
              "      <th>4857375</th>\n",
              "      <td>2021-03-30</td>\n",
              "      <td>58742.18</td>\n",
              "      <td>58770.38</td>\n",
              "      <td>58742.18</td>\n",
              "      <td>58760.59</td>\n",
              "      <td>0.720415</td>\n",
              "      <td>42332.958633</td>\n",
              "      <td>58761.866202</td>\n",
              "    </tr>\n",
              "    <tr>\n",
              "      <th>4857376</th>\n",
              "      <td>2021-03-31</td>\n",
              "      <td>58767.75</td>\n",
              "      <td>58778.18</td>\n",
              "      <td>58755.97</td>\n",
              "      <td>58778.18</td>\n",
              "      <td>2.712831</td>\n",
              "      <td>159417.751000</td>\n",
              "      <td>58764.349363</td>\n",
              "    </tr>\n",
              "  </tbody>\n",
              "</table>\n",
              "</div>"
            ],
            "text/plain": [
              "          Timestamp      Open  ...  Volume_(Currency)  Weighted_Price\n",
              "4857372  2021-03-30  58714.31  ...       81259.372187    58692.753339\n",
              "4857373  2021-03-30  58683.97  ...      428158.146640    58693.226508\n",
              "4857374  2021-03-30  58693.43  ...      100117.070370    58696.198496\n",
              "4857375  2021-03-30  58742.18  ...       42332.958633    58761.866202\n",
              "4857376  2021-03-31  58767.75  ...      159417.751000    58764.349363\n",
              "\n",
              "[5 rows x 8 columns]"
            ]
          },
          "metadata": {
            "tags": []
          },
          "execution_count": 484
        }
      ]
    },
    {
      "cell_type": "markdown",
      "metadata": {
        "id": "5SSTzNmjuRcL"
      },
      "source": [
        "We can see that our data is upto date."
      ]
    },
    {
      "cell_type": "code",
      "metadata": {
        "colab": {
          "base_uri": "https://localhost:8080/"
        },
        "id": "69IKt4kTUvGz",
        "outputId": "26dcefbc-30ea-44a6-d642-1ac8c97a42dc"
      },
      "source": [
        "d_frame.shape # No of rows and columns in this dataframe "
      ],
      "execution_count": 485,
      "outputs": [
        {
          "output_type": "execute_result",
          "data": {
            "text/plain": [
              "(4257377, 8)"
            ]
          },
          "metadata": {
            "tags": []
          },
          "execution_count": 485
        }
      ]
    },
    {
      "cell_type": "markdown",
      "metadata": {
        "id": "72EHexr2Pnzo"
      },
      "source": [
        "Now we are going to remove all un necessary columns."
      ]
    },
    {
      "cell_type": "code",
      "metadata": {
        "colab": {
          "base_uri": "https://localhost:8080/"
        },
        "id": "nsu_KgwoPmDu",
        "outputId": "7d9e3721-461a-493d-a59e-4c89c0ace38f"
      },
      "source": [
        "d_frame.columns"
      ],
      "execution_count": 486,
      "outputs": [
        {
          "output_type": "execute_result",
          "data": {
            "text/plain": [
              "Index(['Timestamp', 'Open', 'High', 'Low', 'Close', 'Volume_(BTC)',\n",
              "       'Volume_(Currency)', 'Weighted_Price'],\n",
              "      dtype='object')"
            ]
          },
          "metadata": {
            "tags": []
          },
          "execution_count": 486
        }
      ]
    },
    {
      "cell_type": "code",
      "metadata": {
        "colab": {
          "base_uri": "https://localhost:8080/",
          "height": 504
        },
        "id": "rVaM9ILgWJCg",
        "outputId": "78cd9f91-704e-4f6a-fc8a-b15b8be49d4c"
      },
      "source": [
        "d_frame.drop(['Open',\"High\",'Low','Close'] , inplace=True, axis=1)\n",
        "d_frame"
      ],
      "execution_count": 487,
      "outputs": [
        {
          "output_type": "stream",
          "text": [
            "/usr/local/lib/python3.7/dist-packages/pandas/core/frame.py:4174: SettingWithCopyWarning: \n",
            "A value is trying to be set on a copy of a slice from a DataFrame\n",
            "\n",
            "See the caveats in the documentation: https://pandas.pydata.org/pandas-docs/stable/user_guide/indexing.html#returning-a-view-versus-a-copy\n",
            "  errors=errors,\n"
          ],
          "name": "stderr"
        },
        {
          "output_type": "execute_result",
          "data": {
            "text/html": [
              "<div>\n",
              "<style scoped>\n",
              "    .dataframe tbody tr th:only-of-type {\n",
              "        vertical-align: middle;\n",
              "    }\n",
              "\n",
              "    .dataframe tbody tr th {\n",
              "        vertical-align: top;\n",
              "    }\n",
              "\n",
              "    .dataframe thead th {\n",
              "        text-align: right;\n",
              "    }\n",
              "</style>\n",
              "<table border=\"1\" class=\"dataframe\">\n",
              "  <thead>\n",
              "    <tr style=\"text-align: right;\">\n",
              "      <th></th>\n",
              "      <th>Timestamp</th>\n",
              "      <th>Volume_(BTC)</th>\n",
              "      <th>Volume_(Currency)</th>\n",
              "      <th>Weighted_Price</th>\n",
              "    </tr>\n",
              "  </thead>\n",
              "  <tbody>\n",
              "    <tr>\n",
              "      <th>600000</th>\n",
              "      <td>2013-02-19</td>\n",
              "      <td>1.000000</td>\n",
              "      <td>29.390000</td>\n",
              "      <td>29.390000</td>\n",
              "    </tr>\n",
              "    <tr>\n",
              "      <th>600001</th>\n",
              "      <td>2013-02-19</td>\n",
              "      <td>NaN</td>\n",
              "      <td>NaN</td>\n",
              "      <td>NaN</td>\n",
              "    </tr>\n",
              "    <tr>\n",
              "      <th>600002</th>\n",
              "      <td>2013-02-19</td>\n",
              "      <td>NaN</td>\n",
              "      <td>NaN</td>\n",
              "      <td>NaN</td>\n",
              "    </tr>\n",
              "    <tr>\n",
              "      <th>600003</th>\n",
              "      <td>2013-02-19</td>\n",
              "      <td>NaN</td>\n",
              "      <td>NaN</td>\n",
              "      <td>NaN</td>\n",
              "    </tr>\n",
              "    <tr>\n",
              "      <th>600004</th>\n",
              "      <td>2013-02-19</td>\n",
              "      <td>2.000000</td>\n",
              "      <td>58.780000</td>\n",
              "      <td>29.390000</td>\n",
              "    </tr>\n",
              "    <tr>\n",
              "      <th>...</th>\n",
              "      <td>...</td>\n",
              "      <td>...</td>\n",
              "      <td>...</td>\n",
              "      <td>...</td>\n",
              "    </tr>\n",
              "    <tr>\n",
              "      <th>4857372</th>\n",
              "      <td>2021-03-30</td>\n",
              "      <td>1.384487</td>\n",
              "      <td>81259.372187</td>\n",
              "      <td>58692.753339</td>\n",
              "    </tr>\n",
              "    <tr>\n",
              "      <th>4857373</th>\n",
              "      <td>2021-03-30</td>\n",
              "      <td>7.294848</td>\n",
              "      <td>428158.146640</td>\n",
              "      <td>58693.226508</td>\n",
              "    </tr>\n",
              "    <tr>\n",
              "      <th>4857374</th>\n",
              "      <td>2021-03-30</td>\n",
              "      <td>1.705682</td>\n",
              "      <td>100117.070370</td>\n",
              "      <td>58696.198496</td>\n",
              "    </tr>\n",
              "    <tr>\n",
              "      <th>4857375</th>\n",
              "      <td>2021-03-30</td>\n",
              "      <td>0.720415</td>\n",
              "      <td>42332.958633</td>\n",
              "      <td>58761.866202</td>\n",
              "    </tr>\n",
              "    <tr>\n",
              "      <th>4857376</th>\n",
              "      <td>2021-03-31</td>\n",
              "      <td>2.712831</td>\n",
              "      <td>159417.751000</td>\n",
              "      <td>58764.349363</td>\n",
              "    </tr>\n",
              "  </tbody>\n",
              "</table>\n",
              "<p>4257377 rows × 4 columns</p>\n",
              "</div>"
            ],
            "text/plain": [
              "          Timestamp  Volume_(BTC)  Volume_(Currency)  Weighted_Price\n",
              "600000   2013-02-19      1.000000          29.390000       29.390000\n",
              "600001   2013-02-19           NaN                NaN             NaN\n",
              "600002   2013-02-19           NaN                NaN             NaN\n",
              "600003   2013-02-19           NaN                NaN             NaN\n",
              "600004   2013-02-19      2.000000          58.780000       29.390000\n",
              "...             ...           ...                ...             ...\n",
              "4857372  2021-03-30      1.384487       81259.372187    58692.753339\n",
              "4857373  2021-03-30      7.294848      428158.146640    58693.226508\n",
              "4857374  2021-03-30      1.705682      100117.070370    58696.198496\n",
              "4857375  2021-03-30      0.720415       42332.958633    58761.866202\n",
              "4857376  2021-03-31      2.712831      159417.751000    58764.349363\n",
              "\n",
              "[4257377 rows x 4 columns]"
            ]
          },
          "metadata": {
            "tags": []
          },
          "execution_count": 487
        }
      ]
    },
    {
      "cell_type": "code",
      "metadata": {
        "colab": {
          "base_uri": "https://localhost:8080/",
          "height": 444
        },
        "id": "gnjSsLhMc_1f",
        "outputId": "c7b80974-5cdb-4b71-b08d-e588e8721411"
      },
      "source": [
        "#Renaming Column \"Weighted_Price\"\n",
        "d_frame.rename(columns={'Weighted_Price': 'Bitcoin_Price'}, inplace=True)\n",
        "d_frame.head(10)"
      ],
      "execution_count": 488,
      "outputs": [
        {
          "output_type": "stream",
          "text": [
            "/usr/local/lib/python3.7/dist-packages/pandas/core/frame.py:4308: SettingWithCopyWarning: \n",
            "A value is trying to be set on a copy of a slice from a DataFrame\n",
            "\n",
            "See the caveats in the documentation: https://pandas.pydata.org/pandas-docs/stable/user_guide/indexing.html#returning-a-view-versus-a-copy\n",
            "  errors=errors,\n"
          ],
          "name": "stderr"
        },
        {
          "output_type": "execute_result",
          "data": {
            "text/html": [
              "<div>\n",
              "<style scoped>\n",
              "    .dataframe tbody tr th:only-of-type {\n",
              "        vertical-align: middle;\n",
              "    }\n",
              "\n",
              "    .dataframe tbody tr th {\n",
              "        vertical-align: top;\n",
              "    }\n",
              "\n",
              "    .dataframe thead th {\n",
              "        text-align: right;\n",
              "    }\n",
              "</style>\n",
              "<table border=\"1\" class=\"dataframe\">\n",
              "  <thead>\n",
              "    <tr style=\"text-align: right;\">\n",
              "      <th></th>\n",
              "      <th>Timestamp</th>\n",
              "      <th>Volume_(BTC)</th>\n",
              "      <th>Volume_(Currency)</th>\n",
              "      <th>Bitcoin_Price</th>\n",
              "    </tr>\n",
              "  </thead>\n",
              "  <tbody>\n",
              "    <tr>\n",
              "      <th>600000</th>\n",
              "      <td>2013-02-19</td>\n",
              "      <td>1.00000</td>\n",
              "      <td>29.390000</td>\n",
              "      <td>29.39</td>\n",
              "    </tr>\n",
              "    <tr>\n",
              "      <th>600001</th>\n",
              "      <td>2013-02-19</td>\n",
              "      <td>NaN</td>\n",
              "      <td>NaN</td>\n",
              "      <td>NaN</td>\n",
              "    </tr>\n",
              "    <tr>\n",
              "      <th>600002</th>\n",
              "      <td>2013-02-19</td>\n",
              "      <td>NaN</td>\n",
              "      <td>NaN</td>\n",
              "      <td>NaN</td>\n",
              "    </tr>\n",
              "    <tr>\n",
              "      <th>600003</th>\n",
              "      <td>2013-02-19</td>\n",
              "      <td>NaN</td>\n",
              "      <td>NaN</td>\n",
              "      <td>NaN</td>\n",
              "    </tr>\n",
              "    <tr>\n",
              "      <th>600004</th>\n",
              "      <td>2013-02-19</td>\n",
              "      <td>2.00000</td>\n",
              "      <td>58.780000</td>\n",
              "      <td>29.39</td>\n",
              "    </tr>\n",
              "    <tr>\n",
              "      <th>600005</th>\n",
              "      <td>2013-02-19</td>\n",
              "      <td>NaN</td>\n",
              "      <td>NaN</td>\n",
              "      <td>NaN</td>\n",
              "    </tr>\n",
              "    <tr>\n",
              "      <th>600006</th>\n",
              "      <td>2013-02-19</td>\n",
              "      <td>34.48439</td>\n",
              "      <td>1013.496222</td>\n",
              "      <td>29.39</td>\n",
              "    </tr>\n",
              "    <tr>\n",
              "      <th>600007</th>\n",
              "      <td>2013-02-19</td>\n",
              "      <td>NaN</td>\n",
              "      <td>NaN</td>\n",
              "      <td>NaN</td>\n",
              "    </tr>\n",
              "    <tr>\n",
              "      <th>600008</th>\n",
              "      <td>2013-02-20</td>\n",
              "      <td>159.60000</td>\n",
              "      <td>4690.644000</td>\n",
              "      <td>29.39</td>\n",
              "    </tr>\n",
              "    <tr>\n",
              "      <th>600009</th>\n",
              "      <td>2013-02-20</td>\n",
              "      <td>NaN</td>\n",
              "      <td>NaN</td>\n",
              "      <td>NaN</td>\n",
              "    </tr>\n",
              "  </tbody>\n",
              "</table>\n",
              "</div>"
            ],
            "text/plain": [
              "         Timestamp  Volume_(BTC)  Volume_(Currency)  Bitcoin_Price\n",
              "600000  2013-02-19       1.00000          29.390000          29.39\n",
              "600001  2013-02-19           NaN                NaN            NaN\n",
              "600002  2013-02-19           NaN                NaN            NaN\n",
              "600003  2013-02-19           NaN                NaN            NaN\n",
              "600004  2013-02-19       2.00000          58.780000          29.39\n",
              "600005  2013-02-19           NaN                NaN            NaN\n",
              "600006  2013-02-19      34.48439        1013.496222          29.39\n",
              "600007  2013-02-19           NaN                NaN            NaN\n",
              "600008  2013-02-20     159.60000        4690.644000          29.39\n",
              "600009  2013-02-20           NaN                NaN            NaN"
            ]
          },
          "metadata": {
            "tags": []
          },
          "execution_count": 488
        }
      ]
    },
    {
      "cell_type": "code",
      "metadata": {
        "colab": {
          "base_uri": "https://localhost:8080/"
        },
        "id": "g4Ai-DjRJejf",
        "outputId": "7d521100-67f1-4ab2-8519-7f916914def7"
      },
      "source": [
        "d_frame.shape"
      ],
      "execution_count": 489,
      "outputs": [
        {
          "output_type": "execute_result",
          "data": {
            "text/plain": [
              "(4257377, 4)"
            ]
          },
          "metadata": {
            "tags": []
          },
          "execution_count": 489
        }
      ]
    },
    {
      "cell_type": "code",
      "metadata": {
        "colab": {
          "base_uri": "https://localhost:8080/",
          "height": 444
        },
        "id": "1zmwxsbO4xFk",
        "outputId": "d3fe880e-0bc8-4e20-f2a1-d5c9603cd897"
      },
      "source": [
        "# We want to replace missing values i.e \"?\" to Python's default missing value marker \"NaN\"\n",
        "d_frame.replace(\"?\", np.nan, inplace = True)\n",
        "d_frame.head(10)"
      ],
      "execution_count": 490,
      "outputs": [
        {
          "output_type": "stream",
          "text": [
            "/usr/local/lib/python3.7/dist-packages/pandas/core/frame.py:4389: SettingWithCopyWarning: \n",
            "A value is trying to be set on a copy of a slice from a DataFrame\n",
            "\n",
            "See the caveats in the documentation: https://pandas.pydata.org/pandas-docs/stable/user_guide/indexing.html#returning-a-view-versus-a-copy\n",
            "  method=method,\n"
          ],
          "name": "stderr"
        },
        {
          "output_type": "execute_result",
          "data": {
            "text/html": [
              "<div>\n",
              "<style scoped>\n",
              "    .dataframe tbody tr th:only-of-type {\n",
              "        vertical-align: middle;\n",
              "    }\n",
              "\n",
              "    .dataframe tbody tr th {\n",
              "        vertical-align: top;\n",
              "    }\n",
              "\n",
              "    .dataframe thead th {\n",
              "        text-align: right;\n",
              "    }\n",
              "</style>\n",
              "<table border=\"1\" class=\"dataframe\">\n",
              "  <thead>\n",
              "    <tr style=\"text-align: right;\">\n",
              "      <th></th>\n",
              "      <th>Timestamp</th>\n",
              "      <th>Volume_(BTC)</th>\n",
              "      <th>Volume_(Currency)</th>\n",
              "      <th>Bitcoin_Price</th>\n",
              "    </tr>\n",
              "  </thead>\n",
              "  <tbody>\n",
              "    <tr>\n",
              "      <th>600000</th>\n",
              "      <td>2013-02-19</td>\n",
              "      <td>1.00000</td>\n",
              "      <td>29.390000</td>\n",
              "      <td>29.39</td>\n",
              "    </tr>\n",
              "    <tr>\n",
              "      <th>600001</th>\n",
              "      <td>2013-02-19</td>\n",
              "      <td>NaN</td>\n",
              "      <td>NaN</td>\n",
              "      <td>NaN</td>\n",
              "    </tr>\n",
              "    <tr>\n",
              "      <th>600002</th>\n",
              "      <td>2013-02-19</td>\n",
              "      <td>NaN</td>\n",
              "      <td>NaN</td>\n",
              "      <td>NaN</td>\n",
              "    </tr>\n",
              "    <tr>\n",
              "      <th>600003</th>\n",
              "      <td>2013-02-19</td>\n",
              "      <td>NaN</td>\n",
              "      <td>NaN</td>\n",
              "      <td>NaN</td>\n",
              "    </tr>\n",
              "    <tr>\n",
              "      <th>600004</th>\n",
              "      <td>2013-02-19</td>\n",
              "      <td>2.00000</td>\n",
              "      <td>58.780000</td>\n",
              "      <td>29.39</td>\n",
              "    </tr>\n",
              "    <tr>\n",
              "      <th>600005</th>\n",
              "      <td>2013-02-19</td>\n",
              "      <td>NaN</td>\n",
              "      <td>NaN</td>\n",
              "      <td>NaN</td>\n",
              "    </tr>\n",
              "    <tr>\n",
              "      <th>600006</th>\n",
              "      <td>2013-02-19</td>\n",
              "      <td>34.48439</td>\n",
              "      <td>1013.496222</td>\n",
              "      <td>29.39</td>\n",
              "    </tr>\n",
              "    <tr>\n",
              "      <th>600007</th>\n",
              "      <td>2013-02-19</td>\n",
              "      <td>NaN</td>\n",
              "      <td>NaN</td>\n",
              "      <td>NaN</td>\n",
              "    </tr>\n",
              "    <tr>\n",
              "      <th>600008</th>\n",
              "      <td>2013-02-20</td>\n",
              "      <td>159.60000</td>\n",
              "      <td>4690.644000</td>\n",
              "      <td>29.39</td>\n",
              "    </tr>\n",
              "    <tr>\n",
              "      <th>600009</th>\n",
              "      <td>2013-02-20</td>\n",
              "      <td>NaN</td>\n",
              "      <td>NaN</td>\n",
              "      <td>NaN</td>\n",
              "    </tr>\n",
              "  </tbody>\n",
              "</table>\n",
              "</div>"
            ],
            "text/plain": [
              "         Timestamp  Volume_(BTC)  Volume_(Currency)  Bitcoin_Price\n",
              "600000  2013-02-19       1.00000          29.390000          29.39\n",
              "600001  2013-02-19           NaN                NaN            NaN\n",
              "600002  2013-02-19           NaN                NaN            NaN\n",
              "600003  2013-02-19           NaN                NaN            NaN\n",
              "600004  2013-02-19       2.00000          58.780000          29.39\n",
              "600005  2013-02-19           NaN                NaN            NaN\n",
              "600006  2013-02-19      34.48439        1013.496222          29.39\n",
              "600007  2013-02-19           NaN                NaN            NaN\n",
              "600008  2013-02-20     159.60000        4690.644000          29.39\n",
              "600009  2013-02-20           NaN                NaN            NaN"
            ]
          },
          "metadata": {
            "tags": []
          },
          "execution_count": 490
        }
      ]
    },
    {
      "cell_type": "code",
      "metadata": {
        "colab": {
          "base_uri": "https://localhost:8080/",
          "height": 359
        },
        "id": "d6TzQvHt8bkh",
        "outputId": "52e09b03-7fb9-4126-a713-6fa7454aca16"
      },
      "source": [
        "#After converting to default now detecting missing data(we can use .isnull()\n",
        "#or .notnull() method)\n",
        "#True\" stands for missing value, while \"False\" stands for not missing value.\n",
        "missing_values = d_frame.isnull()\n",
        "missing_values.head(10)"
      ],
      "execution_count": 491,
      "outputs": [
        {
          "output_type": "execute_result",
          "data": {
            "text/html": [
              "<div>\n",
              "<style scoped>\n",
              "    .dataframe tbody tr th:only-of-type {\n",
              "        vertical-align: middle;\n",
              "    }\n",
              "\n",
              "    .dataframe tbody tr th {\n",
              "        vertical-align: top;\n",
              "    }\n",
              "\n",
              "    .dataframe thead th {\n",
              "        text-align: right;\n",
              "    }\n",
              "</style>\n",
              "<table border=\"1\" class=\"dataframe\">\n",
              "  <thead>\n",
              "    <tr style=\"text-align: right;\">\n",
              "      <th></th>\n",
              "      <th>Timestamp</th>\n",
              "      <th>Volume_(BTC)</th>\n",
              "      <th>Volume_(Currency)</th>\n",
              "      <th>Bitcoin_Price</th>\n",
              "    </tr>\n",
              "  </thead>\n",
              "  <tbody>\n",
              "    <tr>\n",
              "      <th>600000</th>\n",
              "      <td>False</td>\n",
              "      <td>False</td>\n",
              "      <td>False</td>\n",
              "      <td>False</td>\n",
              "    </tr>\n",
              "    <tr>\n",
              "      <th>600001</th>\n",
              "      <td>False</td>\n",
              "      <td>True</td>\n",
              "      <td>True</td>\n",
              "      <td>True</td>\n",
              "    </tr>\n",
              "    <tr>\n",
              "      <th>600002</th>\n",
              "      <td>False</td>\n",
              "      <td>True</td>\n",
              "      <td>True</td>\n",
              "      <td>True</td>\n",
              "    </tr>\n",
              "    <tr>\n",
              "      <th>600003</th>\n",
              "      <td>False</td>\n",
              "      <td>True</td>\n",
              "      <td>True</td>\n",
              "      <td>True</td>\n",
              "    </tr>\n",
              "    <tr>\n",
              "      <th>600004</th>\n",
              "      <td>False</td>\n",
              "      <td>False</td>\n",
              "      <td>False</td>\n",
              "      <td>False</td>\n",
              "    </tr>\n",
              "    <tr>\n",
              "      <th>600005</th>\n",
              "      <td>False</td>\n",
              "      <td>True</td>\n",
              "      <td>True</td>\n",
              "      <td>True</td>\n",
              "    </tr>\n",
              "    <tr>\n",
              "      <th>600006</th>\n",
              "      <td>False</td>\n",
              "      <td>False</td>\n",
              "      <td>False</td>\n",
              "      <td>False</td>\n",
              "    </tr>\n",
              "    <tr>\n",
              "      <th>600007</th>\n",
              "      <td>False</td>\n",
              "      <td>True</td>\n",
              "      <td>True</td>\n",
              "      <td>True</td>\n",
              "    </tr>\n",
              "    <tr>\n",
              "      <th>600008</th>\n",
              "      <td>False</td>\n",
              "      <td>False</td>\n",
              "      <td>False</td>\n",
              "      <td>False</td>\n",
              "    </tr>\n",
              "    <tr>\n",
              "      <th>600009</th>\n",
              "      <td>False</td>\n",
              "      <td>True</td>\n",
              "      <td>True</td>\n",
              "      <td>True</td>\n",
              "    </tr>\n",
              "  </tbody>\n",
              "</table>\n",
              "</div>"
            ],
            "text/plain": [
              "        Timestamp  Volume_(BTC)  Volume_(Currency)  Bitcoin_Price\n",
              "600000      False         False              False          False\n",
              "600001      False          True               True           True\n",
              "600002      False          True               True           True\n",
              "600003      False          True               True           True\n",
              "600004      False         False              False          False\n",
              "600005      False          True               True           True\n",
              "600006      False         False              False          False\n",
              "600007      False          True               True           True\n",
              "600008      False         False              False          False\n",
              "600009      False          True               True           True"
            ]
          },
          "metadata": {
            "tags": []
          },
          "execution_count": 491
        }
      ]
    },
    {
      "cell_type": "code",
      "metadata": {
        "colab": {
          "base_uri": "https://localhost:8080/"
        },
        "id": "GoAIaX7PONlw",
        "outputId": "9001c116-4b7e-4006-d8db-88294b5f39ae"
      },
      "source": [
        "# Checking the missing values in each column\n",
        "for column in missing_values.columns.values.tolist():\n",
        "    print(column)\n",
        "    print (missing_values[column].value_counts())\n",
        "    print(\"\") "
      ],
      "execution_count": 492,
      "outputs": [
        {
          "output_type": "stream",
          "text": [
            "Timestamp\n",
            "False    4257377\n",
            "Name: Timestamp, dtype: int64\n",
            "\n",
            "Volume_(BTC)\n",
            "False    3578367\n",
            "True      679010\n",
            "Name: Volume_(BTC), dtype: int64\n",
            "\n",
            "Volume_(Currency)\n",
            "False    3578367\n",
            "True      679010\n",
            "Name: Volume_(Currency), dtype: int64\n",
            "\n",
            "Bitcoin_Price\n",
            "False    3578367\n",
            "True      679010\n",
            "Name: Bitcoin_Price, dtype: int64\n",
            "\n"
          ],
          "name": "stdout"
        }
      ]
    },
    {
      "cell_type": "markdown",
      "metadata": {
        "id": "ey10MAKu9LPU"
      },
      "source": [
        "Before adjusting the missing values in our data i want to explore data further."
      ]
    },
    {
      "cell_type": "markdown",
      "metadata": {
        "id": "0RWEy-Npv2i6"
      },
      "source": [
        "### 5-Exploritory Data Analysis"
      ]
    },
    {
      "cell_type": "code",
      "metadata": {
        "colab": {
          "base_uri": "https://localhost:8080/"
        },
        "id": "fFVTeJyRdd1v",
        "outputId": "032ae0e9-514e-4ac2-8a11-2c23051526a2"
      },
      "source": [
        "d_frame.index"
      ],
      "execution_count": 493,
      "outputs": [
        {
          "output_type": "execute_result",
          "data": {
            "text/plain": [
              "RangeIndex(start=600000, stop=4857377, step=1)"
            ]
          },
          "metadata": {
            "tags": []
          },
          "execution_count": 493
        }
      ]
    },
    {
      "cell_type": "code",
      "metadata": {
        "colab": {
          "base_uri": "https://localhost:8080/"
        },
        "id": "vws7336OVJno",
        "outputId": "14aafeee-ae10-4196-cbbc-5dca05463f91"
      },
      "source": [
        "d_frame.info()"
      ],
      "execution_count": 494,
      "outputs": [
        {
          "output_type": "stream",
          "text": [
            "<class 'pandas.core.frame.DataFrame'>\n",
            "RangeIndex: 4257377 entries, 600000 to 4857376\n",
            "Data columns (total 4 columns):\n",
            " #   Column             Dtype  \n",
            "---  ------             -----  \n",
            " 0   Timestamp          object \n",
            " 1   Volume_(BTC)       float64\n",
            " 2   Volume_(Currency)  float64\n",
            " 3   Bitcoin_Price      float64\n",
            "dtypes: float64(3), object(1)\n",
            "memory usage: 129.9+ MB\n"
          ],
          "name": "stdout"
        }
      ]
    },
    {
      "cell_type": "code",
      "metadata": {
        "colab": {
          "base_uri": "https://localhost:8080/"
        },
        "id": "f5-VfWM4U-LE",
        "outputId": "f3859ae2-495d-47b1-e2ae-fe6e0278285b"
      },
      "source": [
        "print(d_frame.dtypes)"
      ],
      "execution_count": 495,
      "outputs": [
        {
          "output_type": "stream",
          "text": [
            "Timestamp             object\n",
            "Volume_(BTC)         float64\n",
            "Volume_(Currency)    float64\n",
            "Bitcoin_Price        float64\n",
            "dtype: object\n"
          ],
          "name": "stdout"
        }
      ]
    },
    {
      "cell_type": "code",
      "metadata": {
        "colab": {
          "base_uri": "https://localhost:8080/",
          "height": 142
        },
        "id": "J-8SRQHZWY8q",
        "outputId": "ee06305d-01dc-475b-a413-426e6698dfa9"
      },
      "source": [
        "corr=d_frame.corr()\n",
        "corr"
      ],
      "execution_count": 496,
      "outputs": [
        {
          "output_type": "execute_result",
          "data": {
            "text/html": [
              "<div>\n",
              "<style scoped>\n",
              "    .dataframe tbody tr th:only-of-type {\n",
              "        vertical-align: middle;\n",
              "    }\n",
              "\n",
              "    .dataframe tbody tr th {\n",
              "        vertical-align: top;\n",
              "    }\n",
              "\n",
              "    .dataframe thead th {\n",
              "        text-align: right;\n",
              "    }\n",
              "</style>\n",
              "<table border=\"1\" class=\"dataframe\">\n",
              "  <thead>\n",
              "    <tr style=\"text-align: right;\">\n",
              "      <th></th>\n",
              "      <th>Volume_(BTC)</th>\n",
              "      <th>Volume_(Currency)</th>\n",
              "      <th>Bitcoin_Price</th>\n",
              "    </tr>\n",
              "  </thead>\n",
              "  <tbody>\n",
              "    <tr>\n",
              "      <th>Volume_(BTC)</th>\n",
              "      <td>1.000000</td>\n",
              "      <td>0.359853</td>\n",
              "      <td>-0.050169</td>\n",
              "    </tr>\n",
              "    <tr>\n",
              "      <th>Volume_(Currency)</th>\n",
              "      <td>0.359853</td>\n",
              "      <td>1.000000</td>\n",
              "      <td>0.343089</td>\n",
              "    </tr>\n",
              "    <tr>\n",
              "      <th>Bitcoin_Price</th>\n",
              "      <td>-0.050169</td>\n",
              "      <td>0.343089</td>\n",
              "      <td>1.000000</td>\n",
              "    </tr>\n",
              "  </tbody>\n",
              "</table>\n",
              "</div>"
            ],
            "text/plain": [
              "                   Volume_(BTC)  Volume_(Currency)  Bitcoin_Price\n",
              "Volume_(BTC)           1.000000           0.359853      -0.050169\n",
              "Volume_(Currency)      0.359853           1.000000       0.343089\n",
              "Bitcoin_Price         -0.050169           0.343089       1.000000"
            ]
          },
          "metadata": {
            "tags": []
          },
          "execution_count": 496
        }
      ]
    },
    {
      "cell_type": "markdown",
      "metadata": {
        "id": "sVTgKdfzEIaP"
      },
      "source": [
        "\"Volume_(BTC)\" have very weak correlation with \"Bitcoin_Price\"."
      ]
    },
    {
      "cell_type": "code",
      "metadata": {
        "colab": {
          "base_uri": "https://localhost:8080/",
          "height": 287
        },
        "id": "ty55Z5lB0jHr",
        "outputId": "f1b60e97-fb22-4108-fb0a-06236b7054af"
      },
      "source": [
        "sns.heatmap(corr)"
      ],
      "execution_count": 497,
      "outputs": [
        {
          "output_type": "execute_result",
          "data": {
            "text/plain": [
              "<matplotlib.axes._subplots.AxesSubplot at 0x7f9ad568b150>"
            ]
          },
          "metadata": {
            "tags": []
          },
          "execution_count": 497
        },
        {
          "output_type": "display_data",
          "data": {
            "image/png": "[encoded data removed]",
            "text/plain": [
              "<Figure size 432x288 with 2 Axes>"
            ]
          },
          "metadata": {
            "tags": [],
            "needs_background": "light"
          }
        }
      ]
    },
    {
      "cell_type": "code",
      "metadata": {
        "colab": {
          "base_uri": "https://localhost:8080/",
          "height": 297
        },
        "id": "3rwyB20l4r9q",
        "outputId": "26cd3a8e-1611-43a9-d1f3-450dcc0d07b6"
      },
      "source": [
        "#checking the linear relationship b/w \"Volume_(BTC)\" & \"Bitcoin_Price\"\n",
        "\n",
        "d_select = d_frame.loc[d_frame['Timestamp'] > pd.to_datetime('2020-01-01')] #The plot takes so much time so we selected a slot of data from whole d_frame\"\"\n",
        "\n",
        "\n",
        "sns.regplot(x=\"Volume_(BTC)\", y=\"Bitcoin_Price\", data=d_select)# We can't understand any relationship between these two variables\n",
        "plt.ylim(0,)"
      ],
      "execution_count": 498,
      "outputs": [
        {
          "output_type": "execute_result",
          "data": {
            "text/plain": [
              "(0.0, 64608.21658939999)"
            ]
          },
          "metadata": {
            "tags": []
          },
          "execution_count": 498
        },
        {
          "output_type": "display_data",
          "data": {
            "image/png": "[encoded data removed]",
            "text/plain": [
              "<Figure size 432x288 with 1 Axes>"
            ]
          },
          "metadata": {
            "tags": [],
            "needs_background": "light"
          }
        }
      ]
    },
    {
      "cell_type": "code",
      "metadata": {
        "colab": {
          "base_uri": "https://localhost:8080/",
          "height": 297
        },
        "id": "_X9vRw1QeT25",
        "outputId": "216f84b7-1652-4451-83a7-6c3cfc9a417d"
      },
      "source": [
        "#checking the linear relationship b/w \"Volume_(Currency)\" & \"Bitcoin_Price\"\n",
        "sns.regplot(x=\"Volume_(Currency)\", y=\"Bitcoin_Price\", data=d_select) \n"
      ],
      "execution_count": 499,
      "outputs": [
        {
          "output_type": "execute_result",
          "data": {
            "text/plain": [
              "<matplotlib.axes._subplots.AxesSubplot at 0x7f9aee896110>"
            ]
          },
          "metadata": {
            "tags": []
          },
          "execution_count": 499
        },
        {
          "output_type": "display_data",
          "data": {
            "image/png": "[encoded data removed]",
            "text/plain": [
              "<Figure size 432x288 with 1 Axes>"
            ]
          },
          "metadata": {
            "tags": [],
            "needs_background": "light"
          }
        }
      ]
    },
    {
      "cell_type": "markdown",
      "metadata": {
        "id": "A8l1ID1x-wvr"
      },
      "source": [
        "We are going to drop these two columns(Volumre_(Currency),Volume_(BTC)). If we want to analyse further to check them as a candidate for features than P-value is the probability value which shows that the correlation between the two \n",
        "variables is statistically significant. Normally, we choose a significance level of 0.05 i.e P-value < 0.05. We can also check \"P_Value\" for selecting different features (after adjusting NAN values in our data) with the help of following code that i have commented."
      ]
    },
    {
      "cell_type": "code",
      "metadata": {
        "id": "kSgGoUBL-aaY"
      },
      "source": [
        "#Checking p-value of \"Volume_(BTC)\"\n",
        "#pearson_coef, p_value = stats.pearsonr(d_frame['Volume_(BTC)'], d_frame['Bitcoin_Price'])\n",
        "#print(\"The Pearson Correlation Coefficient is\", pearson_coef, \" with a P-value of P =\", p_value)\n",
        "#if p_value < 0.05:\n",
        "#  print('Correlation is significant')\n",
        "#else:\n",
        "#  print('Correlation is not significant')"
      ],
      "execution_count": 500,
      "outputs": []
    },
    {
      "cell_type": "code",
      "metadata": {
        "id": "RxzRZrloFS-n"
      },
      "source": [
        "#Checking p-value of \"Volume_(Currency)\"\n",
        "#pearson_coef, p_value = stats.pearsonr(d_frame['Volume_(Currency)'], d_frame['Bitcoin_Price'])\n",
        "#print(\"The Pearson Correlation Coefficient is\", pearson_coef, \" with a P-value of P =\", p_value)\n",
        "#if p_value < 0.05:\n",
        "#  print('Correlation is significant')\n",
        "#else:\n",
        "#  print('Correlation is not significant')"
      ],
      "execution_count": 501,
      "outputs": []
    },
    {
      "cell_type": "code",
      "metadata": {
        "colab": {
          "base_uri": "https://localhost:8080/"
        },
        "id": "MHZeuCaMSRo3",
        "outputId": "16e5818b-b657-490a-ab1d-d0369bb51baf"
      },
      "source": [
        "d_frame.columns"
      ],
      "execution_count": 502,
      "outputs": [
        {
          "output_type": "execute_result",
          "data": {
            "text/plain": [
              "Index(['Timestamp', 'Volume_(BTC)', 'Volume_(Currency)', 'Bitcoin_Price'], dtype='object')"
            ]
          },
          "metadata": {
            "tags": []
          },
          "execution_count": 502
        }
      ]
    },
    {
      "cell_type": "markdown",
      "metadata": {
        "id": "lViWKv0hFhv-"
      },
      "source": [
        "Analysis shows that 'Volume_(BTC) can't use as a feature in training data. Also Volume_(Currency) can effect the predictions.So, we will drop these two columns in future."
      ]
    },
    {
      "cell_type": "markdown",
      "metadata": {
        "id": "oMjqvXeARwwU"
      },
      "source": [
        "There are multiple readings at every day in dataframe so  grouping data w.r.t \"Timestamp\" and taking the mean of each group."
      ]
    },
    {
      "cell_type": "code",
      "metadata": {
        "colab": {
          "base_uri": "https://localhost:8080/",
          "height": 504
        },
        "id": "mCMSCczPRdFn",
        "outputId": "d83c1099-b604-4f1d-dafd-2acfe6a9dca6"
      },
      "source": [
        "grouping=d_frame.groupby('Timestamp')\n",
        "df=grouping['Bitcoin_Price','Volume_(BTC)', 'Volume_(Currency)'].mean()\n",
        "df"
      ],
      "execution_count": 503,
      "outputs": [
        {
          "output_type": "stream",
          "text": [
            "/usr/local/lib/python3.7/dist-packages/ipykernel_launcher.py:2: FutureWarning: Indexing with multiple keys (implicitly converted to a tuple of keys) will be deprecated, use a list instead.\n",
            "  \n"
          ],
          "name": "stderr"
        },
        {
          "output_type": "execute_result",
          "data": {
            "text/html": [
              "<div>\n",
              "<style scoped>\n",
              "    .dataframe tbody tr th:only-of-type {\n",
              "        vertical-align: middle;\n",
              "    }\n",
              "\n",
              "    .dataframe tbody tr th {\n",
              "        vertical-align: top;\n",
              "    }\n",
              "\n",
              "    .dataframe thead th {\n",
              "        text-align: right;\n",
              "    }\n",
              "</style>\n",
              "<table border=\"1\" class=\"dataframe\">\n",
              "  <thead>\n",
              "    <tr style=\"text-align: right;\">\n",
              "      <th></th>\n",
              "      <th>Bitcoin_Price</th>\n",
              "      <th>Volume_(BTC)</th>\n",
              "      <th>Volume_(Currency)</th>\n",
              "    </tr>\n",
              "    <tr>\n",
              "      <th>Timestamp</th>\n",
              "      <th></th>\n",
              "      <th></th>\n",
              "      <th></th>\n",
              "    </tr>\n",
              "  </thead>\n",
              "  <tbody>\n",
              "    <tr>\n",
              "      <th>2013-02-19</th>\n",
              "      <td>29.390000</td>\n",
              "      <td>12.494797</td>\n",
              "      <td>367.222074</td>\n",
              "    </tr>\n",
              "    <tr>\n",
              "      <th>2013-02-20</th>\n",
              "      <td>29.685068</td>\n",
              "      <td>14.683499</td>\n",
              "      <td>435.076442</td>\n",
              "    </tr>\n",
              "    <tr>\n",
              "      <th>2013-02-21</th>\n",
              "      <td>29.901464</td>\n",
              "      <td>19.867289</td>\n",
              "      <td>594.147644</td>\n",
              "    </tr>\n",
              "    <tr>\n",
              "      <th>2013-02-22</th>\n",
              "      <td>30.602213</td>\n",
              "      <td>17.125214</td>\n",
              "      <td>522.445188</td>\n",
              "    </tr>\n",
              "    <tr>\n",
              "      <th>2013-02-23</th>\n",
              "      <td>29.034383</td>\n",
              "      <td>15.714830</td>\n",
              "      <td>455.311991</td>\n",
              "    </tr>\n",
              "    <tr>\n",
              "      <th>...</th>\n",
              "      <td>...</td>\n",
              "      <td>...</td>\n",
              "      <td>...</td>\n",
              "    </tr>\n",
              "    <tr>\n",
              "      <th>2021-03-27</th>\n",
              "      <td>55193.357260</td>\n",
              "      <td>1.823877</td>\n",
              "      <td>100884.732367</td>\n",
              "    </tr>\n",
              "    <tr>\n",
              "      <th>2021-03-28</th>\n",
              "      <td>55832.958824</td>\n",
              "      <td>1.447939</td>\n",
              "      <td>80632.115263</td>\n",
              "    </tr>\n",
              "    <tr>\n",
              "      <th>2021-03-29</th>\n",
              "      <td>56913.993819</td>\n",
              "      <td>3.732887</td>\n",
              "      <td>213754.555988</td>\n",
              "    </tr>\n",
              "    <tr>\n",
              "      <th>2021-03-30</th>\n",
              "      <td>58346.912268</td>\n",
              "      <td>2.363999</td>\n",
              "      <td>138231.241926</td>\n",
              "    </tr>\n",
              "    <tr>\n",
              "      <th>2021-03-31</th>\n",
              "      <td>58764.349363</td>\n",
              "      <td>2.712831</td>\n",
              "      <td>159417.751000</td>\n",
              "    </tr>\n",
              "  </tbody>\n",
              "</table>\n",
              "<p>2960 rows × 3 columns</p>\n",
              "</div>"
            ],
            "text/plain": [
              "            Bitcoin_Price  Volume_(BTC)  Volume_(Currency)\n",
              "Timestamp                                                 \n",
              "2013-02-19      29.390000     12.494797         367.222074\n",
              "2013-02-20      29.685068     14.683499         435.076442\n",
              "2013-02-21      29.901464     19.867289         594.147644\n",
              "2013-02-22      30.602213     17.125214         522.445188\n",
              "2013-02-23      29.034383     15.714830         455.311991\n",
              "...                   ...           ...                ...\n",
              "2021-03-27   55193.357260      1.823877      100884.732367\n",
              "2021-03-28   55832.958824      1.447939       80632.115263\n",
              "2021-03-29   56913.993819      3.732887      213754.555988\n",
              "2021-03-30   58346.912268      2.363999      138231.241926\n",
              "2021-03-31   58764.349363      2.712831      159417.751000\n",
              "\n",
              "[2960 rows x 3 columns]"
            ]
          },
          "metadata": {
            "tags": []
          },
          "execution_count": 503
        }
      ]
    },
    {
      "cell_type": "code",
      "metadata": {
        "colab": {
          "base_uri": "https://localhost:8080/"
        },
        "id": "rMqus3UpaVVC",
        "outputId": "d66c89d5-bb27-429b-f781-98b4b0a72212"
      },
      "source": [
        "df.dtypes"
      ],
      "execution_count": 505,
      "outputs": [
        {
          "output_type": "execute_result",
          "data": {
            "text/plain": [
              "Bitcoin_Price        float64\n",
              "Volume_(BTC)         float64\n",
              "Volume_(Currency)    float64\n",
              "dtype: object"
            ]
          },
          "metadata": {
            "tags": []
          },
          "execution_count": 505
        }
      ]
    },
    {
      "cell_type": "code",
      "metadata": {
        "colab": {
          "base_uri": "https://localhost:8080/"
        },
        "id": "GOXsIOZtZa39",
        "outputId": "59b30a4e-e815-4dad-f0cf-5bef84cd95b1"
      },
      "source": [
        "#checking that if there is any missing value. \n",
        "df.isnull().values.any()"
      ],
      "execution_count": 506,
      "outputs": [
        {
          "output_type": "execute_result",
          "data": {
            "text/plain": [
              "False"
            ]
          },
          "metadata": {
            "tags": []
          },
          "execution_count": 506
        }
      ]
    },
    {
      "cell_type": "code",
      "metadata": {
        "colab": {
          "base_uri": "https://localhost:8080/",
          "height": 303
        },
        "id": "9oLRjHGLUKm5",
        "outputId": "64f3b1bd-d73f-4dcd-c11d-fc2bf0710200"
      },
      "source": [
        "df['Timestamp'] = df.index #reseting \"Timestamp\" from index to column, only to plot the data w.r.t Timestamp \n",
        "d_frame.set_index('Timestamp')[['Bitcoin_Price']].plot(subplots=True) #Before this command it is important to convert into timestamp format because it plot the data w.r.t timestamp. This command is some of the commands that are used to plot time series data.We set the Timestamp as index by using 'Volume_(BTC)' command."
      ],
      "execution_count": 507,
      "outputs": [
        {
          "output_type": "execute_result",
          "data": {
            "text/plain": [
              "array([<matplotlib.axes._subplots.AxesSubplot object at 0x7f9ad98a4bd0>],\n",
              "      dtype=object)"
            ]
          },
          "metadata": {
            "tags": []
          },
          "execution_count": 507
        },
        {
          "output_type": "display_data",
          "data": {
            "image/png": "[encoded data removed]",
            "text/plain": [
              "<Figure size 432x288 with 1 Axes>"
            ]
          },
          "metadata": {
            "tags": [],
            "needs_background": "light"
          }
        }
      ]
    },
    {
      "cell_type": "markdown",
      "metadata": {
        "id": "SusryCXOlM6z"
      },
      "source": [
        "From the last graph it looks like that the data is non-stationary. The stationary data have constant statistical properties like mean, variance and covariance.(Also autocorelation etc). Checking the stationarity of data(Timeseries)."
      ]
    },
    {
      "cell_type": "markdown",
      "metadata": {
        "id": "vNBRfuinKzlg"
      },
      "source": [
        "######i) Dickey–Fuller test"
      ]
    },
    {
      "cell_type": "code",
      "metadata": {
        "id": "u0xyuDLZy8vB"
      },
      "source": [
        "#To check wheather our data is stationary or non_stationary we are going to perform Augmented Dickey-Fuller Test\n",
        "# For this purpose we are defining a function\n",
        "def stationarity_check(time_series):\n",
        "  results=adfuller(time_series)\n",
        "  print(\"Test_statistics=\",results[0],'  P_value=' , results[1], \"     Lags_used =\",results[2],\"   Number of Observation Used =\",results[3],\"  P_value Statistics=  \",results[4])\n"
      ],
      "execution_count": 508,
      "outputs": []
    },
    {
      "cell_type": "code",
      "metadata": {
        "colab": {
          "base_uri": "https://localhost:8080/"
        },
        "id": "YUsvNckcz5_F",
        "outputId": "4639cadf-33df-4578-9b36-49cf12a68d6e"
      },
      "source": [
        "#stationarity checking for \"Bitcoin_Price\"\n",
        "stationarity_check(df['Bitcoin_Price'])\n",
        "# \"Test_statistics\" more negitive mean more likely to be stationary\n",
        "#If \"P_Value\" is less than 0.05 than it must be stationary and we will reject our Null Hypothesis"
      ],
      "execution_count": 509,
      "outputs": [
        {
          "output_type": "stream",
          "text": [
            "Test_statistics= 5.629931484011256   P_value= 1.0      Lags_used = 26    Number of Observation Used = 2933   P_value Statistics=   {'1%': -3.4325815146212344, '5%': -2.862525935297511, '10%': -2.567294840682737}\n"
          ],
          "name": "stdout"
        }
      ]
    },
    {
      "cell_type": "markdown",
      "metadata": {
        "id": "6aRJ5jnG_0q0"
      },
      "source": [
        "We can see that fourth element of our resulted touple gives us the dictionary which contain the critical test statistics. (At second position of this dictionary)We can see that Test_statistics value should be below mentioned value (of key 5%) if we want P_value of 5% or 0.05."
      ]
    },
    {
      "cell_type": "markdown",
      "metadata": {
        "id": "QfzDTodqCzbx"
      },
      "source": [
        "A second Test we can also perform to check the stationarity of our data. Splitting the timeseries into two or more partition and checking the mean and variance of each. "
      ]
    },
    {
      "cell_type": "markdown",
      "metadata": {
        "id": "-5qa0F0gLNUG"
      },
      "source": [
        "###### ii) Mean and Variance Difference Test"
      ]
    },
    {
      "cell_type": "code",
      "metadata": {
        "colab": {
          "base_uri": "https://localhost:8080/"
        },
        "id": "J3pj5uMhMb--",
        "outputId": "7b8898da-9e0b-44f1-a417-3637546c5541"
      },
      "source": [
        "df.shape\n"
      ],
      "execution_count": 510,
      "outputs": [
        {
          "output_type": "execute_result",
          "data": {
            "text/plain": [
              "(2960, 4)"
            ]
          },
          "metadata": {
            "tags": []
          },
          "execution_count": 510
        }
      ]
    },
    {
      "cell_type": "code",
      "metadata": {
        "id": "xmrG9Gd9OhQX"
      },
      "source": [
        "#splitting dataframe into two\n",
        "df1=df[0:410]\n",
        "df2=df[410:820]"
      ],
      "execution_count": 511,
      "outputs": []
    },
    {
      "cell_type": "code",
      "metadata": {
        "colab": {
          "base_uri": "https://localhost:8080/"
        },
        "id": "sTB2zBMGPDft",
        "outputId": "3a77ec0f-ce9a-4b48-a934-362ea77bd298"
      },
      "source": [
        "#Checking the mean of df1\n",
        "df1.mean()"
      ],
      "execution_count": 512,
      "outputs": [
        {
          "output_type": "execute_result",
          "data": {
            "text/plain": [
              "Bitcoin_Price         321.374913\n",
              "Volume_(BTC)           14.555814\n",
              "Volume_(Currency)    5253.252448\n",
              "dtype: float64"
            ]
          },
          "metadata": {
            "tags": []
          },
          "execution_count": 512
        }
      ]
    },
    {
      "cell_type": "code",
      "metadata": {
        "colab": {
          "base_uri": "https://localhost:8080/"
        },
        "id": "wHQ3pLDGPxE9",
        "outputId": "eb4a3ef3-3617-4522-c3d1-2d972af0da5d"
      },
      "source": [
        "#Checking the mean of df2\n",
        "df2.mean()"
      ],
      "execution_count": 513,
      "outputs": [
        {
          "output_type": "execute_result",
          "data": {
            "text/plain": [
              "Bitcoin_Price         394.197960\n",
              "Volume_(BTC)           10.945745\n",
              "Volume_(Currency)    4085.294655\n",
              "dtype: float64"
            ]
          },
          "metadata": {
            "tags": []
          },
          "execution_count": 513
        }
      ]
    },
    {
      "cell_type": "markdown",
      "metadata": {
        "id": "Us7jyCDxP8gT"
      },
      "source": [
        "We can see that both dataframes have different mean values so it has not constant mean in whole dataframe. Now checking the variance."
      ]
    },
    {
      "cell_type": "code",
      "metadata": {
        "colab": {
          "base_uri": "https://localhost:8080/"
        },
        "id": "BQko-eZ0P75q",
        "outputId": "d88d73f3-6cbb-4c84-b792-1c5111a391c0"
      },
      "source": [
        "df1.var()"
      ],
      "execution_count": 514,
      "outputs": [
        {
          "output_type": "execute_result",
          "data": {
            "text/plain": [
              "Bitcoin_Price        9.061587e+04\n",
              "Volume_(BTC)         1.136058e+02\n",
              "Volume_(Currency)    5.619117e+07\n",
              "dtype: float64"
            ]
          },
          "metadata": {
            "tags": []
          },
          "execution_count": 514
        }
      ]
    },
    {
      "cell_type": "code",
      "metadata": {
        "colab": {
          "base_uri": "https://localhost:8080/"
        },
        "id": "m3W78PAYQYeg",
        "outputId": "fa70f743-87e9-4d25-815d-be004c78b9b2"
      },
      "source": [
        "df2.var()"
      ],
      "execution_count": 515,
      "outputs": [
        {
          "output_type": "execute_result",
          "data": {
            "text/plain": [
              "Bitcoin_Price        1.883807e+04\n",
              "Volume_(BTC)         7.224392e+01\n",
              "Volume_(Currency)    8.306820e+06\n",
              "dtype: float64"
            ]
          },
          "metadata": {
            "tags": []
          },
          "execution_count": 515
        }
      ]
    },
    {
      "cell_type": "markdown",
      "metadata": {
        "id": "s70M5HiuQou0"
      },
      "source": [
        "So it is clear that our timeseries is non-stationary. So, first of all we will make it stationary. There are multiple method to convert non-stationary timeseries into stationary form.\n",
        "\n",
        "1.   Differencing or Seasonal Differencing\n",
        "2.   Transformation\n",
        "3.    Rolling Statistics\n"
      ]
    },
    {
      "cell_type": "markdown",
      "metadata": {
        "id": "H_3ihm_T9P0Y"
      },
      "source": [
        "We are going to use differencing method first."
      ]
    },
    {
      "cell_type": "code",
      "metadata": {
        "colab": {
          "base_uri": "https://localhost:8080/"
        },
        "id": "Ab7S0GzhRn_z",
        "outputId": "9442dccb-6139-4035-d743-901c2cde3806"
      },
      "source": [
        "#We are going to make another column where we can store our difference(Using differencing method)\n",
        "df['Bitcoin_Price_df'] = df['Bitcoin_Price'] - df['Bitcoin_Price'].shift(1)#\"shift(1)\" we want to subtract the last value\n",
        "df['Bitcoin_Price_df'].head(3)\n",
        "\n"
      ],
      "execution_count": 516,
      "outputs": [
        {
          "output_type": "execute_result",
          "data": {
            "text/plain": [
              "Timestamp\n",
              "2013-02-19         NaN\n",
              "2013-02-20    0.295068\n",
              "2013-02-21    0.216395\n",
              "Name: Bitcoin_Price_df, dtype: float64"
            ]
          },
          "metadata": {
            "tags": []
          },
          "execution_count": 516
        }
      ]
    },
    {
      "cell_type": "code",
      "metadata": {
        "colab": {
          "base_uri": "https://localhost:8080/",
          "height": 235
        },
        "id": "Ft3Vx_sS9oSw",
        "outputId": "df006ac4-d486-47dd-f2fa-e0e68e8de606"
      },
      "source": [
        "#Removing the NAN values(Because there is no value before first value to make difference so there is a NAN in the beginning)\n",
        "\n",
        "df.dropna(axis=0, inplace=True)\n",
        "\n",
        "# reset indexs\n",
        "#df.reset_index(drop=False, inplace=True)\n",
        "df.head(5)"
      ],
      "execution_count": 517,
      "outputs": [
        {
          "output_type": "execute_result",
          "data": {
            "text/html": [
              "<div>\n",
              "<style scoped>\n",
              "    .dataframe tbody tr th:only-of-type {\n",
              "        vertical-align: middle;\n",
              "    }\n",
              "\n",
              "    .dataframe tbody tr th {\n",
              "        vertical-align: top;\n",
              "    }\n",
              "\n",
              "    .dataframe thead th {\n",
              "        text-align: right;\n",
              "    }\n",
              "</style>\n",
              "<table border=\"1\" class=\"dataframe\">\n",
              "  <thead>\n",
              "    <tr style=\"text-align: right;\">\n",
              "      <th></th>\n",
              "      <th>Bitcoin_Price</th>\n",
              "      <th>Volume_(BTC)</th>\n",
              "      <th>Volume_(Currency)</th>\n",
              "      <th>Timestamp</th>\n",
              "      <th>Bitcoin_Price_df</th>\n",
              "    </tr>\n",
              "    <tr>\n",
              "      <th>Timestamp</th>\n",
              "      <th></th>\n",
              "      <th></th>\n",
              "      <th></th>\n",
              "      <th></th>\n",
              "      <th></th>\n",
              "    </tr>\n",
              "  </thead>\n",
              "  <tbody>\n",
              "    <tr>\n",
              "      <th>2013-02-20</th>\n",
              "      <td>29.685068</td>\n",
              "      <td>14.683499</td>\n",
              "      <td>435.076442</td>\n",
              "      <td>2013-02-20</td>\n",
              "      <td>0.295068</td>\n",
              "    </tr>\n",
              "    <tr>\n",
              "      <th>2013-02-21</th>\n",
              "      <td>29.901464</td>\n",
              "      <td>19.867289</td>\n",
              "      <td>594.147644</td>\n",
              "      <td>2013-02-21</td>\n",
              "      <td>0.216395</td>\n",
              "    </tr>\n",
              "    <tr>\n",
              "      <th>2013-02-22</th>\n",
              "      <td>30.602213</td>\n",
              "      <td>17.125214</td>\n",
              "      <td>522.445188</td>\n",
              "      <td>2013-02-22</td>\n",
              "      <td>0.700750</td>\n",
              "    </tr>\n",
              "    <tr>\n",
              "      <th>2013-02-23</th>\n",
              "      <td>29.034383</td>\n",
              "      <td>15.714830</td>\n",
              "      <td>455.311991</td>\n",
              "      <td>2013-02-23</td>\n",
              "      <td>-1.567830</td>\n",
              "    </tr>\n",
              "    <tr>\n",
              "      <th>2013-02-24</th>\n",
              "      <td>29.752125</td>\n",
              "      <td>9.699863</td>\n",
              "      <td>288.773099</td>\n",
              "      <td>2013-02-24</td>\n",
              "      <td>0.717742</td>\n",
              "    </tr>\n",
              "  </tbody>\n",
              "</table>\n",
              "</div>"
            ],
            "text/plain": [
              "            Bitcoin_Price  Volume_(BTC)  ...   Timestamp Bitcoin_Price_df\n",
              "Timestamp                                ...                             \n",
              "2013-02-20      29.685068     14.683499  ...  2013-02-20         0.295068\n",
              "2013-02-21      29.901464     19.867289  ...  2013-02-21         0.216395\n",
              "2013-02-22      30.602213     17.125214  ...  2013-02-22         0.700750\n",
              "2013-02-23      29.034383     15.714830  ...  2013-02-23        -1.567830\n",
              "2013-02-24      29.752125      9.699863  ...  2013-02-24         0.717742\n",
              "\n",
              "[5 rows x 5 columns]"
            ]
          },
          "metadata": {
            "tags": []
          },
          "execution_count": 517
        }
      ]
    },
    {
      "cell_type": "code",
      "metadata": {
        "colab": {
          "base_uri": "https://localhost:8080/"
        },
        "id": "lRIBxytZ6mov",
        "outputId": "449babc6-dc5b-440d-bd1e-85b6b8e7df51"
      },
      "source": [
        "stationarity_check(df['Bitcoin_Price_df'])"
      ],
      "execution_count": 518,
      "outputs": [
        {
          "output_type": "stream",
          "text": [
            "Test_statistics= -8.52639557481854   P_value= 1.0663176593501189e-13      Lags_used = 28    Number of Observation Used = 2930   P_value Statistics=   {'1%': -3.4325838014549075, '5%': -2.8625269452952895, '10%': -2.567295378396953}\n"
          ],
          "name": "stdout"
        }
      ]
    },
    {
      "cell_type": "markdown",
      "metadata": {
        "id": "QUjssOMI3MlD"
      },
      "source": [
        "Data seems to be much batter now.\n"
      ]
    },
    {
      "cell_type": "code",
      "metadata": {
        "colab": {
          "base_uri": "https://localhost:8080/",
          "height": 297
        },
        "id": "lD21Sep4VPDe",
        "outputId": "937d6da8-1085-4f98-db54-fb6a0197e1d5"
      },
      "source": [
        "df.describe()"
      ],
      "execution_count": 519,
      "outputs": [
        {
          "output_type": "execute_result",
          "data": {
            "text/html": [
              "<div>\n",
              "<style scoped>\n",
              "    .dataframe tbody tr th:only-of-type {\n",
              "        vertical-align: middle;\n",
              "    }\n",
              "\n",
              "    .dataframe tbody tr th {\n",
              "        vertical-align: top;\n",
              "    }\n",
              "\n",
              "    .dataframe thead th {\n",
              "        text-align: right;\n",
              "    }\n",
              "</style>\n",
              "<table border=\"1\" class=\"dataframe\">\n",
              "  <thead>\n",
              "    <tr style=\"text-align: right;\">\n",
              "      <th></th>\n",
              "      <th>Bitcoin_Price</th>\n",
              "      <th>Volume_(BTC)</th>\n",
              "      <th>Volume_(Currency)</th>\n",
              "      <th>Bitcoin_Price_df</th>\n",
              "    </tr>\n",
              "  </thead>\n",
              "  <tbody>\n",
              "    <tr>\n",
              "      <th>count</th>\n",
              "      <td>2959.000000</td>\n",
              "      <td>2959.000000</td>\n",
              "      <td>2959.000000</td>\n",
              "      <td>2959.000000</td>\n",
              "    </tr>\n",
              "    <tr>\n",
              "      <th>mean</th>\n",
              "      <td>5253.290259</td>\n",
              "      <td>9.121097</td>\n",
              "      <td>36244.118547</td>\n",
              "      <td>19.849598</td>\n",
              "    </tr>\n",
              "    <tr>\n",
              "      <th>std</th>\n",
              "      <td>8570.474835</td>\n",
              "      <td>7.638068</td>\n",
              "      <td>65822.555689</td>\n",
              "      <td>394.804143</td>\n",
              "    </tr>\n",
              "    <tr>\n",
              "      <th>min</th>\n",
              "      <td>29.034383</td>\n",
              "      <td>0.763737</td>\n",
              "      <td>219.747906</td>\n",
              "      <td>-5739.474079</td>\n",
              "    </tr>\n",
              "    <tr>\n",
              "      <th>25%</th>\n",
              "      <td>406.683528</td>\n",
              "      <td>4.457301</td>\n",
              "      <td>2939.377941</td>\n",
              "      <td>-12.313185</td>\n",
              "    </tr>\n",
              "    <tr>\n",
              "      <th>50%</th>\n",
              "      <td>1137.763090</td>\n",
              "      <td>6.908461</td>\n",
              "      <td>11097.563578</td>\n",
              "      <td>0.908395</td>\n",
              "    </tr>\n",
              "    <tr>\n",
              "      <th>75%</th>\n",
              "      <td>7956.063443</td>\n",
              "      <td>11.379304</td>\n",
              "      <td>41214.261707</td>\n",
              "      <td>25.289053</td>\n",
              "    </tr>\n",
              "    <tr>\n",
              "      <th>max</th>\n",
              "      <td>60455.844831</td>\n",
              "      <td>95.652602</td>\n",
              "      <td>950995.602917</td>\n",
              "      <td>5487.876405</td>\n",
              "    </tr>\n",
              "  </tbody>\n",
              "</table>\n",
              "</div>"
            ],
            "text/plain": [
              "       Bitcoin_Price  Volume_(BTC)  Volume_(Currency)  Bitcoin_Price_df\n",
              "count    2959.000000   2959.000000        2959.000000       2959.000000\n",
              "mean     5253.290259      9.121097       36244.118547         19.849598\n",
              "std      8570.474835      7.638068       65822.555689        394.804143\n",
              "min        29.034383      0.763737         219.747906      -5739.474079\n",
              "25%       406.683528      4.457301        2939.377941        -12.313185\n",
              "50%      1137.763090      6.908461       11097.563578          0.908395\n",
              "75%      7956.063443     11.379304       41214.261707         25.289053\n",
              "max     60455.844831     95.652602      950995.602917       5487.876405"
            ]
          },
          "metadata": {
            "tags": []
          },
          "execution_count": 519
        }
      ]
    },
    {
      "cell_type": "markdown",
      "metadata": {
        "id": "1DmyB44cJHYj"
      },
      "source": [
        "We can see that our data have many outliers in almost all columns."
      ]
    },
    {
      "cell_type": "code",
      "metadata": {
        "colab": {
          "base_uri": "https://localhost:8080/",
          "height": 450
        },
        "id": "KvB86d8DIDIG",
        "outputId": "e1ce354d-e6f8-41f5-d66c-4f564c9efb18"
      },
      "source": [
        "df.query('Bitcoin_Price_df\t>25.28')# We have used 75% value to check outliers.(in BC_log)"
      ],
      "execution_count": 520,
      "outputs": [
        {
          "output_type": "execute_result",
          "data": {
            "text/html": [
              "<div>\n",
              "<style scoped>\n",
              "    .dataframe tbody tr th:only-of-type {\n",
              "        vertical-align: middle;\n",
              "    }\n",
              "\n",
              "    .dataframe tbody tr th {\n",
              "        vertical-align: top;\n",
              "    }\n",
              "\n",
              "    .dataframe thead th {\n",
              "        text-align: right;\n",
              "    }\n",
              "</style>\n",
              "<table border=\"1\" class=\"dataframe\">\n",
              "  <thead>\n",
              "    <tr style=\"text-align: right;\">\n",
              "      <th></th>\n",
              "      <th>Bitcoin_Price</th>\n",
              "      <th>Volume_(BTC)</th>\n",
              "      <th>Volume_(Currency)</th>\n",
              "      <th>Timestamp</th>\n",
              "      <th>Bitcoin_Price_df</th>\n",
              "    </tr>\n",
              "    <tr>\n",
              "      <th>Timestamp</th>\n",
              "      <th></th>\n",
              "      <th></th>\n",
              "      <th></th>\n",
              "      <th></th>\n",
              "      <th></th>\n",
              "    </tr>\n",
              "  </thead>\n",
              "  <tbody>\n",
              "    <tr>\n",
              "      <th>2013-04-08</th>\n",
              "      <td>182.560329</td>\n",
              "      <td>11.899790</td>\n",
              "      <td>2166.628077</td>\n",
              "      <td>2013-04-08</td>\n",
              "      <td>29.140757</td>\n",
              "    </tr>\n",
              "    <tr>\n",
              "      <th>2013-04-09</th>\n",
              "      <td>211.415484</td>\n",
              "      <td>10.478307</td>\n",
              "      <td>2251.332082</td>\n",
              "      <td>2013-04-09</td>\n",
              "      <td>28.855155</td>\n",
              "    </tr>\n",
              "    <tr>\n",
              "      <th>2013-04-13</th>\n",
              "      <td>103.400689</td>\n",
              "      <td>14.227255</td>\n",
              "      <td>1444.287247</td>\n",
              "      <td>2013-04-13</td>\n",
              "      <td>26.086947</td>\n",
              "    </tr>\n",
              "    <tr>\n",
              "      <th>2013-11-07</th>\n",
              "      <td>283.168363</td>\n",
              "      <td>36.227297</td>\n",
              "      <td>10263.869791</td>\n",
              "      <td>2013-11-07</td>\n",
              "      <td>27.936754</td>\n",
              "    </tr>\n",
              "    <tr>\n",
              "      <th>2013-11-08</th>\n",
              "      <td>314.513558</td>\n",
              "      <td>28.340027</td>\n",
              "      <td>9010.498661</td>\n",
              "      <td>2013-11-08</td>\n",
              "      <td>31.345195</td>\n",
              "    </tr>\n",
              "    <tr>\n",
              "      <th>...</th>\n",
              "      <td>...</td>\n",
              "      <td>...</td>\n",
              "      <td>...</td>\n",
              "      <td>...</td>\n",
              "      <td>...</td>\n",
              "    </tr>\n",
              "    <tr>\n",
              "      <th>2021-03-27</th>\n",
              "      <td>55193.357260</td>\n",
              "      <td>1.823877</td>\n",
              "      <td>100884.732367</td>\n",
              "      <td>2021-03-27</td>\n",
              "      <td>1952.319771</td>\n",
              "    </tr>\n",
              "    <tr>\n",
              "      <th>2021-03-28</th>\n",
              "      <td>55832.958824</td>\n",
              "      <td>1.447939</td>\n",
              "      <td>80632.115263</td>\n",
              "      <td>2021-03-28</td>\n",
              "      <td>639.601564</td>\n",
              "    </tr>\n",
              "    <tr>\n",
              "      <th>2021-03-29</th>\n",
              "      <td>56913.993819</td>\n",
              "      <td>3.732887</td>\n",
              "      <td>213754.555988</td>\n",
              "      <td>2021-03-29</td>\n",
              "      <td>1081.034995</td>\n",
              "    </tr>\n",
              "    <tr>\n",
              "      <th>2021-03-30</th>\n",
              "      <td>58346.912268</td>\n",
              "      <td>2.363999</td>\n",
              "      <td>138231.241926</td>\n",
              "      <td>2021-03-30</td>\n",
              "      <td>1432.918449</td>\n",
              "    </tr>\n",
              "    <tr>\n",
              "      <th>2021-03-31</th>\n",
              "      <td>58764.349363</td>\n",
              "      <td>2.712831</td>\n",
              "      <td>159417.751000</td>\n",
              "      <td>2021-03-31</td>\n",
              "      <td>417.437095</td>\n",
              "    </tr>\n",
              "  </tbody>\n",
              "</table>\n",
              "<p>740 rows × 5 columns</p>\n",
              "</div>"
            ],
            "text/plain": [
              "            Bitcoin_Price  Volume_(BTC)  ...   Timestamp Bitcoin_Price_df\n",
              "Timestamp                                ...                             \n",
              "2013-04-08     182.560329     11.899790  ...  2013-04-08        29.140757\n",
              "2013-04-09     211.415484     10.478307  ...  2013-04-09        28.855155\n",
              "2013-04-13     103.400689     14.227255  ...  2013-04-13        26.086947\n",
              "2013-11-07     283.168363     36.227297  ...  2013-11-07        27.936754\n",
              "2013-11-08     314.513558     28.340027  ...  2013-11-08        31.345195\n",
              "...                   ...           ...  ...         ...              ...\n",
              "2021-03-27   55193.357260      1.823877  ...  2021-03-27      1952.319771\n",
              "2021-03-28   55832.958824      1.447939  ...  2021-03-28       639.601564\n",
              "2021-03-29   56913.993819      3.732887  ...  2021-03-29      1081.034995\n",
              "2021-03-30   58346.912268      2.363999  ...  2021-03-30      1432.918449\n",
              "2021-03-31   58764.349363      2.712831  ...  2021-03-31       417.437095\n",
              "\n",
              "[740 rows x 5 columns]"
            ]
          },
          "metadata": {
            "tags": []
          },
          "execution_count": 520
        }
      ]
    },
    {
      "cell_type": "code",
      "metadata": {
        "colab": {
          "base_uri": "https://localhost:8080/",
          "height": 450
        },
        "id": "sZWhPgyqKdVE",
        "outputId": "b3fa579c-26a0-4b86-a4f8-93e7039c5098"
      },
      "source": [
        "df.query('Bitcoin_Price_df\t<-12.313')# We have used 25% value to check outliers. "
      ],
      "execution_count": 521,
      "outputs": [
        {
          "output_type": "execute_result",
          "data": {
            "text/html": [
              "<div>\n",
              "<style scoped>\n",
              "    .dataframe tbody tr th:only-of-type {\n",
              "        vertical-align: middle;\n",
              "    }\n",
              "\n",
              "    .dataframe tbody tr th {\n",
              "        vertical-align: top;\n",
              "    }\n",
              "\n",
              "    .dataframe thead th {\n",
              "        text-align: right;\n",
              "    }\n",
              "</style>\n",
              "<table border=\"1\" class=\"dataframe\">\n",
              "  <thead>\n",
              "    <tr style=\"text-align: right;\">\n",
              "      <th></th>\n",
              "      <th>Bitcoin_Price</th>\n",
              "      <th>Volume_(BTC)</th>\n",
              "      <th>Volume_(Currency)</th>\n",
              "      <th>Timestamp</th>\n",
              "      <th>Bitcoin_Price_df</th>\n",
              "    </tr>\n",
              "    <tr>\n",
              "      <th>Timestamp</th>\n",
              "      <th></th>\n",
              "      <th></th>\n",
              "      <th></th>\n",
              "      <th></th>\n",
              "      <th></th>\n",
              "    </tr>\n",
              "  </thead>\n",
              "  <tbody>\n",
              "    <tr>\n",
              "      <th>2013-04-11</th>\n",
              "      <td>124.666168</td>\n",
              "      <td>29.740915</td>\n",
              "      <td>3161.635310</td>\n",
              "      <td>2013-04-11</td>\n",
              "      <td>-82.398628</td>\n",
              "    </tr>\n",
              "    <tr>\n",
              "      <th>2013-04-12</th>\n",
              "      <td>77.313743</td>\n",
              "      <td>22.678027</td>\n",
              "      <td>1721.293066</td>\n",
              "      <td>2013-04-12</td>\n",
              "      <td>-47.352425</td>\n",
              "    </tr>\n",
              "    <tr>\n",
              "      <th>2013-04-16</th>\n",
              "      <td>65.474750</td>\n",
              "      <td>27.722505</td>\n",
              "      <td>1812.982337</td>\n",
              "      <td>2013-04-16</td>\n",
              "      <td>-25.139685</td>\n",
              "    </tr>\n",
              "    <tr>\n",
              "      <th>2013-04-26</th>\n",
              "      <td>134.669592</td>\n",
              "      <td>8.311758</td>\n",
              "      <td>1115.108050</td>\n",
              "      <td>2013-04-26</td>\n",
              "      <td>-15.716975</td>\n",
              "    </tr>\n",
              "    <tr>\n",
              "      <th>2013-05-01</th>\n",
              "      <td>128.522075</td>\n",
              "      <td>16.073802</td>\n",
              "      <td>1958.773743</td>\n",
              "      <td>2013-05-01</td>\n",
              "      <td>-13.091941</td>\n",
              "    </tr>\n",
              "    <tr>\n",
              "      <th>...</th>\n",
              "      <td>...</td>\n",
              "      <td>...</td>\n",
              "      <td>...</td>\n",
              "      <td>...</td>\n",
              "      <td>...</td>\n",
              "    </tr>\n",
              "    <tr>\n",
              "      <th>2021-03-19</th>\n",
              "      <td>58283.547994</td>\n",
              "      <td>2.448563</td>\n",
              "      <td>142768.675307</td>\n",
              "      <td>2021-03-19</td>\n",
              "      <td>-188.569327</td>\n",
              "    </tr>\n",
              "    <tr>\n",
              "      <th>2021-03-21</th>\n",
              "      <td>57312.598536</td>\n",
              "      <td>2.523503</td>\n",
              "      <td>144363.205985</td>\n",
              "      <td>2021-03-21</td>\n",
              "      <td>-1467.170850</td>\n",
              "    </tr>\n",
              "    <tr>\n",
              "      <th>2021-03-22</th>\n",
              "      <td>56787.148422</td>\n",
              "      <td>4.566736</td>\n",
              "      <td>255685.092495</td>\n",
              "      <td>2021-03-22</td>\n",
              "      <td>-525.450114</td>\n",
              "    </tr>\n",
              "    <tr>\n",
              "      <th>2021-03-23</th>\n",
              "      <td>54703.387740</td>\n",
              "      <td>3.469766</td>\n",
              "      <td>189536.245426</td>\n",
              "      <td>2021-03-23</td>\n",
              "      <td>-2083.760682</td>\n",
              "    </tr>\n",
              "    <tr>\n",
              "      <th>2021-03-25</th>\n",
              "      <td>52121.684110</td>\n",
              "      <td>4.643931</td>\n",
              "      <td>240972.427409</td>\n",
              "      <td>2021-03-25</td>\n",
              "      <td>-3002.309745</td>\n",
              "    </tr>\n",
              "  </tbody>\n",
              "</table>\n",
              "<p>740 rows × 5 columns</p>\n",
              "</div>"
            ],
            "text/plain": [
              "            Bitcoin_Price  Volume_(BTC)  ...   Timestamp Bitcoin_Price_df\n",
              "Timestamp                                ...                             \n",
              "2013-04-11     124.666168     29.740915  ...  2013-04-11       -82.398628\n",
              "2013-04-12      77.313743     22.678027  ...  2013-04-12       -47.352425\n",
              "2013-04-16      65.474750     27.722505  ...  2013-04-16       -25.139685\n",
              "2013-04-26     134.669592      8.311758  ...  2013-04-26       -15.716975\n",
              "2013-05-01     128.522075     16.073802  ...  2013-05-01       -13.091941\n",
              "...                   ...           ...  ...         ...              ...\n",
              "2021-03-19   58283.547994      2.448563  ...  2021-03-19      -188.569327\n",
              "2021-03-21   57312.598536      2.523503  ...  2021-03-21     -1467.170850\n",
              "2021-03-22   56787.148422      4.566736  ...  2021-03-22      -525.450114\n",
              "2021-03-23   54703.387740      3.469766  ...  2021-03-23     -2083.760682\n",
              "2021-03-25   52121.684110      4.643931  ...  2021-03-25     -3002.309745\n",
              "\n",
              "[740 rows x 5 columns]"
            ]
          },
          "metadata": {
            "tags": []
          },
          "execution_count": 521
        }
      ]
    },
    {
      "cell_type": "code",
      "metadata": {
        "colab": {
          "base_uri": "https://localhost:8080/"
        },
        "id": "_1pT4DcV_O_F",
        "outputId": "57ddd051-f99c-481d-b3c6-c69fd9b28470"
      },
      "source": [
        "df.dtypes"
      ],
      "execution_count": 522,
      "outputs": [
        {
          "output_type": "execute_result",
          "data": {
            "text/plain": [
              "Bitcoin_Price        float64\n",
              "Volume_(BTC)         float64\n",
              "Volume_(Currency)    float64\n",
              "Timestamp             object\n",
              "Bitcoin_Price_df     float64\n",
              "dtype: object"
            ]
          },
          "metadata": {
            "tags": []
          },
          "execution_count": 522
        }
      ]
    },
    {
      "cell_type": "code",
      "metadata": {
        "colab": {
          "base_uri": "https://localhost:8080/"
        },
        "id": "e5v8a77ktMtT",
        "outputId": "4ddab51b-7824-4b1c-f9fb-8aa6133c90c6"
      },
      "source": [
        "df.columns"
      ],
      "execution_count": 523,
      "outputs": [
        {
          "output_type": "execute_result",
          "data": {
            "text/plain": [
              "Index(['Bitcoin_Price', 'Volume_(BTC)', 'Volume_(Currency)', 'Timestamp',\n",
              "       'Bitcoin_Price_df'],\n",
              "      dtype='object')"
            ]
          },
          "metadata": {
            "tags": []
          },
          "execution_count": 523
        }
      ]
    },
    {
      "cell_type": "markdown",
      "metadata": {
        "id": "ZPRbhf95tQDg"
      },
      "source": [
        "Now we are going to select our input column which is 'Bitcoin_Price_df'"
      ]
    },
    {
      "cell_type": "code",
      "metadata": {
        "id": "Z7Kk5WtQ0ihK"
      },
      "source": [
        "df_in=df[['Bitcoin_Price_df']]  # Time stamp is not included in input dataframe"
      ],
      "execution_count": 524,
      "outputs": []
    },
    {
      "cell_type": "markdown",
      "metadata": {
        "id": "9VqRs_9DJcys"
      },
      "source": [
        "Standard scaler will not account the outliers so we use \"MinMaxScaler\""
      ]
    },
    {
      "cell_type": "code",
      "metadata": {
        "colab": {
          "base_uri": "https://localhost:8080/"
        },
        "id": "TACI-iQPK4HB",
        "outputId": "38a05899-0455-4570-9d91-c78ae70ef165"
      },
      "source": [
        "scaler=MinMaxScaler()\n",
        "scaled_data=scaler.fit_transform(df_in)\n",
        "scaled_data #Data is b/w 0 and 1"
      ],
      "execution_count": 525,
      "outputs": [
        {
          "output_type": "execute_result",
          "data": {
            "text/plain": [
              "array([[0.51123096],\n",
              "       [0.51122395],\n",
              "       [0.51126709],\n",
              "       ...,\n",
              "       [0.60749053],\n",
              "       [0.63883216],\n",
              "       [0.54838505]])"
            ]
          },
          "metadata": {
            "tags": []
          },
          "execution_count": 525
        }
      ]
    },
    {
      "cell_type": "code",
      "metadata": {
        "id": "EHRVZL67-23Q"
      },
      "source": [
        "features=scaled_data#Same time series is used in features and target data\n",
        "target=scaled_data"
      ],
      "execution_count": 526,
      "outputs": []
    },
    {
      "cell_type": "code",
      "metadata": {
        "colab": {
          "base_uri": "https://localhost:8080/"
        },
        "id": "gdU9vh5Y1Rk6",
        "outputId": "b5e04e5d-636f-4d38-fad8-a1c59980a870"
      },
      "source": [
        "features"
      ],
      "execution_count": 527,
      "outputs": [
        {
          "output_type": "execute_result",
          "data": {
            "text/plain": [
              "array([[0.51123096],\n",
              "       [0.51122395],\n",
              "       [0.51126709],\n",
              "       ...,\n",
              "       [0.60749053],\n",
              "       [0.63883216],\n",
              "       [0.54838505]])"
            ]
          },
          "metadata": {
            "tags": []
          },
          "execution_count": 527
        }
      ]
    },
    {
      "cell_type": "code",
      "metadata": {
        "colab": {
          "base_uri": "https://localhost:8080/"
        },
        "id": "n13ppy374nw4",
        "outputId": "9334e2db-9dd5-4b73-b18c-5218502b6a16"
      },
      "source": [
        "target"
      ],
      "execution_count": 528,
      "outputs": [
        {
          "output_type": "execute_result",
          "data": {
            "text/plain": [
              "array([[0.51123096],\n",
              "       [0.51122395],\n",
              "       [0.51126709],\n",
              "       ...,\n",
              "       [0.60749053],\n",
              "       [0.63883216],\n",
              "       [0.54838505]])"
            ]
          },
          "metadata": {
            "tags": []
          },
          "execution_count": 528
        }
      ]
    },
    {
      "cell_type": "code",
      "metadata": {
        "colab": {
          "base_uri": "https://localhost:8080/"
        },
        "id": "M5ernQerCqxJ",
        "outputId": "2c5b5052-77bc-4610-cb35-bef065d29215"
      },
      "source": [
        "features.shape"
      ],
      "execution_count": 529,
      "outputs": [
        {
          "output_type": "execute_result",
          "data": {
            "text/plain": [
              "(2959, 1)"
            ]
          },
          "metadata": {
            "tags": []
          },
          "execution_count": 529
        }
      ]
    },
    {
      "cell_type": "code",
      "metadata": {
        "colab": {
          "base_uri": "https://localhost:8080/"
        },
        "id": "v2f-RcLCGI1h",
        "outputId": "39654b5b-c602-4946-8ec1-25a6906b81e4"
      },
      "source": [
        "target.shape"
      ],
      "execution_count": 530,
      "outputs": [
        {
          "output_type": "execute_result",
          "data": {
            "text/plain": [
              "(2959, 1)"
            ]
          },
          "metadata": {
            "tags": []
          },
          "execution_count": 530
        }
      ]
    },
    {
      "cell_type": "code",
      "metadata": {
        "id": "dtRPCt8p4zlv"
      },
      "source": [
        "# Splitting the Training and Test data\n",
        "x_train,x_test,y_train,y_test = train_test_split(features,target,test_size=0.009,random_state=42,shuffle=False)"
      ],
      "execution_count": 531,
      "outputs": []
    },
    {
      "cell_type": "code",
      "metadata": {
        "colab": {
          "base_uri": "https://localhost:8080/"
        },
        "id": "FsE_C-8-cZDo",
        "outputId": "0e05a8ad-0b8e-4f05-f299-34d0165164f4"
      },
      "source": [
        "x_train.shape"
      ],
      "execution_count": 532,
      "outputs": [
        {
          "output_type": "execute_result",
          "data": {
            "text/plain": [
              "(2932, 1)"
            ]
          },
          "metadata": {
            "tags": []
          },
          "execution_count": 532
        }
      ]
    },
    {
      "cell_type": "code",
      "metadata": {
        "colab": {
          "base_uri": "https://localhost:8080/"
        },
        "id": "vyNB35PodnIC",
        "outputId": "0be3614d-21e3-424a-e2e7-dc1d42c87eab"
      },
      "source": [
        "x_test.shape #We wnant to predict the price of Bitcoin in the spam of one month"
      ],
      "execution_count": 533,
      "outputs": [
        {
          "output_type": "execute_result",
          "data": {
            "text/plain": [
              "(27, 1)"
            ]
          },
          "metadata": {
            "tags": []
          },
          "execution_count": 533
        }
      ]
    },
    {
      "cell_type": "code",
      "metadata": {
        "colab": {
          "base_uri": "https://localhost:8080/"
        },
        "id": "8eoCtq8Ldvbh",
        "outputId": "1aaa3b10-8d50-45c7-d743-2b9ed3290ae9"
      },
      "source": [
        "y_train.shape"
      ],
      "execution_count": 534,
      "outputs": [
        {
          "output_type": "execute_result",
          "data": {
            "text/plain": [
              "(2932, 1)"
            ]
          },
          "metadata": {
            "tags": []
          },
          "execution_count": 534
        }
      ]
    },
    {
      "cell_type": "code",
      "metadata": {
        "colab": {
          "base_uri": "https://localhost:8080/"
        },
        "id": "wAOUkH3md4CG",
        "outputId": "c46cdad7-05ca-4eea-deb0-6f18f212004e"
      },
      "source": [
        "y_test.shape"
      ],
      "execution_count": 535,
      "outputs": [
        {
          "output_type": "execute_result",
          "data": {
            "text/plain": [
              "(27, 1)"
            ]
          },
          "metadata": {
            "tags": []
          },
          "execution_count": 535
        }
      ]
    },
    {
      "cell_type": "code",
      "metadata": {
        "colab": {
          "base_uri": "https://localhost:8080/"
        },
        "id": "b9j3ETXxGdSQ",
        "outputId": "25eeaa98-3112-4028-aa20-7b800b68f60f"
      },
      "source": [
        "x_train = np.reshape(x_train, (len(x_train), 1, 1))\n",
        "x_train.shape"
      ],
      "execution_count": 536,
      "outputs": [
        {
          "output_type": "execute_result",
          "data": {
            "text/plain": [
              "(2932, 1, 1)"
            ]
          },
          "metadata": {
            "tags": []
          },
          "execution_count": 536
        }
      ]
    },
    {
      "cell_type": "code",
      "metadata": {
        "colab": {
          "base_uri": "https://localhost:8080/"
        },
        "id": "9I-ndviaFEGv",
        "outputId": "18df9c41-f034-4716-93ae-3a1e9f152f8d"
      },
      "source": [
        "x_test = np.reshape(x_test, (len(x_test), 1, 1))\n",
        "x_test.shape"
      ],
      "execution_count": 537,
      "outputs": [
        {
          "output_type": "execute_result",
          "data": {
            "text/plain": [
              "(27, 1, 1)"
            ]
          },
          "metadata": {
            "tags": []
          },
          "execution_count": 537
        }
      ]
    },
    {
      "cell_type": "markdown",
      "metadata": {
        "id": "7zPP11jhwiGr"
      },
      "source": [
        "### 6- Model Development and Compilation"
      ]
    },
    {
      "cell_type": "code",
      "metadata": {
        "colab": {
          "base_uri": "https://localhost:8080/"
        },
        "id": "i8zCLnThd5tf",
        "outputId": "22f80651-d2a8-4e18-cc43-99679e51f332"
      },
      "source": [
        "model = Sequential()\n",
        "# In following line of code,128 is LSTM output.We set\"return_sequences=True\" because we require hidden state for each of our input data otherwise it will return\n",
        "#only one hidden state for all the input data.it is time series data so we need to have hidde state for each and every observation.\n",
        "model.add(LSTM(128,input_shape=(5,1),return_sequences=True))#note that if we write batch dimension i.e \"input_shape=(None,1)\" here instead of \"input_shape=(5,1)\", than the model will be able to process batches of any size.\n",
        "model.add(LeakyReLU(alpha=0.5))\n",
        "model.add(LSTM(128, return_sequences=True))\n",
        "model.add(LeakyReLU(alpha=0.5))\n",
        "model.add(Dropout(0.3))\n",
        "model.add(LSTM(64, return_sequences=False))# return only single hidden state. If we want to further use other layers before final layer we can set it equel to true.\n",
        "model.add(Dropout(0.3))\n",
        "model.add(tf.keras.layers.Dense(1))\n",
        "print(model.summary())"
      ],
      "execution_count": 538,
      "outputs": [
        {
          "output_type": "stream",
          "text": [
            "Model: \"sequential_17\"\n",
            "_________________________________________________________________\n",
            "Layer (type)                 Output Shape              Param #   \n",
            "=================================================================\n",
            "lstm_53 (LSTM)               (None, 5, 128)            66560     \n",
            "_________________________________________________________________\n",
            "leaky_re_lu_22 (LeakyReLU)   (None, 5, 128)            0         \n",
            "_________________________________________________________________\n",
            "lstm_54 (LSTM)               (None, 5, 128)            131584    \n",
            "_________________________________________________________________\n",
            "leaky_re_lu_23 (LeakyReLU)   (None, 5, 128)            0         \n",
            "_________________________________________________________________\n",
            "dropout_33 (Dropout)         (None, 5, 128)            0         \n",
            "_________________________________________________________________\n",
            "lstm_55 (LSTM)               (None, 64)                49408     \n",
            "_________________________________________________________________\n",
            "dropout_34 (Dropout)         (None, 64)                0         \n",
            "_________________________________________________________________\n",
            "dense_16 (Dense)             (None, 1)                 65        \n",
            "=================================================================\n",
            "Total params: 247,617\n",
            "Trainable params: 247,617\n",
            "Non-trainable params: 0\n",
            "_________________________________________________________________\n",
            "None\n"
          ],
          "name": "stdout"
        }
      ]
    },
    {
      "cell_type": "code",
      "metadata": {
        "id": "cKpUMk1mZBYo"
      },
      "source": [
        "# Early stopping is if our validation loss is not improving then it will stop the training earlier.it will observe equal to number of iterations equal to 'patience' for validation loss improvement.\n",
        "#earl_stop=EarlyStopping(monitor=\"val_loss\",patience=5,mode='min')"
      ],
      "execution_count": 539,
      "outputs": []
    },
    {
      "cell_type": "code",
      "metadata": {
        "id": "fABN0W4w8F3u"
      },
      "source": [
        "#Compiling the model\n",
        "model.compile(loss='mse', optimizer='adam', metrics=['mae'])\n",
        "#or\n",
        "#model.compile(loss = MeanSquaredError(), optimizer=Adam(),metrics =[MeanAbsoluteError()])"
      ],
      "execution_count": 540,
      "outputs": []
    },
    {
      "cell_type": "markdown",
      "metadata": {
        "id": "1QbQkd6Cwvr1"
      },
      "source": [
        "### 7-Model Training "
      ]
    },
    {
      "cell_type": "code",
      "metadata": {
        "colab": {
          "base_uri": "https://localhost:8080/"
        },
        "id": "a_LpEVrG96bP",
        "outputId": "e3f55645-38c2-4103-92c5-881e9c49dda8"
      },
      "source": [
        "epochs=30\n",
        "batch_size=5\n",
        "#Training our model\n",
        "history=model.fit(x_train, y_train, batch_size = batch_size,validation_data=(x_test, y_test), epochs=epochs,shuffle=False)#if we introduce callback above than we have to add \"callbacks=earl_stop\" here."
      ],
      "execution_count": 541,
      "outputs": [
        {
          "output_type": "stream",
          "text": [
            "Epoch 1/30\n",
            "WARNING:tensorflow:Model was constructed with shape (None, 5, 1) for input KerasTensor(type_spec=TensorSpec(shape=(None, 5, 1), dtype=tf.float32, name='lstm_53_input'), name='lstm_53_input', description=\"created by layer 'lstm_53_input'\"), but it was called on an input with incompatible shape (None, 1, 1).\n",
            "WARNING:tensorflow:Model was constructed with shape (None, 5, 1) for input KerasTensor(type_spec=TensorSpec(shape=(None, 5, 1), dtype=tf.float32, name='lstm_53_input'), name='lstm_53_input', description=\"created by layer 'lstm_53_input'\"), but it was called on an input with incompatible shape (None, 1, 1).\n",
            "582/587 [============================>.] - ETA: 0s - loss: 0.0407 - mae: 0.1237WARNING:tensorflow:Model was constructed with shape (None, 5, 1) for input KerasTensor(type_spec=TensorSpec(shape=(None, 5, 1), dtype=tf.float32, name='lstm_53_input'), name='lstm_53_input', description=\"created by layer 'lstm_53_input'\"), but it was called on an input with incompatible shape (None, 1, 1).\n",
            "587/587 [==============================] - 10s 8ms/step - loss: 0.0404 - mae: 0.1230 - val_loss: 0.0092 - val_mae: 0.0718\n",
            "Epoch 2/30\n",
            "587/587 [==============================] - 4s 6ms/step - loss: 0.0020 - mae: 0.0355 - val_loss: 0.0072 - val_mae: 0.0619\n",
            "Epoch 3/30\n",
            "587/587 [==============================] - 4s 6ms/step - loss: 0.0017 - mae: 0.0333 - val_loss: 0.0045 - val_mae: 0.0573\n",
            "Epoch 4/30\n",
            "587/587 [==============================] - 4s 6ms/step - loss: 0.0012 - mae: 0.0280 - val_loss: 5.1903e-04 - val_mae: 0.0147\n",
            "Epoch 5/30\n",
            "587/587 [==============================] - 3s 6ms/step - loss: 9.5546e-04 - mae: 0.0247 - val_loss: 1.0888e-04 - val_mae: 0.0085\n",
            "Epoch 6/30\n",
            "587/587 [==============================] - 4s 6ms/step - loss: 6.2789e-04 - mae: 0.0201 - val_loss: 3.0948e-04 - val_mae: 0.0170\n",
            "Epoch 7/30\n",
            "587/587 [==============================] - 3s 6ms/step - loss: 4.5698e-04 - mae: 0.0171 - val_loss: 3.7957e-05 - val_mae: 0.0042\n",
            "Epoch 8/30\n",
            "587/587 [==============================] - 4s 6ms/step - loss: 2.8386e-04 - mae: 0.0134 - val_loss: 1.5081e-04 - val_mae: 0.0075\n",
            "Epoch 9/30\n",
            "587/587 [==============================] - 4s 6ms/step - loss: 1.9936e-04 - mae: 0.0111 - val_loss: 1.3541e-04 - val_mae: 0.0109\n",
            "Epoch 10/30\n",
            "587/587 [==============================] - 4s 6ms/step - loss: 1.4938e-04 - mae: 0.0097 - val_loss: 5.8854e-04 - val_mae: 0.0218\n",
            "Epoch 11/30\n",
            "587/587 [==============================] - 3s 6ms/step - loss: 1.1014e-04 - mae: 0.0081 - val_loss: 4.9639e-05 - val_mae: 0.0066\n",
            "Epoch 12/30\n",
            "587/587 [==============================] - 3s 6ms/step - loss: 5.4066e-05 - mae: 0.0058 - val_loss: 1.1895e-04 - val_mae: 0.0093\n",
            "Epoch 13/30\n",
            "587/587 [==============================] - 4s 6ms/step - loss: 4.1970e-05 - mae: 0.0047 - val_loss: 5.8598e-05 - val_mae: 0.0054\n",
            "Epoch 14/30\n",
            "587/587 [==============================] - 4s 6ms/step - loss: 2.1298e-05 - mae: 0.0035 - val_loss: 8.1772e-05 - val_mae: 0.0078\n",
            "Epoch 15/30\n",
            "587/587 [==============================] - 4s 6ms/step - loss: 4.7197e-05 - mae: 0.0047 - val_loss: 5.1870e-04 - val_mae: 0.0204\n",
            "Epoch 16/30\n",
            "587/587 [==============================] - 4s 6ms/step - loss: 1.4671e-05 - mae: 0.0024 - val_loss: 1.7405e-04 - val_mae: 0.0126\n",
            "Epoch 17/30\n",
            "587/587 [==============================] - 4s 6ms/step - loss: 2.5983e-05 - mae: 0.0033 - val_loss: 3.2310e-04 - val_mae: 0.0168\n",
            "Epoch 18/30\n",
            "587/587 [==============================] - 4s 6ms/step - loss: 3.2463e-05 - mae: 0.0035 - val_loss: 3.1630e-04 - val_mae: 0.0170\n",
            "Epoch 19/30\n",
            "587/587 [==============================] - 3s 6ms/step - loss: 2.2812e-05 - mae: 0.0030 - val_loss: 9.5351e-05 - val_mae: 0.0089\n",
            "Epoch 20/30\n",
            "587/587 [==============================] - 4s 6ms/step - loss: 1.3487e-05 - mae: 0.0023 - val_loss: 2.0981e-04 - val_mae: 0.0125\n",
            "Epoch 21/30\n",
            "587/587 [==============================] - 4s 6ms/step - loss: 4.1122e-05 - mae: 0.0043 - val_loss: 3.6721e-04 - val_mae: 0.0181\n",
            "Epoch 22/30\n",
            "587/587 [==============================] - 4s 6ms/step - loss: 2.5052e-05 - mae: 0.0030 - val_loss: 1.8567e-05 - val_mae: 0.0038\n",
            "Epoch 23/30\n",
            "587/587 [==============================] - 4s 6ms/step - loss: 1.9450e-05 - mae: 0.0028 - val_loss: 4.6479e-04 - val_mae: 0.0205\n",
            "Epoch 24/30\n",
            "587/587 [==============================] - 4s 6ms/step - loss: 2.4671e-05 - mae: 0.0031 - val_loss: 2.4507e-04 - val_mae: 0.0116\n",
            "Epoch 25/30\n",
            "587/587 [==============================] - 4s 6ms/step - loss: 4.5953e-05 - mae: 0.0039 - val_loss: 1.4905e-04 - val_mae: 0.0108\n",
            "Epoch 26/30\n",
            "587/587 [==============================] - 4s 6ms/step - loss: 3.0837e-05 - mae: 0.0034 - val_loss: 1.0444e-04 - val_mae: 0.0089\n",
            "Epoch 27/30\n",
            "587/587 [==============================] - 4s 6ms/step - loss: 1.6260e-05 - mae: 0.0025 - val_loss: 1.5620e-05 - val_mae: 0.0031\n",
            "Epoch 28/30\n",
            "587/587 [==============================] - 4s 6ms/step - loss: 9.8250e-06 - mae: 0.0020 - val_loss: 6.8447e-04 - val_mae: 0.0239\n",
            "Epoch 29/30\n",
            "587/587 [==============================] - 4s 6ms/step - loss: 6.2036e-05 - mae: 0.0043 - val_loss: 4.3186e-04 - val_mae: 0.0184\n",
            "Epoch 30/30\n",
            "587/587 [==============================] - 4s 6ms/step - loss: 5.9586e-05 - mae: 0.0045 - val_loss: 3.4674e-04 - val_mae: 0.0147\n"
          ],
          "name": "stdout"
        }
      ]
    },
    {
      "cell_type": "code",
      "metadata": {
        "id": "yuRUeWQCJ1c-"
      },
      "source": [
        "#saving the model\n",
        "\n",
        "#model_json = model.to_json()\n",
        "#with open(\"model_final.json\", \"w\") as json_file:\n",
        "#    json_file.write(model_json)\n",
        "#model.save_weights(\"final_model.h5\")"
      ],
      "execution_count": 542,
      "outputs": []
    },
    {
      "cell_type": "markdown",
      "metadata": {
        "id": "X7pWOdfJw75n"
      },
      "source": [
        "### 8-Model Evaluation and Prediction"
      ]
    },
    {
      "cell_type": "code",
      "metadata": {
        "id": "s28SVk3jPt_C"
      },
      "source": [
        "\n",
        "def plot_learning_curve(history,epoch):\n",
        "    #plots value of training accuracy and the validation accuracy\n",
        "    epoch_range=range(1,epoch+1)\n",
        "    plt.plot(epoch_range,history.history['mae'])\n",
        "    plt.plot(epoch_range,history.history['val_mae'])\n",
        "    plt.title('Model accuracy')\n",
        "    plt.ylabel('Accuracy')\n",
        "    plt.xlabel('Epoch')\n",
        "    plt.legend(['Train','Val'],loc='upper left')\n",
        "    plt.show()\n",
        "    \n",
        "    #plots the value of training loss and validation accuracy loss\n",
        "    plt.plot(epoch_range,history.history['loss'])\n",
        "    plt.plot(epoch_range,history.history['val_loss'])\n",
        "    plt.title('Model loss')\n",
        "    plt.ylabel('')\n",
        "    plt.xlabel('Epoch')\n",
        "    plt.legend(['Train','Val'],loc='upper left')"
      ],
      "execution_count": 543,
      "outputs": []
    },
    {
      "cell_type": "code",
      "metadata": {
        "id": "mjPXrrEOUirM",
        "colab": {
          "base_uri": "https://localhost:8080/",
          "height": 573
        },
        "outputId": "4d6e03e2-65d7-4a28-e36d-d662988601a1"
      },
      "source": [
        "learning_curve = plot_learning_curve(history,epochs)"
      ],
      "execution_count": 544,
      "outputs": [
        {
          "output_type": "display_data",
          "data": {
            "image/png": "[encoded data removed]",
            "text/plain": [
              "<Figure size 432x288 with 1 Axes>"
            ]
          },
          "metadata": {
            "tags": [],
            "needs_background": "light"
          }
        },
        {
          "output_type": "display_data",
          "data": {
            "image/png": "[encoded data removed]",
            "text/plain": [
              "<Figure size 432x288 with 1 Axes>"
            ]
          },
          "metadata": {
            "tags": [],
            "needs_background": "light"
          }
        }
      ]
    },
    {
      "cell_type": "code",
      "metadata": {
        "colab": {
          "base_uri": "https://localhost:8080/",
          "height": 336
        },
        "id": "8ySPJXPiKLgG",
        "outputId": "8a3b9e76-77b2-4cd8-efc4-38871d917a42"
      },
      "source": [
        "y_pred = model.predict(x_test)\n",
        "plt.plot(scaler.inverse_transform(y_test.reshape(-1, 1)))\n",
        "plt.plot(scaler.inverse_transform(y_pred))\n",
        "plt.legend(['y_test', 'y_predict'])"
      ],
      "execution_count": 545,
      "outputs": [
        {
          "output_type": "stream",
          "text": [
            "WARNING:tensorflow:Model was constructed with shape (None, 5, 1) for input KerasTensor(type_spec=TensorSpec(shape=(None, 5, 1), dtype=tf.float32, name='lstm_53_input'), name='lstm_53_input', description=\"created by layer 'lstm_53_input'\"), but it was called on an input with incompatible shape (None, 1, 1).\n",
            "WARNING:tensorflow:11 out of the last 11 calls to <function Model.make_predict_function.<locals>.predict_function at 0x7f9ac3edbc20> triggered tf.function retracing. Tracing is expensive and the excessive number of tracings could be due to (1) creating @tf.function repeatedly in a loop, (2) passing tensors with different shapes, (3) passing Python objects instead of tensors. For (1), please define your @tf.function outside of the loop. For (2), @tf.function has experimental_relax_shapes=True option that relaxes argument shapes that can avoid unnecessary retracing. For (3), please refer to https://www.tensorflow.org/guide/function#controlling_retracing and https://www.tensorflow.org/api_docs/python/tf/function for  more details.\n"
          ],
          "name": "stdout"
        },
        {
          "output_type": "execute_result",
          "data": {
            "text/plain": [
              "<matplotlib.legend.Legend at 0x7f9ae7f0a1d0>"
            ]
          },
          "metadata": {
            "tags": []
          },
          "execution_count": 545
        },
        {
          "output_type": "display_data",
          "data": {
            "image/png": "[encoded data removed]",
            "text/plain": [
              "<Figure size 432x288 with 1 Axes>"
            ]
          },
          "metadata": {
            "tags": [],
            "needs_background": "light"
          }
        }
      ]
    },
    {
      "cell_type": "code",
      "metadata": {
        "colab": {
          "base_uri": "https://localhost:8080/"
        },
        "id": "72t7tyy65eHG",
        "outputId": "e0b76f3f-befe-40d2-bb44-088dcbb143c2"
      },
      "source": [
        "print('Some Predicted values= ',y_pred[10:20], 'Real values=  ',y_test[10:20])"
      ],
      "execution_count": 549,
      "outputs": [
        {
          "output_type": "stream",
          "text": [
            "Some Predicted values=  [[0.27614057]\n",
            " [0.34427577]\n",
            " [0.5798975 ]\n",
            " [0.68812   ]\n",
            " [0.50351375]\n",
            " [0.5555162 ]\n",
            " [0.40124074]\n",
            " [0.47611272]\n",
            " [0.35170612]\n",
            " [0.54955894]] Real values=   [[0.24862177]\n",
            " [0.31811106]\n",
            " [0.5840814 ]\n",
            " [0.71731742]\n",
            " [0.49440914]\n",
            " [0.55540223]\n",
            " [0.3805264 ]\n",
            " [0.46440378]\n",
            " [0.32560785]\n",
            " [0.54866731]]\n"
          ],
          "name": "stdout"
        }
      ]
    }
  ]
}